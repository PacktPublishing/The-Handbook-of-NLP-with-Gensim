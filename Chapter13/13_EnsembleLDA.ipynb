{
  "cells": [
    {
      "cell_type": "markdown",
      "metadata": {
        "id": "WW5Meb8ooJBg"
      },
      "source": [
        "## Ensemble LDA"
      ]
    },
    {
      "cell_type": "code",
      "execution_count": null,
      "metadata": {
        "colab": {
          "base_uri": "https://localhost:8080/"
        },
        "id": "TaSy2vkjoeM1",
        "outputId": "85aa08d9-c2c0-463e-dffc-ac156ca8faa5"
      },
      "outputs": [
        {
          "name": "stdout",
          "output_type": "stream",
          "text": [
            "Mounted at /content/gdrive\n"
          ]
        }
      ],
      "source": [
        "from google.colab import drive\n",
        "drive.mount('/content/gdrive')"
      ]
    },
    {
      "cell_type": "code",
      "execution_count": null,
      "metadata": {
        "colab": {
          "base_uri": "https://localhost:8080/"
        },
        "id": "OtYwTu5xoHjs",
        "outputId": "50027b20-ac17-41a3-bcbb-ef68a33edb9e"
      },
      "outputs": [
        {
          "name": "stderr",
          "output_type": "stream",
          "text": [
            "<ipython-input-5-ff92c4043bad>:3: FutureWarning: Passing a negative integer is deprecated in version 1.0 and will not be supported in future version. Instead, use None to not limit the column width.\n",
            "  pd.set_option('display.max_colwidth', -1)\n"
          ]
        }
      ],
      "source": [
        "import pandas as pd\n",
        "import numpy as np\n",
        "pd.set_option('display.max_colwidth', -1)\n",
        "path = \"/content/gdrive/My Drive/data/gensim\"\n",
        "train = pd.read_csv(path + \"/ag_news_train.csv\")"
      ]
    },
    {
      "cell_type": "code",
      "execution_count": null,
      "metadata": {
        "colab": {
          "base_uri": "https://localhost:8080/"
        },
        "id": "BuF73ybwoHl8",
        "outputId": "96ffff6f-26f4-4f41-a30d-a2e2cf9885ff"
      },
      "outputs": [
        {
          "data": {
            "text/plain": [
              "[['reuter',\n",
              "  'short',\n",
              "  'seller',\n",
              "  'wall',\n",
              "  'street',\n",
              "  'dwindl',\n",
              "  'band',\n",
              "  'ultra',\n",
              "  'cynic',\n",
              "  'see',\n",
              "  'green'],\n",
              " ['reuter',\n",
              "  'privat',\n",
              "  'invest',\n",
              "  'firm',\n",
              "  'carlyl',\n",
              "  'group',\n",
              "  'reput',\n",
              "  'make',\n",
              "  'time',\n",
              "  'occasion',\n",
              "  'controversi',\n",
              "  'plai',\n",
              "  'defens',\n",
              "  'industri',\n",
              "  'quietli',\n",
              "  'place',\n",
              "  'bet',\n",
              "  'market'],\n",
              " ['reuter',\n",
              "  'soar',\n",
              "  'crude',\n",
              "  'price',\n",
              "  'plu',\n",
              "  'worri',\n",
              "  'economi',\n",
              "  'outlook',\n",
              "  'earn',\n",
              "  'expect',\n",
              "  'hang',\n",
              "  'stock',\n",
              "  'market',\n",
              "  'week',\n",
              "  'depth',\n",
              "  'summer',\n",
              "  'doldrum']]"
            ]
          },
          "execution_count": 6,
          "metadata": {},
          "output_type": "execute_result"
        }
      ],
      "source": [
        "from gensim.parsing.preprocessing import preprocess_string\n",
        "text_tokenized = []\n",
        "for doc in train['Description']:\n",
        "   k = preprocess_string(doc)\n",
        "   text_tokenized.append(k)\n",
        "text_tokenized[0:3]\n"
      ]
    },
    {
      "cell_type": "code",
      "execution_count": null,
      "metadata": {
        "colab": {
          "base_uri": "https://localhost:8080/"
        },
        "id": "MUOWLu-UoHoU",
        "outputId": "e8b4a799-8eba-49d4-97a1-4fa89f2af77b"
      },
      "outputs": [
        {
          "name": "stdout",
          "output_type": "stream",
          "text": [
            "[[(0, 1), (1, 1), (2, 1), (3, 1), (4, 1), (5, 1), (6, 1), (7, 1), (8, 1), (9, 1), (10, 1)], [(4, 1), (11, 1), (12, 1), (13, 1), (14, 1), (15, 1), (16, 1), (17, 1), (18, 1), (19, 1), (20, 1), (21, 1), (22, 1), (23, 1), (24, 1), (25, 1), (26, 1), (27, 1)], [(4, 1), (20, 1), (28, 1), (29, 1), (30, 1), (31, 1), (32, 1), (33, 1), (34, 1), (35, 1), (36, 1), (37, 1), (38, 1), (39, 1), (40, 1), (41, 1), (42, 1)]]\n"
          ]
        },
        {
          "name": "stderr",
          "output_type": "stream",
          "text": [
            "IOPub data rate exceeded.\n",
            "The notebook server will temporarily stop sending output\n",
            "to the client in order to avoid crashing it.\n",
            "To change this limit, set the config variable\n",
            "`--NotebookApp.iopub_data_rate_limit`.\n",
            "\n",
            "Current values:\n",
            "NotebookApp.iopub_data_rate_limit=1000000.0 (bytes/sec)\n",
            "NotebookApp.rate_limit_window=3.0 (secs)\n",
            "\n"
          ]
        }
      ],
      "source": [
        "from gensim.corpora import Dictionary\n",
        "gensim_dictionary = Dictionary()\n",
        "bow_corpus = [gensim_dictionary.doc2bow(doc, allow_update=True) for doc in text_tokenized]\n",
        "print(bow_corpus[:3])\n",
        "id_words = [[(gensim_dictionary[id], count) for id, count in line] for line in bow_corpus]\n",
        "print(id_words)"
      ]
    },
    {
      "cell_type": "code",
      "execution_count": null,
      "metadata": {
        "colab": {
          "base_uri": "https://localhost:8080/"
        },
        "id": "-lJEQmR5oHqk",
        "outputId": "a00985ea-2d1b-481c-f2ad-11550fc33fd9"
      },
      "outputs": [
        {
          "name": "stdout",
          "output_type": "stream",
          "text": [
            "<gensim.interfaces.TransformedCorpus object at 0x79ed83e13d90>\n"
          ]
        },
        {
          "name": "stderr",
          "output_type": "stream",
          "text": [
            "IOPub data rate exceeded.\n",
            "The notebook server will temporarily stop sending output\n",
            "to the client in order to avoid crashing it.\n",
            "To change this limit, set the config variable\n",
            "`--NotebookApp.iopub_data_rate_limit`.\n",
            "\n",
            "Current values:\n",
            "NotebookApp.iopub_data_rate_limit=1000000.0 (bytes/sec)\n",
            "NotebookApp.rate_limit_window=3.0 (secs)\n",
            "\n"
          ]
        }
      ],
      "source": [
        "from gensim.models import TfidfModel\n",
        "tfidf = TfidfModel(bow_corpus) #, smartirs=’npu’)\n",
        "tfidf_corpus = tfidf[bow_corpus]\n",
        "print(tfidf_corpus[:3])\n",
        "id_words = [[(gensim_dictionary[id], count) for id, count in line] for line in bow_corpus]\n",
        "print(id_words)\n"
      ]
    },
    {
      "cell_type": "code",
      "execution_count": null,
      "metadata": {
        "id": "12UP77UNoHtE"
      },
      "outputs": [],
      "source": []
    },
    {
      "cell_type": "markdown",
      "metadata": {
        "id": "e-ubUHNfo-_C"
      },
      "source": [
        "### Save the file"
      ]
    },
    {
      "cell_type": "code",
      "execution_count": null,
      "metadata": {
        "id": "g_T0NiHVo96y"
      },
      "outputs": [],
      "source": [
        "from gensim.test.utils import datapath\n",
        "dict_file = datapath(path + \"/gensim_dictionary_AGnews\")\n",
        "gensim_dictionary.save(dict_file)\n"
      ]
    },
    {
      "cell_type": "code",
      "execution_count": null,
      "metadata": {
        "colab": {
          "base_uri": "https://localhost:8080/"
        },
        "id": "NXkn6Lz4o99B",
        "outputId": "60e51507-cc5c-4f51-e5c1-743b780820ba"
      },
      "outputs": [
        {
          "data": {
            "text/plain": [
              "[(0, 1.0),\n",
              " (1, 1.0),\n",
              " (2, 1.0),\n",
              " (3, 1.0),\n",
              " (4, 1.0),\n",
              " (5, 1.0),\n",
              " (6, 1.0),\n",
              " (7, 1.0),\n",
              " (8, 1.0),\n",
              " (9, 1.0),\n",
              " (10, 1.0)]"
            ]
          },
          "execution_count": 10,
          "metadata": {},
          "output_type": "execute_result"
        }
      ],
      "source": [
        "from gensim import corpora\n",
        "# Save in the matrix market format\n",
        "corpora.MmCorpus.serialize(path + \"/BoW_AGnews_corpus.mm\", bow_corpus)\n",
        "# Load\n",
        "bow_corpus = corpora.MmCorpus(path + \"/BoW_AGnews_corpus.mm\")\n",
        "bow_corpus[0]\n"
      ]
    },
    {
      "cell_type": "code",
      "execution_count": null,
      "metadata": {
        "colab": {
          "base_uri": "https://localhost:8080/"
        },
        "id": "qJCI4p1Fo9_T",
        "outputId": "be2dd3dd-671f-4499-9e5c-d4da8df20249"
      },
      "outputs": [
        {
          "data": {
            "text/plain": [
              "[(0, 1.0),\n",
              " (1, 1.0),\n",
              " (2, 1.0),\n",
              " (3, 1.0),\n",
              " (4, 1.0),\n",
              " (5, 1.0),\n",
              " (6, 1.0),\n",
              " (7, 1.0),\n",
              " (8, 1.0),\n",
              " (9, 1.0),\n",
              " (10, 1.0)]"
            ]
          },
          "execution_count": 11,
          "metadata": {},
          "output_type": "execute_result"
        }
      ],
      "source": [
        "import pickle\n",
        "file = open(path + \"/BoW_AGnews_corpus.pkl\", 'wb')\n",
        "pickle.dump(bow_corpus, file)\n",
        "file.close()\n",
        "# open a file, where you stored the pickled data\n",
        "file = open(path + \"/BoW_AGnews_corpus.pkl\", 'rb')\n",
        "bow_corpus = pickle.load(file)\n",
        "# close the file\n",
        "file.close()\n",
        "bow_corpus[0]\n"
      ]
    },
    {
      "cell_type": "markdown",
      "metadata": {
        "id": "rki5P-n6pXh5"
      },
      "source": [
        "### Build the Ensemble model"
      ]
    },
    {
      "cell_type": "code",
      "execution_count": 13,
      "metadata": {
        "colab": {
          "base_uri": "https://localhost:8080/"
        },
        "id": "b9iN1YxhpOwb",
        "outputId": "974dd18e-b762-4f99-cd08-124f730df5c6"
      },
      "outputs": [
        {
          "output_type": "stream",
          "name": "stderr",
          "text": [
            "WARNING:gensim.models.ldamulticore:too few updates, training might not converge; consider increasing the number of passes or iterations to improve accuracy\n",
            "WARNING:gensim.models.ldamulticore:too few updates, training might not converge; consider increasing the number of passes or iterations to improve accuracy\n"
          ]
        }
      ],
      "source": [
        "from gensim.corpora.dictionary import Dictionary\n",
        "from gensim.models import ensemblelda\n",
        "elda_bow = ensemblelda.EnsembleLda(corpus=bow_corpus, id2word=gensim_dictionary, num_topics=100)\n",
        "elda_tfidf = ensemblelda.EnsembleLda(corpus=tfidf_corpus, id2word=gensim_dictionary, num_topics=100)\n"
      ]
    },
    {
      "cell_type": "code",
      "execution_count": 14,
      "metadata": {
        "id": "T-4jhkofpOy-"
      },
      "outputs": [],
      "source": [
        "from gensim.test.utils import datapath\n",
        "# Save the eLDA model trained on BOW data\n",
        "elda_bow_file = datapath(path + \"/eLDA_bow_AGnews\")\n",
        "elda_bow.save(elda_bow_file)\n",
        "# Save the eLDA model trained on TF-IDF data\n",
        "elda_tfidf_file = datapath(path + \"/eLDA_tfidf_AGnews\")\n",
        "elda_tfidf.save(elda_tfidf_file)\n"
      ]
    },
    {
      "cell_type": "code",
      "execution_count": 15,
      "metadata": {
        "id": "GTZvn27cpO1Q",
        "colab": {
          "base_uri": "https://localhost:8080/"
        },
        "outputId": "05d7cc8d-2527-4378-e82a-2c4b286c1e01"
      },
      "outputs": [
        {
          "output_type": "stream",
          "name": "stdout",
          "text": [
            "[(0,\n",
            "  '0.092*\"reuter\" + 0.085*\"fullquot\" + 0.076*\"stock\" + 0.068*\"target\" + '\n",
            "  '0.068*\"com\" + 0.061*\"investor\" + 0.055*\"ticker\" + 0.055*\"http\" + '\n",
            "  '0.052*\"www\" + 0.051*\"href\"'),\n",
            " (1,\n",
            "  '0.366*\"quot\" + 0.070*\"research\" + 0.039*\"said\" + 0.029*\"profil\" + '\n",
            "  '0.016*\"decid\" + 0.014*\"new\" + 0.012*\"winter\" + 0.012*\"sai\" + 0.009*\"presid\" '\n",
            "  '+ 0.009*\"carri\"')]\n"
          ]
        },
        {
          "output_type": "execute_result",
          "data": {
            "text/plain": [
              "2"
            ]
          },
          "metadata": {},
          "execution_count": 15
        }
      ],
      "source": [
        "import pprint as pp\n",
        "pp.pprint(elda_bow.print_topics())\n",
        "len(elda_bow.print_topics())"
      ]
    },
    {
      "cell_type": "code",
      "execution_count": 16,
      "metadata": {
        "id": "0j8eBAJTpO3E",
        "colab": {
          "base_uri": "https://localhost:8080/"
        },
        "outputId": "102bbb94-e336-4bad-e23b-02418dc2da9b"
      },
      "outputs": [
        {
          "output_type": "execute_result",
          "data": {
            "text/plain": [
              "[(0, 0.25289607), (1, 0.7471039)]"
            ]
          },
          "metadata": {},
          "execution_count": 16
        }
      ],
      "source": [
        "# Create a new corpus, made of previously unseen documents.\n",
        "other_texts = [\n",
        "    ['champion', 'hockei', 'qualifi'],\n",
        "    ['survey', 'tournament', 'world']\n",
        "]\n",
        "\n",
        "other_corpus = [gensim_dictionary.doc2bow(text) for text in other_texts]\n",
        "unseen_doc = other_corpus[0]\n",
        "vector = elda_bow[unseen_doc]  # get topic probability distribution for a document\n",
        "vector"
      ]
    },
    {
      "cell_type": "code",
      "execution_count": 16,
      "metadata": {
        "id": "LnEw30zOpO5E"
      },
      "outputs": [],
      "source": []
    },
    {
      "cell_type": "code",
      "execution_count": null,
      "metadata": {
        "id": "ismQbSSqpO7r"
      },
      "outputs": [],
      "source": []
    }
  ],
  "metadata": {
    "colab": {
      "provenance": []
    },
    "kernelspec": {
      "display_name": "Python 3",
      "name": "python3"
    },
    "language_info": {
      "name": "python"
    }
  },
  "nbformat": 4,
  "nbformat_minor": 0
}