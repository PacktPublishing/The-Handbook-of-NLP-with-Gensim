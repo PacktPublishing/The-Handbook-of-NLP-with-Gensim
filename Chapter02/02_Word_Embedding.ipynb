{
  "cells": [
    {
      "cell_type": "markdown",
      "metadata": {
        "id": "QTIQcF4VOuYS"
      },
      "source": [
        "#(2) Word Embedding"
      ]
    },
    {
      "cell_type": "code",
      "source": [
        "!pip freeze > requirements.txt"
      ],
      "metadata": {
        "id": "Q3lQ9JdwT3Kc"
      },
      "execution_count": 49,
      "outputs": []
    },
    {
      "cell_type": "code",
      "source": [
        "!pip install session-info\n",
        "\n",
        "import session_info\n",
        "session_info.show()"
      ],
      "metadata": {
        "colab": {
          "base_uri": "https://localhost:8080/",
          "height": 65
        },
        "id": "s0bIRqIFX8ij",
        "outputId": "a2972f78-cff4-44f8-97eb-7b4d68be3614"
      },
      "execution_count": 53,
      "outputs": [
        {
          "output_type": "stream",
          "name": "stdout",
          "text": [
            "Requirement already satisfied: session-info in /usr/local/lib/python3.10/dist-packages (1.0.0)\n",
            "Requirement already satisfied: stdlib-list in /usr/local/lib/python3.10/dist-packages (from session-info) (0.9.0)\n"
          ]
        },
        {
          "output_type": "execute_result",
          "data": {
            "text/plain": [
              "<IPython.core.display.HTML object>"
            ],
            "text/html": [
              "<details>\n",
              "<summary>Click to view session information</summary>\n",
              "<pre>\n",
              "-----\n",
              "gensim              4.3.1\n",
              "nltk                3.8.1\n",
              "numpy               1.23.5\n",
              "scipy               1.10.1\n",
              "session_info        1.0.0\n",
              "sklearn             1.2.2\n",
              "-----\n",
              "</pre>\n",
              "<details>\n",
              "<summary>Click to view modules imported as dependencies</summary>\n",
              "<pre>\n",
              "PIL                 9.4.0\n",
              "backcall            0.2.0\n",
              "cachetools          5.3.1\n",
              "certifi             2023.07.22\n",
              "cffi                1.15.1\n",
              "chardet             5.2.0\n",
              "charset_normalizer  3.2.0\n",
              "cryptography        41.0.3\n",
              "cycler              0.10.0\n",
              "cython_runtime      NA\n",
              "dateutil            2.8.2\n",
              "debugpy             1.6.6\n",
              "decorator           4.4.2\n",
              "defusedxml          0.7.1\n",
              "google              NA\n",
              "grpc                1.57.0\n",
              "grpc_status         NA\n",
              "httplib2            0.22.0\n",
              "idna                3.4\n",
              "ipykernel           5.5.6\n",
              "ipython_genutils    0.2.0\n",
              "joblib              1.3.2\n",
              "kiwisolver          1.4.4\n",
              "matplotlib          3.7.1\n",
              "matplotlib_inline   0.1.6\n",
              "mpl_toolkits        NA\n",
              "packaging           23.1\n",
              "pexpect             4.8.0\n",
              "pickleshare         0.7.5\n",
              "pkg_resources       NA\n",
              "platformdirs        3.10.0\n",
              "portpicker          NA\n",
              "prompt_toolkit      3.0.39\n",
              "psutil              5.9.5\n",
              "ptyprocess          0.7.0\n",
              "pydev_ipython       NA\n",
              "pydevconsole        NA\n",
              "pydevd              2.9.5\n",
              "pydevd_file_utils   NA\n",
              "pydevd_plugins      NA\n",
              "pydevd_tracing      NA\n",
              "pygments            2.16.1\n",
              "pyparsing           3.1.1\n",
              "regex               2.5.129\n",
              "requests            2.31.0\n",
              "setuptools          67.7.2\n",
              "sitecustomize       NA\n",
              "six                 1.16.0\n",
              "smart_open          6.3.0\n",
              "socks               1.7.1\n",
              "sphinxcontrib       NA\n",
              "storemagic          NA\n",
              "threadpoolctl       3.2.0\n",
              "tornado             6.3.2\n",
              "traitlets           5.7.1\n",
              "typing_extensions   NA\n",
              "urllib3             2.0.4\n",
              "wcwidth             0.2.6\n",
              "zmq                 23.2.1\n",
              "</pre>\n",
              "</details> <!-- seems like this ends pre, so might as well be explicit -->\n",
              "<pre>\n",
              "-----\n",
              "IPython             7.34.0\n",
              "jupyter_client      6.1.12\n",
              "jupyter_core        5.3.1\n",
              "notebook            6.5.5\n",
              "-----\n",
              "Python 3.10.12 (main, Jun 11 2023, 05:26:28) [GCC 11.4.0]\n",
              "Linux-5.15.109+-x86_64-with-glibc2.35\n",
              "-----\n",
              "Session information updated at 2023-09-06 16:44\n",
              "</pre>\n",
              "</details>"
            ]
          },
          "metadata": {},
          "execution_count": 53
        }
      ]
    },
    {
      "cell_type": "code",
      "source": [
        "import session_info\n",
        "session_info.show()"
      ],
      "metadata": {
        "colab": {
          "base_uri": "https://localhost:8080/",
          "height": 1000
        },
        "id": "FtcQ7xJRYAaF",
        "outputId": "8224adbf-e167-4980-83f4-275e5ad527c9"
      },
      "execution_count": 52,
      "outputs": [
        {
          "output_type": "execute_result",
          "data": {
            "text/plain": [
              "<IPython.core.display.HTML object>"
            ],
            "text/html": [
              "<details>\n",
              "<summary>Click to view session information</summary>\n",
              "<pre>\n",
              "-----\n",
              "gensim              4.3.1\n",
              "nltk                3.8.1\n",
              "numpy               1.23.5\n",
              "scipy               1.10.1\n",
              "session_info        1.0.0\n",
              "sklearn             1.2.2\n",
              "-----\n",
              "</pre>\n",
              "<details>\n",
              "<summary>Click to view modules imported as dependencies</summary>\n",
              "<pre>\n",
              "PIL                 9.4.0\n",
              "backcall            0.2.0\n",
              "cachetools          5.3.1\n",
              "certifi             2023.07.22\n",
              "cffi                1.15.1\n",
              "chardet             5.2.0\n",
              "charset_normalizer  3.2.0\n",
              "cryptography        41.0.3\n",
              "cycler              0.10.0\n",
              "cython_runtime      NA\n",
              "dateutil            2.8.2\n",
              "debugpy             1.6.6\n",
              "decorator           4.4.2\n",
              "defusedxml          0.7.1\n",
              "google              NA\n",
              "grpc                1.57.0\n",
              "grpc_status         NA\n",
              "httplib2            0.22.0\n",
              "idna                3.4\n",
              "ipykernel           5.5.6\n",
              "ipython_genutils    0.2.0\n",
              "joblib              1.3.2\n",
              "kiwisolver          1.4.4\n",
              "matplotlib          3.7.1\n",
              "matplotlib_inline   0.1.6\n",
              "mpl_toolkits        NA\n",
              "packaging           23.1\n",
              "pexpect             4.8.0\n",
              "pickleshare         0.7.5\n",
              "pkg_resources       NA\n",
              "platformdirs        3.10.0\n",
              "portpicker          NA\n",
              "prompt_toolkit      3.0.39\n",
              "psutil              5.9.5\n",
              "ptyprocess          0.7.0\n",
              "pydev_ipython       NA\n",
              "pydevconsole        NA\n",
              "pydevd              2.9.5\n",
              "pydevd_file_utils   NA\n",
              "pydevd_plugins      NA\n",
              "pydevd_tracing      NA\n",
              "pygments            2.16.1\n",
              "pyparsing           3.1.1\n",
              "regex               2.5.129\n",
              "requests            2.31.0\n",
              "setuptools          67.7.2\n",
              "sitecustomize       NA\n",
              "six                 1.16.0\n",
              "smart_open          6.3.0\n",
              "socks               1.7.1\n",
              "sphinxcontrib       NA\n",
              "storemagic          NA\n",
              "threadpoolctl       3.2.0\n",
              "tornado             6.3.2\n",
              "traitlets           5.7.1\n",
              "typing_extensions   NA\n",
              "urllib3             2.0.4\n",
              "wcwidth             0.2.6\n",
              "zmq                 23.2.1\n",
              "</pre>\n",
              "</details> <!-- seems like this ends pre, so might as well be explicit -->\n",
              "<pre>\n",
              "-----\n",
              "IPython             7.34.0\n",
              "jupyter_client      6.1.12\n",
              "jupyter_core        5.3.1\n",
              "notebook            6.5.5\n",
              "-----\n",
              "Python 3.10.12 (main, Jun 11 2023, 05:26:28) [GCC 11.4.0]\n",
              "Linux-5.15.109+-x86_64-with-glibc2.35\n",
              "-----\n",
              "Session information updated at 2023-09-06 16:42\n",
              "</pre>\n",
              "</details>"
            ]
          },
          "metadata": {},
          "execution_count": 52
        }
      ]
    },
    {
      "cell_type": "markdown",
      "metadata": {
        "id": "Z9G0EW0KOyur"
      },
      "source": [
        "### (A.1) Bag of words with Gensim"
      ]
    },
    {
      "cell_type": "code",
      "execution_count": 1,
      "metadata": {
        "id": "mAYcS1ZnK7Wo"
      },
      "outputs": [],
      "source": [
        "import gensim\n",
        "from gensim.utils import simple_preprocess\n",
        "from gensim.corpora import Dictionary\n",
        "import pprint"
      ]
    },
    {
      "cell_type": "code",
      "execution_count": 2,
      "metadata": {
        "id": "dHVNJnoDN6jR"
      },
      "outputs": [],
      "source": [
        "doc_list = [\n",
        "\"Start spreading the news\",\n",
        "\"You're leaving today (tell him friend)\",\n",
        "\"I want to be a part of it, New York, New York\",\n",
        "\"Your vagabond shoes, they are longing to stray\",\n",
        "\"And steps around the heart of it, New York, New York\"\n",
        "]"
      ]
    },
    {
      "cell_type": "code",
      "source": [
        "print(doc_list)"
      ],
      "metadata": {
        "colab": {
          "base_uri": "https://localhost:8080/"
        },
        "id": "r4Aedsr9QEU7",
        "outputId": "13f661d3-63f0-48de-9274-0c85de47fd4e"
      },
      "execution_count": 3,
      "outputs": [
        {
          "output_type": "stream",
          "name": "stdout",
          "text": [
            "['Start spreading the news', \"You're leaving today (tell him friend)\", 'I want to be a part of it, New York, New York', 'Your vagabond shoes, they are longing to stray', 'And steps around the heart of it, New York, New York']\n"
          ]
        }
      ]
    },
    {
      "cell_type": "code",
      "source": [
        "pp = pprint.PrettyPrinter(indent=4)\n",
        "pp.pprint(doc_list)"
      ],
      "metadata": {
        "colab": {
          "base_uri": "https://localhost:8080/"
        },
        "id": "QaBWgzd8PuM2",
        "outputId": "c75b3462-50aa-405b-f4c0-fc5a53d380f4"
      },
      "execution_count": 4,
      "outputs": [
        {
          "output_type": "stream",
          "name": "stdout",
          "text": [
            "[   'Start spreading the news',\n",
            "    \"You're leaving today (tell him friend)\",\n",
            "    'I want to be a part of it, New York, New York',\n",
            "    'Your vagabond shoes, they are longing to stray',\n",
            "    'And steps around the heart of it, New York, New York']\n"
          ]
        }
      ]
    },
    {
      "cell_type": "code",
      "execution_count": 5,
      "metadata": {
        "colab": {
          "base_uri": "https://localhost:8080/"
        },
        "id": "v4yh9SzNPG67",
        "outputId": "6289950b-4b44-499e-c31c-d94fc987e7c5"
      },
      "outputs": [
        {
          "output_type": "execute_result",
          "data": {
            "text/plain": [
              "[['start', 'spreading', 'the', 'news'],\n",
              " ['you', 're', 'leaving', 'today', 'tell', 'him', 'friend'],\n",
              " ['want', 'to', 'be', 'part', 'of', 'it', 'new', 'york', 'new', 'york'],\n",
              " ['your', 'vagabond', 'shoes', 'they', 'are', 'longing', 'to', 'stray'],\n",
              " ['and',\n",
              "  'steps',\n",
              "  'around',\n",
              "  'the',\n",
              "  'heart',\n",
              "  'of',\n",
              "  'it',\n",
              "  'new',\n",
              "  'york',\n",
              "  'new',\n",
              "  'york']]"
            ]
          },
          "metadata": {},
          "execution_count": 5
        }
      ],
      "source": [
        "doc_tokenized = [simple_preprocess(doc) for doc in doc_list]\n",
        "doc_tokenized"
      ]
    },
    {
      "cell_type": "code",
      "source": [
        "doc_tokenized = []\n",
        "for doc in doc_list:\n",
        "    doc_tokenized.append(simple_preprocess(doc))\n",
        "doc_tokenized"
      ],
      "metadata": {
        "colab": {
          "base_uri": "https://localhost:8080/"
        },
        "id": "Eibm93SHcj8x",
        "outputId": "880dd9d6-e090-434b-9485-36d0b5786c03"
      },
      "execution_count": 6,
      "outputs": [
        {
          "output_type": "execute_result",
          "data": {
            "text/plain": [
              "[['start', 'spreading', 'the', 'news'],\n",
              " ['you', 're', 'leaving', 'today', 'tell', 'him', 'friend'],\n",
              " ['want', 'to', 'be', 'part', 'of', 'it', 'new', 'york', 'new', 'york'],\n",
              " ['your', 'vagabond', 'shoes', 'they', 'are', 'longing', 'to', 'stray'],\n",
              " ['and',\n",
              "  'steps',\n",
              "  'around',\n",
              "  'the',\n",
              "  'heart',\n",
              "  'of',\n",
              "  'it',\n",
              "  'new',\n",
              "  'york',\n",
              "  'new',\n",
              "  'york']]"
            ]
          },
          "metadata": {},
          "execution_count": 6
        }
      ]
    },
    {
      "cell_type": "code",
      "execution_count": 7,
      "metadata": {
        "colab": {
          "base_uri": "https://localhost:8080/"
        },
        "id": "qddBm-gyPMka",
        "outputId": "6feea42d-c087-472b-bc59-647ae742755a"
      },
      "outputs": [
        {
          "output_type": "execute_result",
          "data": {
            "text/plain": [
              "<gensim.corpora.dictionary.Dictionary at 0x7ea380cc12a0>"
            ]
          },
          "metadata": {},
          "execution_count": 7
        }
      ],
      "source": [
        "dictionary = Dictionary()\n",
        "dictionary"
      ]
    },
    {
      "cell_type": "code",
      "execution_count": 8,
      "metadata": {
        "colab": {
          "base_uri": "https://localhost:8080/"
        },
        "id": "zJkvW-ojPReH",
        "outputId": "254c8b97-99b3-4d71-9220-333d7855c0b9"
      },
      "outputs": [
        {
          "output_type": "execute_result",
          "data": {
            "text/plain": [
              "[[(0, 1), (1, 1), (2, 1), (3, 1)],\n",
              " [(4, 1), (5, 1), (6, 1), (7, 1), (8, 1), (9, 1), (10, 1)],\n",
              " [(11, 1), (12, 1), (13, 2), (14, 1), (15, 1), (16, 1), (17, 1), (18, 2)],\n",
              " [(16, 1), (19, 1), (20, 1), (21, 1), (22, 1), (23, 1), (24, 1), (25, 1)],\n",
              " [(3, 1),\n",
              "  (12, 1),\n",
              "  (13, 2),\n",
              "  (14, 1),\n",
              "  (18, 2),\n",
              "  (26, 1),\n",
              "  (27, 1),\n",
              "  (28, 1),\n",
              "  (29, 1)]]"
            ]
          },
          "metadata": {},
          "execution_count": 8
        }
      ],
      "source": [
        "BoW_corpus = [dictionary.doc2bow(doc, allow_update=True) for doc in doc_tokenized]\n",
        "BoW_corpus"
      ]
    },
    {
      "cell_type": "code",
      "execution_count": 9,
      "metadata": {
        "colab": {
          "base_uri": "https://localhost:8080/"
        },
        "id": "OLfJcvwDPalO",
        "outputId": "f70bd353-23fd-4d11-a843-7ef8212da202"
      },
      "outputs": [
        {
          "output_type": "stream",
          "name": "stdout",
          "text": [
            "[[(0, 1), (1, 1), (2, 1), (3, 1)], [(4, 1), (5, 1), (6, 1), (7, 1), (8, 1), (9, 1), (10, 1)], [(11, 1), (12, 1), (13, 2), (14, 1), (15, 1), (16, 1), (17, 1), (18, 2)], [(16, 1), (19, 1), (20, 1), (21, 1), (22, 1), (23, 1), (24, 1), (25, 1)], [(3, 1), (12, 1), (13, 2), (14, 1), (18, 2), (26, 1), (27, 1), (28, 1), (29, 1)]]\n"
          ]
        }
      ],
      "source": [
        "print(BoW_corpus)"
      ]
    },
    {
      "cell_type": "code",
      "execution_count": 10,
      "metadata": {
        "colab": {
          "base_uri": "https://localhost:8080/"
        },
        "id": "BQzNHVcCPePM",
        "outputId": "487d141d-b64f-40e9-a19c-2453a2926e54"
      },
      "outputs": [
        {
          "output_type": "stream",
          "name": "stdout",
          "text": [
            "[[('news', 1), ('spreading', 1), ('start', 1), ('the', 1)], [('friend', 1), ('him', 1), ('leaving', 1), ('re', 1), ('tell', 1), ('today', 1), ('you', 1)], [('be', 1), ('it', 1), ('new', 2), ('of', 1), ('part', 1), ('to', 1), ('want', 1), ('york', 2)], [('to', 1), ('are', 1), ('longing', 1), ('shoes', 1), ('stray', 1), ('they', 1), ('vagabond', 1), ('your', 1)], [('the', 1), ('it', 1), ('new', 2), ('of', 1), ('york', 2), ('and', 1), ('around', 1), ('heart', 1), ('steps', 1)]]\n"
          ]
        }
      ],
      "source": [
        "id_words = [[(dictionary[id], count) for id, count in line] for line in BoW_corpus]\n",
        "print(id_words)"
      ]
    },
    {
      "cell_type": "code",
      "execution_count": 11,
      "metadata": {
        "id": "qxZ78B-mUWiQ",
        "colab": {
          "base_uri": "https://localhost:8080/"
        },
        "outputId": "c188f53e-38da-4aca-e4f6-5867235f863e"
      },
      "outputs": [
        {
          "output_type": "execute_result",
          "data": {
            "text/plain": [
              "['start',\n",
              " 'spreading',\n",
              " 'the',\n",
              " 'news',\n",
              " 'you',\n",
              " 're',\n",
              " 'leaving',\n",
              " 'today',\n",
              " 'tell',\n",
              " 'him',\n",
              " 'friend',\n",
              " 'want',\n",
              " 'to',\n",
              " 'be',\n",
              " 'part',\n",
              " 'of',\n",
              " 'it',\n",
              " 'new',\n",
              " 'york',\n",
              " 'new',\n",
              " 'york',\n",
              " 'your',\n",
              " 'vagabond',\n",
              " 'shoes',\n",
              " 'they',\n",
              " 'are',\n",
              " 'longing',\n",
              " 'to',\n",
              " 'stray',\n",
              " 'and',\n",
              " 'steps',\n",
              " 'around',\n",
              " 'the',\n",
              " 'heart',\n",
              " 'of',\n",
              " 'it',\n",
              " 'new',\n",
              " 'york',\n",
              " 'new',\n",
              " 'york']"
            ]
          },
          "metadata": {},
          "execution_count": 11
        }
      ],
      "source": [
        "doc_list_long = \"Start spreading the news, You're leaving today (tell him friend), I want to be a part of it, New York, New York, Your vagabond shoes, they are longing to stray, And steps around the heart of it, New York, New York\"\n",
        "doc_list_tokenized_long = simple_preprocess(doc_list_long)\n",
        "doc_list_tokenized_long"
      ]
    },
    {
      "cell_type": "code",
      "source": [
        "BoW_corpus_long = dictionary.doc2bow(doc_list_tokenized_long)\n",
        "BoW_corpus_long"
      ],
      "metadata": {
        "colab": {
          "base_uri": "https://localhost:8080/"
        },
        "id": "26CywD9YjilJ",
        "outputId": "aea9c5fb-26f3-47e2-c935-4d6274f578b9"
      },
      "execution_count": 12,
      "outputs": [
        {
          "output_type": "execute_result",
          "data": {
            "text/plain": [
              "[(0, 1),\n",
              " (1, 1),\n",
              " (2, 1),\n",
              " (3, 2),\n",
              " (4, 1),\n",
              " (5, 1),\n",
              " (6, 1),\n",
              " (7, 1),\n",
              " (8, 1),\n",
              " (9, 1),\n",
              " (10, 1),\n",
              " (11, 1),\n",
              " (12, 2),\n",
              " (13, 4),\n",
              " (14, 2),\n",
              " (15, 1),\n",
              " (16, 2),\n",
              " (17, 1),\n",
              " (18, 4),\n",
              " (19, 1),\n",
              " (20, 1),\n",
              " (21, 1),\n",
              " (22, 1),\n",
              " (23, 1),\n",
              " (24, 1),\n",
              " (25, 1),\n",
              " (26, 1),\n",
              " (27, 1),\n",
              " (28, 1),\n",
              " (29, 1)]"
            ]
          },
          "metadata": {},
          "execution_count": 12
        }
      ]
    },
    {
      "cell_type": "code",
      "source": [
        "id_words_long = [(dictionary[id], count) for id, count in BoW_corpus_long]\n",
        "pp.pprint(id_words_long)"
      ],
      "metadata": {
        "colab": {
          "base_uri": "https://localhost:8080/"
        },
        "id": "6bYm2JpgkeIn",
        "outputId": "b754e685-d890-4d0d-f1f8-d22651d9c351"
      },
      "execution_count": 13,
      "outputs": [
        {
          "output_type": "stream",
          "name": "stdout",
          "text": [
            "[   ('news', 1),\n",
            "    ('spreading', 1),\n",
            "    ('start', 1),\n",
            "    ('the', 2),\n",
            "    ('friend', 1),\n",
            "    ('him', 1),\n",
            "    ('leaving', 1),\n",
            "    ('re', 1),\n",
            "    ('tell', 1),\n",
            "    ('today', 1),\n",
            "    ('you', 1),\n",
            "    ('be', 1),\n",
            "    ('it', 2),\n",
            "    ('new', 4),\n",
            "    ('of', 2),\n",
            "    ('part', 1),\n",
            "    ('to', 2),\n",
            "    ('want', 1),\n",
            "    ('york', 4),\n",
            "    ('are', 1),\n",
            "    ('longing', 1),\n",
            "    ('shoes', 1),\n",
            "    ('stray', 1),\n",
            "    ('they', 1),\n",
            "    ('vagabond', 1),\n",
            "    ('your', 1),\n",
            "    ('and', 1),\n",
            "    ('around', 1),\n",
            "    ('heart', 1),\n",
            "    ('steps', 1)]\n"
          ]
        }
      ]
    },
    {
      "cell_type": "markdown",
      "metadata": {
        "id": "5M0XsyhkQbcM"
      },
      "source": [
        "### (A.2) Word of Bags with scikit-learn"
      ]
    },
    {
      "cell_type": "code",
      "source": [
        "doc_list = [\n",
        "\"Start spreading the news\",\n",
        "\"You're leaving today (tell him friend)\",\n",
        "\"I want to be a part of it, New York, New York\",\n",
        "\"Your vagabond shoes, they are longing to stray\",\n",
        "\"And steps around the heart of it, New York, New York\"\n",
        "]"
      ],
      "metadata": {
        "id": "c2i_fN0TndA8"
      },
      "execution_count": 14,
      "outputs": []
    },
    {
      "cell_type": "code",
      "source": [
        "from sklearn.feature_extraction.text import CountVectorizer\n",
        "cv = CountVectorizer()\n",
        "cv_fit = cv.fit_transform(doc_list)\n",
        "word_list = cv.get_feature_names_out()\n",
        "count_list = cv_fit.toarray().sum(axis=0)\n",
        "pp.pprint( dict(zip(word_list,count_list)) )"
      ],
      "metadata": {
        "colab": {
          "base_uri": "https://localhost:8080/"
        },
        "id": "fj4AbY9eqS5q",
        "outputId": "5b2b15e6-2983-48f8-ed4b-b97a91aca7b2"
      },
      "execution_count": 19,
      "outputs": [
        {
          "output_type": "stream",
          "name": "stdout",
          "text": [
            "{   'and': 1,\n",
            "    'are': 1,\n",
            "    'around': 1,\n",
            "    'be': 1,\n",
            "    'friend': 1,\n",
            "    'heart': 1,\n",
            "    'him': 1,\n",
            "    'it': 2,\n",
            "    'leaving': 1,\n",
            "    'longing': 1,\n",
            "    'new': 4,\n",
            "    'news': 1,\n",
            "    'of': 2,\n",
            "    'part': 1,\n",
            "    're': 1,\n",
            "    'shoes': 1,\n",
            "    'spreading': 1,\n",
            "    'start': 1,\n",
            "    'steps': 1,\n",
            "    'stray': 1,\n",
            "    'tell': 1,\n",
            "    'the': 2,\n",
            "    'they': 1,\n",
            "    'to': 2,\n",
            "    'today': 1,\n",
            "    'vagabond': 1,\n",
            "    'want': 1,\n",
            "    'york': 4,\n",
            "    'you': 1,\n",
            "    'your': 1}\n"
          ]
        }
      ]
    },
    {
      "cell_type": "code",
      "source": [
        "word_list"
      ],
      "metadata": {
        "id": "T0r6oyMXs4h4",
        "outputId": "0c9bc51f-c90c-426a-8e6e-e1970ffc5eb8",
        "colab": {
          "base_uri": "https://localhost:8080/"
        }
      },
      "execution_count": 20,
      "outputs": [
        {
          "output_type": "execute_result",
          "data": {
            "text/plain": [
              "array(['and', 'are', 'around', 'be', 'friend', 'heart', 'him', 'it',\n",
              "       'leaving', 'longing', 'new', 'news', 'of', 'part', 're', 'shoes',\n",
              "       'spreading', 'start', 'steps', 'stray', 'tell', 'the', 'they',\n",
              "       'to', 'today', 'vagabond', 'want', 'york', 'you', 'your'],\n",
              "      dtype=object)"
            ]
          },
          "metadata": {},
          "execution_count": 20
        }
      ]
    },
    {
      "cell_type": "code",
      "source": [
        "cv_fit.toarray()"
      ],
      "metadata": {
        "colab": {
          "base_uri": "https://localhost:8080/"
        },
        "id": "7hacPhRhsNSI",
        "outputId": "e8b9c250-21d1-46c5-9ba4-138ada5eaf73"
      },
      "execution_count": 21,
      "outputs": [
        {
          "output_type": "execute_result",
          "data": {
            "text/plain": [
              "array([[0, 0, 0, 0, 0, 0, 0, 0, 0, 0, 0, 1, 0, 0, 0, 0, 1, 1, 0, 0, 0, 1,\n",
              "        0, 0, 0, 0, 0, 0, 0, 0],\n",
              "       [0, 0, 0, 0, 1, 0, 1, 0, 1, 0, 0, 0, 0, 0, 1, 0, 0, 0, 0, 0, 1, 0,\n",
              "        0, 0, 1, 0, 0, 0, 1, 0],\n",
              "       [0, 0, 0, 1, 0, 0, 0, 1, 0, 0, 2, 0, 1, 1, 0, 0, 0, 0, 0, 0, 0, 0,\n",
              "        0, 1, 0, 0, 1, 2, 0, 0],\n",
              "       [0, 1, 0, 0, 0, 0, 0, 0, 0, 1, 0, 0, 0, 0, 0, 1, 0, 0, 0, 1, 0, 0,\n",
              "        1, 1, 0, 1, 0, 0, 0, 1],\n",
              "       [1, 0, 1, 0, 0, 1, 0, 1, 0, 0, 2, 0, 1, 0, 0, 0, 0, 0, 1, 0, 0, 1,\n",
              "        0, 0, 0, 0, 0, 2, 0, 0]])"
            ]
          },
          "metadata": {},
          "execution_count": 21
        }
      ]
    },
    {
      "cell_type": "code",
      "execution_count": 21,
      "metadata": {
        "id": "HbfilJoGQbDi"
      },
      "outputs": [],
      "source": []
    },
    {
      "cell_type": "markdown",
      "metadata": {
        "id": "yen15jcASwMa"
      },
      "source": [
        "### (B.1)  Bag of N-grams with Gensim"
      ]
    },
    {
      "cell_type": "code",
      "source": [
        "doc_list_Ngrams = [\n",
        "\"Start spreading the news\",\n",
        "\"You're leaving today\",\n",
        "\"I want to be a part of it, New York, New York\",\n",
        "\"Your vagabond shoes, they are longing to stray\",\n",
        "\"And steps around the heart of it, New York, New York\",\n",
        "\"Come and visit us\",\n",
        "\"Come and visit the city\",\n",
        "]\n",
        "doc_tokenized_Ngrams = [simple_preprocess(doc) for doc in doc_list_Ngrams]\n",
        "doc_tokenized_Ngrams"
      ],
      "metadata": {
        "colab": {
          "base_uri": "https://localhost:8080/"
        },
        "id": "ApD5Yunp2229",
        "outputId": "d33e6e5c-578a-4707-c170-a0282e87dc24"
      },
      "execution_count": 22,
      "outputs": [
        {
          "output_type": "execute_result",
          "data": {
            "text/plain": [
              "[['start', 'spreading', 'the', 'news'],\n",
              " ['you', 're', 'leaving', 'today'],\n",
              " ['want', 'to', 'be', 'part', 'of', 'it', 'new', 'york', 'new', 'york'],\n",
              " ['your', 'vagabond', 'shoes', 'they', 'are', 'longing', 'to', 'stray'],\n",
              " ['and',\n",
              "  'steps',\n",
              "  'around',\n",
              "  'the',\n",
              "  'heart',\n",
              "  'of',\n",
              "  'it',\n",
              "  'new',\n",
              "  'york',\n",
              "  'new',\n",
              "  'york'],\n",
              " ['come', 'and', 'visit', 'us'],\n",
              " ['come', 'and', 'visit', 'the', 'city']]"
            ]
          },
          "metadata": {},
          "execution_count": 22
        }
      ]
    },
    {
      "cell_type": "code",
      "source": [
        "from gensim.models.phrases import Phrases\n",
        "mydict = Dictionary()\n",
        "mycorpus_Ngrams = [mydict.doc2bow(doc, allow_update=True) for doc in doc_tokenized_Ngrams]\n",
        "mycorpus_Ngrams"
      ],
      "metadata": {
        "colab": {
          "base_uri": "https://localhost:8080/"
        },
        "id": "6cF6aLbHzfwz",
        "outputId": "38d89bdc-2273-4a58-fe48-c68887d5cacf"
      },
      "execution_count": 24,
      "outputs": [
        {
          "output_type": "execute_result",
          "data": {
            "text/plain": [
              "[[(0, 1), (1, 1), (2, 1), (3, 1)],\n",
              " [(4, 1), (5, 1), (6, 1), (7, 1)],\n",
              " [(8, 1), (9, 1), (10, 2), (11, 1), (12, 1), (13, 1), (14, 1), (15, 2)],\n",
              " [(13, 1), (16, 1), (17, 1), (18, 1), (19, 1), (20, 1), (21, 1), (22, 1)],\n",
              " [(3, 1),\n",
              "  (9, 1),\n",
              "  (10, 2),\n",
              "  (11, 1),\n",
              "  (15, 2),\n",
              "  (23, 1),\n",
              "  (24, 1),\n",
              "  (25, 1),\n",
              "  (26, 1)],\n",
              " [(23, 1), (27, 1), (28, 1), (29, 1)],\n",
              " [(3, 1), (23, 1), (27, 1), (29, 1), (30, 1)]]"
            ]
          },
          "metadata": {},
          "execution_count": 24
        }
      ]
    },
    {
      "cell_type": "code",
      "execution_count": 30,
      "metadata": {
        "id": "4m58sd7QelIi",
        "colab": {
          "base_uri": "https://localhost:8080/"
        },
        "outputId": "088fd792-832d-4f31-9330-69f5ebe7faa4"
      },
      "outputs": [
        {
          "output_type": "stream",
          "name": "stdout",
          "text": [
            "FrozenPhrases<6 phrases, min_count=1, threshold=2>\n",
            "['start', 'spreading', 'the', 'news']\n",
            "['you', 're', 'leaving', 'today']\n",
            "['want', 'to', 'be', 'part', 'of it', 'new york', 'new york']\n",
            "['your', 'vagabond', 'shoes', 'they', 'are', 'longing', 'to', 'stray']\n",
            "['and', 'steps', 'around', 'the', 'heart', 'of it', 'new york', 'new york']\n",
            "['come and', 'visit', 'us']\n",
            "['come and', 'visit', 'the', 'city']\n"
          ]
        }
      ],
      "source": [
        "from gensim.models import Phrases\n",
        "from gensim.models.phrases import Phraser\n",
        "\n",
        "# Build the bigram models\n",
        "bigram = gensim.models.phrases.Phrases(doc_tokenized_Ngrams, min_count=3, threshold=10)\n",
        "bigram = Phrases(doc_tokenized_Ngrams, min_count=1, threshold=2, delimiter=' ')\n",
        "bigram_phraser = Phraser(bigram)\n",
        "print(bigram_phraser)\n",
        "\n",
        "for sent in doc_tokenized_Ngrams:\n",
        "    tokens_ = bigram_phraser[sent]\n",
        "    print(tokens_)"
      ]
    },
    {
      "cell_type": "code",
      "execution_count": 31,
      "metadata": {
        "id": "7mSfnVtpelSw",
        "colab": {
          "base_uri": "https://localhost:8080/"
        },
        "outputId": "778c0d5e-748e-41dc-e4b0-e00d45f6ea69"
      },
      "outputs": [
        {
          "output_type": "stream",
          "name": "stdout",
          "text": [
            "[]\n",
            "[]\n",
            "[]\n",
            "[]\n",
            "[]\n",
            "['come and visit']\n",
            "['come and visit']\n"
          ]
        }
      ],
      "source": [
        "from gensim.models import Phrases\n",
        "\n",
        "bigram = Phrases(doc_tokenized_Ngrams, min_count=1, delimiter=' ')\n",
        "trigram = Phrases(bigram[doc_tokenized_Ngrams], min_count=1, delimiter=' ')\n",
        "\n",
        "for sent in doc_tokenized_Ngrams:\n",
        "    bigrams_ = [b for b in bigram[sent] if b.count(' ') == 1]\n",
        "    trigrams_ = [t for t in trigram[bigram[sent]] if t.count(' ') == 2]\n",
        "\n",
        "    print(trigrams_)"
      ]
    },
    {
      "cell_type": "markdown",
      "metadata": {
        "id": "kZAwwEXUS9lA"
      },
      "source": [
        "### (B.2) Bag of N-grams with scikit-learn"
      ]
    },
    {
      "cell_type": "code",
      "source": [
        "doc_list = [\n",
        "\"Start spreading the news\",\n",
        "\"You're leaving today (tell him friend)\",\n",
        "\"I want to be a part of it, New York, New York\",\n",
        "\"Your vagabond shoes, they are longing to stray\",\n",
        "\"And steps around the heart of it, New York, New York\"\n",
        "]"
      ],
      "metadata": {
        "id": "_ILS7H_QKwX5"
      },
      "execution_count": 32,
      "outputs": []
    },
    {
      "cell_type": "code",
      "execution_count": 33,
      "metadata": {
        "colab": {
          "base_uri": "https://localhost:8080/",
          "height": 72
        },
        "id": "C2EuLGz_Su0U",
        "outputId": "286f05c5-cd1d-4d40-b88c-7557abbd7609"
      },
      "outputs": [
        {
          "output_type": "execute_result",
          "data": {
            "text/plain": [
              "CountVectorizer(ngram_range=(2, 2))"
            ],
            "text/html": [
              "<style>#sk-container-id-1 {color: black;background-color: white;}#sk-container-id-1 pre{padding: 0;}#sk-container-id-1 div.sk-toggleable {background-color: white;}#sk-container-id-1 label.sk-toggleable__label {cursor: pointer;display: block;width: 100%;margin-bottom: 0;padding: 0.3em;box-sizing: border-box;text-align: center;}#sk-container-id-1 label.sk-toggleable__label-arrow:before {content: \"▸\";float: left;margin-right: 0.25em;color: #696969;}#sk-container-id-1 label.sk-toggleable__label-arrow:hover:before {color: black;}#sk-container-id-1 div.sk-estimator:hover label.sk-toggleable__label-arrow:before {color: black;}#sk-container-id-1 div.sk-toggleable__content {max-height: 0;max-width: 0;overflow: hidden;text-align: left;background-color: #f0f8ff;}#sk-container-id-1 div.sk-toggleable__content pre {margin: 0.2em;color: black;border-radius: 0.25em;background-color: #f0f8ff;}#sk-container-id-1 input.sk-toggleable__control:checked~div.sk-toggleable__content {max-height: 200px;max-width: 100%;overflow: auto;}#sk-container-id-1 input.sk-toggleable__control:checked~label.sk-toggleable__label-arrow:before {content: \"▾\";}#sk-container-id-1 div.sk-estimator input.sk-toggleable__control:checked~label.sk-toggleable__label {background-color: #d4ebff;}#sk-container-id-1 div.sk-label input.sk-toggleable__control:checked~label.sk-toggleable__label {background-color: #d4ebff;}#sk-container-id-1 input.sk-hidden--visually {border: 0;clip: rect(1px 1px 1px 1px);clip: rect(1px, 1px, 1px, 1px);height: 1px;margin: -1px;overflow: hidden;padding: 0;position: absolute;width: 1px;}#sk-container-id-1 div.sk-estimator {font-family: monospace;background-color: #f0f8ff;border: 1px dotted black;border-radius: 0.25em;box-sizing: border-box;margin-bottom: 0.5em;}#sk-container-id-1 div.sk-estimator:hover {background-color: #d4ebff;}#sk-container-id-1 div.sk-parallel-item::after {content: \"\";width: 100%;border-bottom: 1px solid gray;flex-grow: 1;}#sk-container-id-1 div.sk-label:hover label.sk-toggleable__label {background-color: #d4ebff;}#sk-container-id-1 div.sk-serial::before {content: \"\";position: absolute;border-left: 1px solid gray;box-sizing: border-box;top: 0;bottom: 0;left: 50%;z-index: 0;}#sk-container-id-1 div.sk-serial {display: flex;flex-direction: column;align-items: center;background-color: white;padding-right: 0.2em;padding-left: 0.2em;position: relative;}#sk-container-id-1 div.sk-item {position: relative;z-index: 1;}#sk-container-id-1 div.sk-parallel {display: flex;align-items: stretch;justify-content: center;background-color: white;position: relative;}#sk-container-id-1 div.sk-item::before, #sk-container-id-1 div.sk-parallel-item::before {content: \"\";position: absolute;border-left: 1px solid gray;box-sizing: border-box;top: 0;bottom: 0;left: 50%;z-index: -1;}#sk-container-id-1 div.sk-parallel-item {display: flex;flex-direction: column;z-index: 1;position: relative;background-color: white;}#sk-container-id-1 div.sk-parallel-item:first-child::after {align-self: flex-end;width: 50%;}#sk-container-id-1 div.sk-parallel-item:last-child::after {align-self: flex-start;width: 50%;}#sk-container-id-1 div.sk-parallel-item:only-child::after {width: 0;}#sk-container-id-1 div.sk-dashed-wrapped {border: 1px dashed gray;margin: 0 0.4em 0.5em 0.4em;box-sizing: border-box;padding-bottom: 0.4em;background-color: white;}#sk-container-id-1 div.sk-label label {font-family: monospace;font-weight: bold;display: inline-block;line-height: 1.2em;}#sk-container-id-1 div.sk-label-container {text-align: center;}#sk-container-id-1 div.sk-container {/* jupyter's `normalize.less` sets `[hidden] { display: none; }` but bootstrap.min.css set `[hidden] { display: none !important; }` so we also need the `!important` here to be able to override the default hidden behavior on the sphinx rendered scikit-learn.org. See: https://github.com/scikit-learn/scikit-learn/issues/21755 */display: inline-block !important;position: relative;}#sk-container-id-1 div.sk-text-repr-fallback {display: none;}</style><div id=\"sk-container-id-1\" class=\"sk-top-container\"><div class=\"sk-text-repr-fallback\"><pre>CountVectorizer(ngram_range=(2, 2))</pre><b>In a Jupyter environment, please rerun this cell to show the HTML representation or trust the notebook. <br />On GitHub, the HTML representation is unable to render, please try loading this page with nbviewer.org.</b></div><div class=\"sk-container\" hidden><div class=\"sk-item\"><div class=\"sk-estimator sk-toggleable\"><input class=\"sk-toggleable__control sk-hidden--visually\" id=\"sk-estimator-id-1\" type=\"checkbox\" checked><label for=\"sk-estimator-id-1\" class=\"sk-toggleable__label sk-toggleable__label-arrow\">CountVectorizer</label><div class=\"sk-toggleable__content\"><pre>CountVectorizer(ngram_range=(2, 2))</pre></div></div></div></div></div>"
            ]
          },
          "metadata": {},
          "execution_count": 33
        }
      ],
      "source": [
        "# look at sequences of tokens of minimum length 2 and maximum length 2\n",
        "bigram_vectorizer = CountVectorizer(ngram_range=(2, 2))\n",
        "bigram_vectorizer.fit(doc_list)"
      ]
    },
    {
      "cell_type": "code",
      "source": [
        "from sklearn.feature_extraction.text import CountVectorizer\n",
        "ngram_vectorizer = CountVectorizer(ngram_range=(2, 2))\n",
        "ngram_fit = ngram_vectorizer.fit_transform(doc_list)\n",
        "word_list = ngram_vectorizer.get_feature_names_out()\n",
        "count_list = ngram_fit.toarray().sum(axis=0)\n",
        "pp.pprint( dict(zip(word_list,count_list)) )"
      ],
      "metadata": {
        "colab": {
          "base_uri": "https://localhost:8080/"
        },
        "id": "19rCFc6V33mD",
        "outputId": "0cae72d8-8fb4-4e9b-f669-18a1d0eac2ac"
      },
      "execution_count": 35,
      "outputs": [
        {
          "output_type": "stream",
          "name": "stdout",
          "text": [
            "{   'and steps': 1,\n",
            "    'are longing': 1,\n",
            "    'around the': 1,\n",
            "    'be part': 1,\n",
            "    'heart of': 1,\n",
            "    'him friend': 1,\n",
            "    'it new': 2,\n",
            "    'leaving today': 1,\n",
            "    'longing to': 1,\n",
            "    'new york': 4,\n",
            "    'of it': 2,\n",
            "    'part of': 1,\n",
            "    're leaving': 1,\n",
            "    'shoes they': 1,\n",
            "    'spreading the': 1,\n",
            "    'start spreading': 1,\n",
            "    'steps around': 1,\n",
            "    'tell him': 1,\n",
            "    'the heart': 1,\n",
            "    'the news': 1,\n",
            "    'they are': 1,\n",
            "    'to be': 1,\n",
            "    'to stray': 1,\n",
            "    'today tell': 1,\n",
            "    'vagabond shoes': 1,\n",
            "    'want to': 1,\n",
            "    'york new': 2,\n",
            "    'you re': 1,\n",
            "    'your vagabond': 1}\n"
          ]
        }
      ]
    },
    {
      "cell_type": "code",
      "source": [
        "from sklearn.feature_extraction.text import CountVectorizer\n",
        "ngram_vectorizer = CountVectorizer(ngram_range=(3, 3))\n",
        "ngram_fit = ngram_vectorizer.fit_transform(doc_list)\n",
        "word_list = ngram_vectorizer.get_feature_names_out()\n",
        "count_list = ngram_fit.toarray().sum(axis=0)\n",
        "pp.pprint( dict(zip(word_list,count_list)) )"
      ],
      "metadata": {
        "colab": {
          "base_uri": "https://localhost:8080/"
        },
        "id": "NDCgXZ-N33pC",
        "outputId": "70475fbb-853c-4f2a-d023-7a62ad795784"
      },
      "execution_count": 36,
      "outputs": [
        {
          "output_type": "stream",
          "name": "stdout",
          "text": [
            "{   'and steps around': 1,\n",
            "    'are longing to': 1,\n",
            "    'around the heart': 1,\n",
            "    'be part of': 1,\n",
            "    'heart of it': 1,\n",
            "    'it new york': 2,\n",
            "    'leaving today tell': 1,\n",
            "    'longing to stray': 1,\n",
            "    'new york new': 2,\n",
            "    'of it new': 2,\n",
            "    'part of it': 1,\n",
            "    're leaving today': 1,\n",
            "    'shoes they are': 1,\n",
            "    'spreading the news': 1,\n",
            "    'start spreading the': 1,\n",
            "    'steps around the': 1,\n",
            "    'tell him friend': 1,\n",
            "    'the heart of': 1,\n",
            "    'they are longing': 1,\n",
            "    'to be part': 1,\n",
            "    'today tell him': 1,\n",
            "    'vagabond shoes they': 1,\n",
            "    'want to be': 1,\n",
            "    'york new york': 2,\n",
            "    'you re leaving': 1,\n",
            "    'your vagabond shoes': 1}\n"
          ]
        }
      ]
    },
    {
      "cell_type": "markdown",
      "source": [
        "### (B.4) Bag of N-grams with NLTK"
      ],
      "metadata": {
        "id": "Pr6VzPUpe-oP"
      }
    },
    {
      "cell_type": "code",
      "source": [
        "from nltk.util import bigrams, trigrams\n",
        "flat_list = []\n",
        "for sublist in doc_tokenized:\n",
        "    for item in sublist:\n",
        "        flat_list.append(item)\n",
        "flat_list"
      ],
      "metadata": {
        "colab": {
          "base_uri": "https://localhost:8080/"
        },
        "id": "saeAydt_6aWG",
        "outputId": "bb13b1ff-46fb-4096-d068-082bb1d8e952"
      },
      "execution_count": 37,
      "outputs": [
        {
          "output_type": "execute_result",
          "data": {
            "text/plain": [
              "['start',\n",
              " 'spreading',\n",
              " 'the',\n",
              " 'news',\n",
              " 'you',\n",
              " 're',\n",
              " 'leaving',\n",
              " 'today',\n",
              " 'tell',\n",
              " 'him',\n",
              " 'friend',\n",
              " 'want',\n",
              " 'to',\n",
              " 'be',\n",
              " 'part',\n",
              " 'of',\n",
              " 'it',\n",
              " 'new',\n",
              " 'york',\n",
              " 'new',\n",
              " 'york',\n",
              " 'your',\n",
              " 'vagabond',\n",
              " 'shoes',\n",
              " 'they',\n",
              " 'are',\n",
              " 'longing',\n",
              " 'to',\n",
              " 'stray',\n",
              " 'and',\n",
              " 'steps',\n",
              " 'around',\n",
              " 'the',\n",
              " 'heart',\n",
              " 'of',\n",
              " 'it',\n",
              " 'new',\n",
              " 'york',\n",
              " 'new',\n",
              " 'york']"
            ]
          },
          "metadata": {},
          "execution_count": 37
        }
      ]
    },
    {
      "cell_type": "code",
      "source": [
        "from nltk.util import bigrams, trigrams\n",
        "flat_list = []\n",
        "for sublist in doc_tokenized:\n",
        "    for item in sublist:\n",
        "        flat_list.append(item)\n",
        "\n",
        "nltk_bigrams = list(bigrams(flat_list))\n",
        "nltk_bigrams"
      ],
      "metadata": {
        "colab": {
          "base_uri": "https://localhost:8080/"
        },
        "id": "OXLXlO6IRAIH",
        "outputId": "5c1cf5f7-f74a-4a7c-8854-872d976dbd19"
      },
      "execution_count": 38,
      "outputs": [
        {
          "output_type": "execute_result",
          "data": {
            "text/plain": [
              "[('start', 'spreading'),\n",
              " ('spreading', 'the'),\n",
              " ('the', 'news'),\n",
              " ('news', 'you'),\n",
              " ('you', 're'),\n",
              " ('re', 'leaving'),\n",
              " ('leaving', 'today'),\n",
              " ('today', 'tell'),\n",
              " ('tell', 'him'),\n",
              " ('him', 'friend'),\n",
              " ('friend', 'want'),\n",
              " ('want', 'to'),\n",
              " ('to', 'be'),\n",
              " ('be', 'part'),\n",
              " ('part', 'of'),\n",
              " ('of', 'it'),\n",
              " ('it', 'new'),\n",
              " ('new', 'york'),\n",
              " ('york', 'new'),\n",
              " ('new', 'york'),\n",
              " ('york', 'your'),\n",
              " ('your', 'vagabond'),\n",
              " ('vagabond', 'shoes'),\n",
              " ('shoes', 'they'),\n",
              " ('they', 'are'),\n",
              " ('are', 'longing'),\n",
              " ('longing', 'to'),\n",
              " ('to', 'stray'),\n",
              " ('stray', 'and'),\n",
              " ('and', 'steps'),\n",
              " ('steps', 'around'),\n",
              " ('around', 'the'),\n",
              " ('the', 'heart'),\n",
              " ('heart', 'of'),\n",
              " ('of', 'it'),\n",
              " ('it', 'new'),\n",
              " ('new', 'york'),\n",
              " ('york', 'new'),\n",
              " ('new', 'york')]"
            ]
          },
          "metadata": {},
          "execution_count": 38
        }
      ]
    },
    {
      "cell_type": "code",
      "source": [
        "nltk_trigrams = list(trigrams(flat_list))\n",
        "nltk_trigrams"
      ],
      "metadata": {
        "colab": {
          "base_uri": "https://localhost:8080/"
        },
        "id": "SBhEEfMWe2cv",
        "outputId": "87e8a388-a302-4d3a-e459-90393ce7496e"
      },
      "execution_count": 39,
      "outputs": [
        {
          "output_type": "execute_result",
          "data": {
            "text/plain": [
              "[('start', 'spreading', 'the'),\n",
              " ('spreading', 'the', 'news'),\n",
              " ('the', 'news', 'you'),\n",
              " ('news', 'you', 're'),\n",
              " ('you', 're', 'leaving'),\n",
              " ('re', 'leaving', 'today'),\n",
              " ('leaving', 'today', 'tell'),\n",
              " ('today', 'tell', 'him'),\n",
              " ('tell', 'him', 'friend'),\n",
              " ('him', 'friend', 'want'),\n",
              " ('friend', 'want', 'to'),\n",
              " ('want', 'to', 'be'),\n",
              " ('to', 'be', 'part'),\n",
              " ('be', 'part', 'of'),\n",
              " ('part', 'of', 'it'),\n",
              " ('of', 'it', 'new'),\n",
              " ('it', 'new', 'york'),\n",
              " ('new', 'york', 'new'),\n",
              " ('york', 'new', 'york'),\n",
              " ('new', 'york', 'your'),\n",
              " ('york', 'your', 'vagabond'),\n",
              " ('your', 'vagabond', 'shoes'),\n",
              " ('vagabond', 'shoes', 'they'),\n",
              " ('shoes', 'they', 'are'),\n",
              " ('they', 'are', 'longing'),\n",
              " ('are', 'longing', 'to'),\n",
              " ('longing', 'to', 'stray'),\n",
              " ('to', 'stray', 'and'),\n",
              " ('stray', 'and', 'steps'),\n",
              " ('and', 'steps', 'around'),\n",
              " ('steps', 'around', 'the'),\n",
              " ('around', 'the', 'heart'),\n",
              " ('the', 'heart', 'of'),\n",
              " ('heart', 'of', 'it'),\n",
              " ('of', 'it', 'new'),\n",
              " ('it', 'new', 'york'),\n",
              " ('new', 'york', 'new'),\n",
              " ('york', 'new', 'york')]"
            ]
          },
          "metadata": {},
          "execution_count": 39
        }
      ]
    },
    {
      "cell_type": "code",
      "source": [],
      "metadata": {
        "id": "Zyhg-FTve2f1"
      },
      "execution_count": 39,
      "outputs": []
    },
    {
      "cell_type": "code",
      "source": [],
      "metadata": {
        "id": "u8MYrn4He2jN"
      },
      "execution_count": 39,
      "outputs": []
    },
    {
      "cell_type": "markdown",
      "metadata": {
        "id": "z0pA-qC1Rer9"
      },
      "source": [
        "### (C.1) TF-IDF with Gensim"
      ]
    },
    {
      "cell_type": "code",
      "execution_count": 40,
      "metadata": {
        "id": "2bIKGLHARhfE"
      },
      "outputs": [],
      "source": [
        "import gensim\n",
        "import pprint\n",
        "from gensim.models import TfidfModel\n",
        "from gensim import corpora\n",
        "from gensim.utils import simple_preprocess"
      ]
    },
    {
      "cell_type": "code",
      "source": [
        "doc_tokenized = [simple_preprocess(doc) for doc in doc_list]\n",
        "dictionary = corpora.Dictionary()\n",
        "BoW_corpus = [dictionary.doc2bow(doc, allow_update=True) for doc in doc_tokenized]\n",
        "for doc in BoW_corpus:\n",
        "   print([[dictionary[id], freq] for id, freq in doc])\n",
        "import numpy as np\n",
        "tfidf = TfidfModel(BoW_corpus, smartirs='ntc')"
      ],
      "metadata": {
        "colab": {
          "base_uri": "https://localhost:8080/"
        },
        "id": "BEnBJVubsK7E",
        "outputId": "1022b6f4-9f2b-41a2-f025-e5e89499853a"
      },
      "execution_count": 41,
      "outputs": [
        {
          "output_type": "stream",
          "name": "stdout",
          "text": [
            "[['news', 1], ['spreading', 1], ['start', 1], ['the', 1]]\n",
            "[['friend', 1], ['him', 1], ['leaving', 1], ['re', 1], ['tell', 1], ['today', 1], ['you', 1]]\n",
            "[['be', 1], ['it', 1], ['new', 2], ['of', 1], ['part', 1], ['to', 1], ['want', 1], ['york', 2]]\n",
            "[['to', 1], ['are', 1], ['longing', 1], ['shoes', 1], ['stray', 1], ['they', 1], ['vagabond', 1], ['your', 1]]\n",
            "[['the', 1], ['it', 1], ['new', 2], ['of', 1], ['york', 2], ['and', 1], ['around', 1], ['heart', 1], ['steps', 1]]\n"
          ]
        }
      ]
    },
    {
      "cell_type": "code",
      "source": [
        "BoW_corpus"
      ],
      "metadata": {
        "colab": {
          "base_uri": "https://localhost:8080/"
        },
        "id": "bexFvcjL_Hay",
        "outputId": "0bd2c265-b53a-4cea-ce0a-faf6744a71b1"
      },
      "execution_count": 42,
      "outputs": [
        {
          "output_type": "execute_result",
          "data": {
            "text/plain": [
              "[[(0, 1), (1, 1), (2, 1), (3, 1)],\n",
              " [(4, 1), (5, 1), (6, 1), (7, 1), (8, 1), (9, 1), (10, 1)],\n",
              " [(11, 1), (12, 1), (13, 2), (14, 1), (15, 1), (16, 1), (17, 1), (18, 2)],\n",
              " [(16, 1), (19, 1), (20, 1), (21, 1), (22, 1), (23, 1), (24, 1), (25, 1)],\n",
              " [(3, 1),\n",
              "  (12, 1),\n",
              "  (13, 2),\n",
              "  (14, 1),\n",
              "  (18, 2),\n",
              "  (26, 1),\n",
              "  (27, 1),\n",
              "  (28, 1),\n",
              "  (29, 1)]]"
            ]
          },
          "metadata": {},
          "execution_count": 42
        }
      ]
    },
    {
      "cell_type": "code",
      "source": [
        "# Get the tfidf transformed corpus,\n",
        "# then the vector of the third sentence.\n",
        "tfidf[BoW_corpus][4]"
      ],
      "metadata": {
        "colab": {
          "base_uri": "https://localhost:8080/"
        },
        "id": "PG8EVVIosetO",
        "outputId": "bb0e2f90-e402-449c-ffe2-bf7e9b160909"
      },
      "execution_count": 43,
      "outputs": [
        {
          "output_type": "execute_result",
          "data": {
            "text/plain": [
              "[(3, 0.21496814396163463),\n",
              " (12, 0.21496814396163463),\n",
              " (13, 0.42993628792326927),\n",
              " (14, 0.21496814396163463),\n",
              " (18, 0.42993628792326927),\n",
              " (26, 0.35059794205706235),\n",
              " (27, 0.35059794205706235),\n",
              " (28, 0.35059794205706235),\n",
              " (29, 0.35059794205706235)]"
            ]
          },
          "metadata": {},
          "execution_count": 43
        }
      ]
    },
    {
      "cell_type": "markdown",
      "metadata": {
        "id": "-eKdB5SqSN4l"
      },
      "source": [
        "### (C.2) TD-IDF with Scikit-learn"
      ]
    },
    {
      "cell_type": "code",
      "execution_count": 44,
      "metadata": {
        "colab": {
          "base_uri": "https://localhost:8080/",
          "height": 72
        },
        "id": "h1KXMUQ8SR8e",
        "outputId": "decda684-9e96-4f06-b9a2-19978c9e11de"
      },
      "outputs": [
        {
          "output_type": "execute_result",
          "data": {
            "text/plain": [
              "TfidfVectorizer()"
            ],
            "text/html": [
              "<style>#sk-container-id-2 {color: black;background-color: white;}#sk-container-id-2 pre{padding: 0;}#sk-container-id-2 div.sk-toggleable {background-color: white;}#sk-container-id-2 label.sk-toggleable__label {cursor: pointer;display: block;width: 100%;margin-bottom: 0;padding: 0.3em;box-sizing: border-box;text-align: center;}#sk-container-id-2 label.sk-toggleable__label-arrow:before {content: \"▸\";float: left;margin-right: 0.25em;color: #696969;}#sk-container-id-2 label.sk-toggleable__label-arrow:hover:before {color: black;}#sk-container-id-2 div.sk-estimator:hover label.sk-toggleable__label-arrow:before {color: black;}#sk-container-id-2 div.sk-toggleable__content {max-height: 0;max-width: 0;overflow: hidden;text-align: left;background-color: #f0f8ff;}#sk-container-id-2 div.sk-toggleable__content pre {margin: 0.2em;color: black;border-radius: 0.25em;background-color: #f0f8ff;}#sk-container-id-2 input.sk-toggleable__control:checked~div.sk-toggleable__content {max-height: 200px;max-width: 100%;overflow: auto;}#sk-container-id-2 input.sk-toggleable__control:checked~label.sk-toggleable__label-arrow:before {content: \"▾\";}#sk-container-id-2 div.sk-estimator input.sk-toggleable__control:checked~label.sk-toggleable__label {background-color: #d4ebff;}#sk-container-id-2 div.sk-label input.sk-toggleable__control:checked~label.sk-toggleable__label {background-color: #d4ebff;}#sk-container-id-2 input.sk-hidden--visually {border: 0;clip: rect(1px 1px 1px 1px);clip: rect(1px, 1px, 1px, 1px);height: 1px;margin: -1px;overflow: hidden;padding: 0;position: absolute;width: 1px;}#sk-container-id-2 div.sk-estimator {font-family: monospace;background-color: #f0f8ff;border: 1px dotted black;border-radius: 0.25em;box-sizing: border-box;margin-bottom: 0.5em;}#sk-container-id-2 div.sk-estimator:hover {background-color: #d4ebff;}#sk-container-id-2 div.sk-parallel-item::after {content: \"\";width: 100%;border-bottom: 1px solid gray;flex-grow: 1;}#sk-container-id-2 div.sk-label:hover label.sk-toggleable__label {background-color: #d4ebff;}#sk-container-id-2 div.sk-serial::before {content: \"\";position: absolute;border-left: 1px solid gray;box-sizing: border-box;top: 0;bottom: 0;left: 50%;z-index: 0;}#sk-container-id-2 div.sk-serial {display: flex;flex-direction: column;align-items: center;background-color: white;padding-right: 0.2em;padding-left: 0.2em;position: relative;}#sk-container-id-2 div.sk-item {position: relative;z-index: 1;}#sk-container-id-2 div.sk-parallel {display: flex;align-items: stretch;justify-content: center;background-color: white;position: relative;}#sk-container-id-2 div.sk-item::before, #sk-container-id-2 div.sk-parallel-item::before {content: \"\";position: absolute;border-left: 1px solid gray;box-sizing: border-box;top: 0;bottom: 0;left: 50%;z-index: -1;}#sk-container-id-2 div.sk-parallel-item {display: flex;flex-direction: column;z-index: 1;position: relative;background-color: white;}#sk-container-id-2 div.sk-parallel-item:first-child::after {align-self: flex-end;width: 50%;}#sk-container-id-2 div.sk-parallel-item:last-child::after {align-self: flex-start;width: 50%;}#sk-container-id-2 div.sk-parallel-item:only-child::after {width: 0;}#sk-container-id-2 div.sk-dashed-wrapped {border: 1px dashed gray;margin: 0 0.4em 0.5em 0.4em;box-sizing: border-box;padding-bottom: 0.4em;background-color: white;}#sk-container-id-2 div.sk-label label {font-family: monospace;font-weight: bold;display: inline-block;line-height: 1.2em;}#sk-container-id-2 div.sk-label-container {text-align: center;}#sk-container-id-2 div.sk-container {/* jupyter's `normalize.less` sets `[hidden] { display: none; }` but bootstrap.min.css set `[hidden] { display: none !important; }` so we also need the `!important` here to be able to override the default hidden behavior on the sphinx rendered scikit-learn.org. See: https://github.com/scikit-learn/scikit-learn/issues/21755 */display: inline-block !important;position: relative;}#sk-container-id-2 div.sk-text-repr-fallback {display: none;}</style><div id=\"sk-container-id-2\" class=\"sk-top-container\"><div class=\"sk-text-repr-fallback\"><pre>TfidfVectorizer()</pre><b>In a Jupyter environment, please rerun this cell to show the HTML representation or trust the notebook. <br />On GitHub, the HTML representation is unable to render, please try loading this page with nbviewer.org.</b></div><div class=\"sk-container\" hidden><div class=\"sk-item\"><div class=\"sk-estimator sk-toggleable\"><input class=\"sk-toggleable__control sk-hidden--visually\" id=\"sk-estimator-id-2\" type=\"checkbox\" checked><label for=\"sk-estimator-id-2\" class=\"sk-toggleable__label sk-toggleable__label-arrow\">TfidfVectorizer</label><div class=\"sk-toggleable__content\"><pre>TfidfVectorizer()</pre></div></div></div></div></div>"
            ]
          },
          "metadata": {},
          "execution_count": 44
        }
      ],
      "source": [
        "from sklearn.feature_extraction.text import TfidfVectorizer\n",
        "tfidf_vectorizer = TfidfVectorizer()\n",
        "tfidf_vectorizer.fit(doc_list)"
      ]
    },
    {
      "cell_type": "code",
      "execution_count": 45,
      "metadata": {
        "colab": {
          "base_uri": "https://localhost:8080/"
        },
        "id": "y9A4sAANST5-",
        "outputId": "30b5d5d0-ba5a-40bd-b12a-f36f07022284"
      },
      "outputs": [
        {
          "output_type": "stream",
          "name": "stdout",
          "text": [
            "[[0.   0.   0.   0.   0.   0.   0.   0.   0.   0.   0.   0.52 0.   0.\n",
            "  0.   0.   0.52 0.52 0.   0.   0.   0.42 0.   0.   0.   0.   0.   0.\n",
            "  0.   0.  ]\n",
            " [0.   0.   0.   0.   0.38 0.   0.38 0.   0.38 0.   0.   0.   0.   0.\n",
            "  0.38 0.   0.   0.   0.   0.   0.38 0.   0.   0.   0.38 0.   0.   0.\n",
            "  0.38 0.  ]\n",
            " [0.   0.   0.   0.31 0.   0.   0.   0.25 0.   0.   0.51 0.   0.25 0.31\n",
            "  0.   0.   0.   0.   0.   0.   0.   0.   0.   0.25 0.   0.   0.31 0.51\n",
            "  0.   0.  ]\n",
            " [0.   0.36 0.   0.   0.   0.   0.   0.   0.   0.36 0.   0.   0.   0.\n",
            "  0.   0.36 0.   0.   0.   0.36 0.   0.   0.36 0.29 0.   0.36 0.   0.\n",
            "  0.   0.36]\n",
            " [0.3  0.   0.3  0.   0.   0.3  0.   0.24 0.   0.   0.48 0.   0.24 0.\n",
            "  0.   0.   0.   0.   0.3  0.   0.   0.24 0.   0.   0.   0.   0.   0.48\n",
            "  0.   0.  ]]\n"
          ]
        }
      ],
      "source": [
        "import numpy as np\n",
        "np.set_printoptions(precision=2)\n",
        "\n",
        "print(tfidf_vectorizer.transform(doc_list).toarray())"
      ]
    },
    {
      "cell_type": "code",
      "execution_count": 47,
      "metadata": {
        "id": "zNyCAHQPSWHT",
        "colab": {
          "base_uri": "https://localhost:8080/"
        },
        "outputId": "220d228d-27d3-46ca-d2e5-1b5a3ca28823"
      },
      "outputs": [
        {
          "output_type": "execute_result",
          "data": {
            "text/plain": [
              "array(['and', 'are', 'around', 'be', 'friend', 'heart', 'him', 'it',\n",
              "       'leaving', 'longing', 'new', 'news', 'of', 'part', 're', 'shoes',\n",
              "       'spreading', 'start', 'steps', 'stray', 'tell', 'the', 'they',\n",
              "       'to', 'today', 'vagabond', 'want', 'york', 'you', 'your'],\n",
              "      dtype=object)"
            ]
          },
          "metadata": {},
          "execution_count": 47
        }
      ],
      "source": [
        "tfidf_vectorizer.get_feature_names_out()"
      ]
    },
    {
      "cell_type": "code",
      "execution_count": 48,
      "metadata": {
        "id": "n_T8sDxTSYGi",
        "colab": {
          "base_uri": "https://localhost:8080/"
        },
        "outputId": "dde41188-2f4f-4b75-cd8f-f244e228f50b"
      },
      "outputs": [
        {
          "output_type": "execute_result",
          "data": {
            "text/plain": [
              "array([0.3 , 0.  , 0.3 , 0.  , 0.  , 0.3 , 0.  , 0.24, 0.  , 0.  , 0.48,\n",
              "       0.  , 0.24, 0.  , 0.  , 0.  , 0.  , 0.  , 0.3 , 0.  , 0.  , 0.24,\n",
              "       0.  , 0.  , 0.  , 0.  , 0.  , 0.48, 0.  , 0.  ])"
            ]
          },
          "metadata": {},
          "execution_count": 48
        }
      ],
      "source": [
        "tfidf_vectorizer.transform(doc_list).toarray()[4]"
      ]
    },
    {
      "cell_type": "code",
      "source": [],
      "metadata": {
        "id": "rCPTydBAC3Zy"
      },
      "execution_count": 48,
      "outputs": []
    }
  ],
  "metadata": {
    "colab": {
      "provenance": []
    },
    "kernelspec": {
      "display_name": "Python 3",
      "name": "python3"
    },
    "language_info": {
      "name": "python"
    }
  },
  "nbformat": 4,
  "nbformat_minor": 0
}