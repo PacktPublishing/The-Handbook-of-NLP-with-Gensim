{
  "cells": [
    {
      "cell_type": "markdown",
      "metadata": {
        "id": "rEhNKtq7Lx3u"
      },
      "source": [
        "## LDA with Gensim"
      ]
    },
    {
      "cell_type": "code",
      "source": [
        "import pandas as pd\n",
        "import numpy as np\n",
        "import gensim\n",
        "from gensim.models import LdaModel"
      ],
      "metadata": {
        "id": "ZUJMiajke8Pt"
      },
      "execution_count": 1,
      "outputs": []
    },
    {
      "cell_type": "code",
      "source": [
        "from google.colab import drive\n",
        "drive.mount('/content/gdrive')"
      ],
      "metadata": {
        "colab": {
          "base_uri": "https://localhost:8080/"
        },
        "id": "8ahkkKXxqm2C",
        "outputId": "830d19fa-e0e3-4ce8-bc3f-5b287e9eacdf"
      },
      "execution_count": 6,
      "outputs": [
        {
          "output_type": "stream",
          "name": "stdout",
          "text": [
            "Mounted at /content/gdrive\n"
          ]
        }
      ]
    },
    {
      "cell_type": "code",
      "source": [
        "path = '/content/gdrive/My Drive/data/gensim'"
      ],
      "metadata": {
        "id": "ZrqUwbsTe8ST"
      },
      "execution_count": 7,
      "outputs": []
    },
    {
      "cell_type": "code",
      "source": [
        "pd.set_option('display.max_colwidth', -1)\n",
        "train = pd.read_csv(path + \"/ag_news_train.csv\")\n",
        "from gensim.parsing.preprocessing import preprocess_string\n",
        "text_tokenized = []\n",
        "for doc in train['Description']:\n",
        "   k = preprocess_string(doc)\n",
        "   text_tokenized.append(k)"
      ],
      "metadata": {
        "colab": {
          "base_uri": "https://localhost:8080/"
        },
        "id": "80dI3VqdqP6-",
        "outputId": "41feb9d4-c9d9-4627-838f-1ed74c1c3bc5"
      },
      "execution_count": 9,
      "outputs": [
        {
          "output_type": "stream",
          "name": "stderr",
          "text": [
            "<ipython-input-9-ad0f4bb62a5d>:1: FutureWarning: Passing a negative integer is deprecated in version 1.0 and will not be supported in future version. Instead, use None to not limit the column width.\n",
            "  pd.set_option('display.max_colwidth', -1)\n"
          ]
        }
      ]
    },
    {
      "cell_type": "code",
      "source": [
        "text_tokenized[0:3]"
      ],
      "metadata": {
        "colab": {
          "base_uri": "https://localhost:8080/"
        },
        "id": "usGFymWsqP9k",
        "outputId": "60b3ff4c-eafd-4df0-a188-021c1a43f1a0"
      },
      "execution_count": 10,
      "outputs": [
        {
          "output_type": "execute_result",
          "data": {
            "text/plain": [
              "[['reuter',\n",
              "  'short',\n",
              "  'seller',\n",
              "  'wall',\n",
              "  'street',\n",
              "  'dwindl',\n",
              "  'band',\n",
              "  'ultra',\n",
              "  'cynic',\n",
              "  'see',\n",
              "  'green'],\n",
              " ['reuter',\n",
              "  'privat',\n",
              "  'invest',\n",
              "  'firm',\n",
              "  'carlyl',\n",
              "  'group',\n",
              "  'reput',\n",
              "  'make',\n",
              "  'time',\n",
              "  'occasion',\n",
              "  'controversi',\n",
              "  'plai',\n",
              "  'defens',\n",
              "  'industri',\n",
              "  'quietli',\n",
              "  'place',\n",
              "  'bet',\n",
              "  'market'],\n",
              " ['reuter',\n",
              "  'soar',\n",
              "  'crude',\n",
              "  'price',\n",
              "  'plu',\n",
              "  'worri',\n",
              "  'economi',\n",
              "  'outlook',\n",
              "  'earn',\n",
              "  'expect',\n",
              "  'hang',\n",
              "  'stock',\n",
              "  'market',\n",
              "  'week',\n",
              "  'depth',\n",
              "  'summer',\n",
              "  'doldrum']]"
            ]
          },
          "metadata": {},
          "execution_count": 10
        }
      ]
    },
    {
      "cell_type": "code",
      "source": [
        "from gensim.corpora import Dictionary\n",
        "gensim_dictionary = Dictionary()\n",
        "bow_corpus = [gensim_dictionary.doc2bow(doc, allow_update=True) for doc in text_tokenized]\n",
        "id_words = [[(gensim_dictionary[id], count) for id, count in line] for line in bow_corpus]"
      ],
      "metadata": {
        "id": "Qi_fs-hKqP_p"
      },
      "execution_count": 11,
      "outputs": []
    },
    {
      "cell_type": "code",
      "source": [
        "from gensim.models import TfidfModel\n",
        "tfidf = TfidfModel(bow_corpus)\n",
        "corpus_tfidf = tfidf[bow_corpus]"
      ],
      "metadata": {
        "id": "xhraGBJRqQCD"
      },
      "execution_count": 12,
      "outputs": []
    },
    {
      "cell_type": "code",
      "source": [
        "from gensim.test.utils import datapath\n",
        "dict_file = datapath(path + \"/gensim_dictionary_AGnews\")\n",
        "gensim_dictionary.save(dict_file)"
      ],
      "metadata": {
        "id": "cPT_XBcVfaNu"
      },
      "execution_count": 13,
      "outputs": []
    },
    {
      "cell_type": "code",
      "source": [
        "import pickle\n",
        "file = open(path + \"/BoW_AGnews_corpus.pkl\", 'wb')\n",
        "pickle.dump(bow_corpus, file)\n",
        "file.close()"
      ],
      "metadata": {
        "id": "YN0Rkoc4e8bf"
      },
      "execution_count": 14,
      "outputs": []
    },
    {
      "cell_type": "code",
      "source": [
        "file = open(path + \"/TFIDF_AGnews_corpus.pkl\", 'wb')\n",
        "pickle.dump(corpus_tfidf, file)\n",
        "file.close()"
      ],
      "metadata": {
        "id": "xHhmLCHNrM0U"
      },
      "execution_count": 15,
      "outputs": []
    },
    {
      "cell_type": "code",
      "source": [
        "from gensim import corpora\n",
        "corpora.MmCorpus.serialize(path + \"/BoW_AGnews_corpus.mm\", bow_corpus)\n",
        "corpora.MmCorpus.serialize(path + \"/TFIDF_AGnews_corpus.mm\", corpus_tfidf)"
      ],
      "metadata": {
        "id": "iRlNHGoYrM22"
      },
      "execution_count": 16,
      "outputs": []
    },
    {
      "cell_type": "code",
      "source": [],
      "metadata": {
        "id": "wPMcYQMurM41"
      },
      "execution_count": null,
      "outputs": []
    },
    {
      "cell_type": "code",
      "source": [
        "from gensim.models import LdaModel\n",
        "lda_bow = LdaModel(bow_corpus,\n",
        "num_topics=10,\n",
        "id2word = gensim_dictionary)"
      ],
      "metadata": {
        "id": "Qm738yKLrM7V"
      },
      "execution_count": 17,
      "outputs": []
    },
    {
      "cell_type": "code",
      "source": [
        "import pprint as pp\n",
        "pp.pprint(lda_bow.print_topics())"
      ],
      "metadata": {
        "colab": {
          "base_uri": "https://localhost:8080/"
        },
        "id": "kT7Kz7RCrM9V",
        "outputId": "d012a8e2-cdcb-4fe0-ed8b-3542bff81a48"
      },
      "execution_count": 18,
      "outputs": [
        {
          "output_type": "stream",
          "name": "stdout",
          "text": [
            "[(0,\n",
            "  '0.058*\"quot\" + 0.010*\"oracl\" + 0.010*\"new\" + 0.009*\"india\" + 0.009*\"dec\" + '\n",
            "  '0.008*\"secur\" + 0.008*\"mail\" + 0.008*\"european\" + 0.008*\"phone\" + '\n",
            "  '0.006*\"mobil\"'),\n",
            " (1,\n",
            "  '0.024*\"game\" + 0.021*\"new\" + 0.019*\"season\" + 0.015*\"night\" + 0.014*\"leagu\" '\n",
            "  '+ 0.011*\"coach\" + 0.010*\"year\" + 0.009*\"point\" + 0.009*\"team\" + '\n",
            "  '0.009*\"red\"'),\n",
            " (2,\n",
            "  '0.012*\"south\" + 0.010*\"state\" + 0.009*\"north\" + 0.009*\"year\" + '\n",
            "  '0.008*\"nation\" + 0.008*\"test\" + 0.008*\"china\" + 0.008*\"dai\" + 0.008*\"peopl\" '\n",
            "  '+ 0.007*\"said\"'),\n",
            " (3,\n",
            "  '0.013*\"sport\" + 0.012*\"world\" + 0.011*\"final\" + 0.010*\"team\" + 0.010*\"year\" '\n",
            "  '+ 0.010*\"second\" + 0.009*\"win\" + 0.009*\"game\" + 0.008*\"champion\" + '\n",
            "  '0.008*\"cup\"'),\n",
            " (4,\n",
            "  '0.019*\"presid\" + 0.014*\"said\" + 0.012*\"minist\" + 0.011*\"elect\" + '\n",
            "  '0.010*\"leader\" + 0.009*\"state\" + 0.009*\"prime\" + 0.008*\"palestinian\" + '\n",
            "  '0.008*\"govern\" + 0.007*\"plan\"'),\n",
            " (5,\n",
            "  '0.035*\"reuter\" + 0.025*\"said\" + 0.021*\"fullquot\" + 0.018*\"kill\" + '\n",
            "  '0.014*\"target\" + 0.014*\"http\" + 0.013*\"www\" + 0.013*\"ticker\" + 0.013*\"href\" '\n",
            "  '+ 0.012*\"iraq\"'),\n",
            " (6,\n",
            "  '0.018*\"space\" + 0.012*\"nasa\" + 0.010*\"soni\" + 0.010*\"font\" + 0.010*\"real\" + '\n",
            "  '0.009*\"dvd\" + 0.009*\"agent\" + 0.009*\"winter\" + 0.009*\"face\" + '\n",
            "  '0.008*\"madrid\"'),\n",
            " (7,\n",
            "  '0.023*\"said\" + 0.018*\"million\" + 0.015*\"compani\" + 0.014*\"deal\" + '\n",
            "  '0.014*\"unit\" + 0.012*\"agre\" + 0.012*\"billion\" + 0.010*\"group\" + '\n",
            "  '0.009*\"execut\" + 0.009*\"chief\"'),\n",
            " (8,\n",
            "  '0.020*\"new\" + 0.018*\"compani\" + 0.012*\"softwar\" + 0.012*\"servic\" + '\n",
            "  '0.010*\"technolog\" + 0.010*\"corp\" + 0.009*\"search\" + 0.009*\"announc\" + '\n",
            "  '0.009*\"internet\" + 0.008*\"busi\"'),\n",
            " (9,\n",
            "  '0.020*\"reuter\" + 0.019*\"new\" + 0.018*\"oil\" + 0.016*\"year\" + 0.016*\"percent\" '\n",
            "  '+ 0.015*\"price\" + 0.014*\"stock\" + 0.013*\"said\" + 0.012*\"york\" + '\n",
            "  '0.011*\"sale\"')]\n"
          ]
        }
      ]
    },
    {
      "cell_type": "code",
      "source": [
        "lda_tfidf = LdaModel(corpus_tfidf, num_topics=10,\n",
        "id2word = gensim_dictionary)"
      ],
      "metadata": {
        "id": "2fo_BnWWrM_m"
      },
      "execution_count": 19,
      "outputs": []
    },
    {
      "cell_type": "code",
      "source": [
        "import pprint as pp\n",
        "pp.pprint(lda_tfidf.print_topics())"
      ],
      "metadata": {
        "colab": {
          "base_uri": "https://localhost:8080/"
        },
        "id": "nrzm-HpNrNB9",
        "outputId": "d17e1672-97b9-415a-f0e8-4d0b007f068c"
      },
      "execution_count": 20,
      "outputs": [
        {
          "output_type": "stream",
          "name": "stdout",
          "text": [
            "[(0,\n",
            "  '0.008*\"season\" + 0.008*\"coach\" + 0.008*\"game\" + 0.007*\"team\" + '\n",
            "  '0.007*\"sport\" + 0.007*\"night\" + 0.006*\"leagu\" + 0.006*\"player\" + '\n",
            "  '0.006*\"win\" + 0.006*\"second\"'),\n",
            " (1,\n",
            "  '0.020*\"fullquot\" + 0.012*\"reuter\" + 0.012*\"http\" + 0.011*\"www\" + '\n",
            "  '0.011*\"href\" + 0.011*\"ticker\" + 0.011*\"target\" + 0.010*\"aspx\" + '\n",
            "  '0.010*\"quickinfo\" + 0.010*\"com\"'),\n",
            " (2,\n",
            "  '0.005*\"presid\" + 0.005*\"state\" + 0.004*\"bush\" + 0.004*\"dec\" + 0.004*\"year\" '\n",
            "  '+ 0.004*\"said\" + 0.004*\"elect\" + 0.004*\"footbal\" + 0.004*\"european\" + '\n",
            "  '0.004*\"quot\"'),\n",
            " (3,\n",
            "  '0.007*\"oracl\" + 0.007*\"airlin\" + 0.006*\"peoplesoft\" + 0.005*\"palestinian\" + '\n",
            "  '0.005*\"bankruptci\" + 0.004*\"secur\" + 0.004*\"said\" + 0.004*\"amp\" + '\n",
            "  '0.004*\"madrid\" + 0.004*\"browser\"'),\n",
            " (4,\n",
            "  '0.008*\"decemb\" + 0.007*\"iraq\" + 0.007*\"minist\" + 0.007*\"said\" + '\n",
            "  '0.006*\"iraqi\" + 0.006*\"govern\" + 0.005*\"prime\" + 0.005*\"presid\" + '\n",
            "  '0.005*\"kill\" + 0.005*\"countri\"'),\n",
            " (5,\n",
            "  '0.010*\"holidai\" + 0.010*\"score\" + 0.009*\"point\" + 0.009*\"arafat\" + '\n",
            "  '0.008*\"yasser\" + 0.008*\"palestinian\" + 0.007*\"kill\" + 0.007*\"font\" + '\n",
            "  '0.006*\"shop\" + 0.006*\"winter\"'),\n",
            " (6,\n",
            "  '0.010*\"nextel\" + 0.007*\"bowl\" + 0.007*\"point\" + 0.006*\"touchdown\" + '\n",
            "  '0.006*\"dame\" + 0.006*\"notr\" + 0.005*\"indiana\" + 0.005*\"cricket\" + '\n",
            "  '0.005*\"spain\" + 0.004*\"celtic\"'),\n",
            " (7,\n",
            "  '0.007*\"compani\" + 0.007*\"softwar\" + 0.006*\"new\" + 0.006*\"search\" + '\n",
            "  '0.006*\"servic\" + 0.005*\"internet\" + 0.005*\"technolog\" + 0.005*\"announc\" + '\n",
            "  '0.005*\"microsoft\" + 0.005*\"phone\"'),\n",
            " (8,\n",
            "  '0.009*\"oil\" + 0.007*\"compani\" + 0.006*\"drug\" + 0.006*\"million\" + '\n",
            "  '0.006*\"said\" + 0.006*\"billion\" + 0.006*\"yuko\" + 0.005*\"agre\" + 0.005*\"new\" '\n",
            "  '+ 0.004*\"nhl\"'),\n",
            " (9,\n",
            "  '0.009*\"percent\" + 0.009*\"price\" + 0.008*\"year\" + 0.008*\"sale\" + '\n",
            "  '0.008*\"expect\" + 0.007*\"dollar\" + 0.007*\"rate\" + 0.007*\"quarter\" + '\n",
            "  '0.007*\"reuter\" + 0.007*\"oil\"')]\n"
          ]
        }
      ]
    },
    {
      "cell_type": "code",
      "source": [
        "def build_lda_models(input_data, name, k):\n",
        "    np.random.seed(42)\n",
        "    # Train the model\n",
        "    lda = LdaModel(input_data,\n",
        "              num_topics=k,\n",
        "              id2word = gensim_dictionary)\n",
        "    # Save the model\n",
        "    from gensim.test.utils import datapath\n",
        "    tempfile = datapath( path + \"/LDA_\"\n",
        "        + name + \"_\" + str(k))\n",
        "    lda.save(tempfile)"
      ],
      "metadata": {
        "id": "QHw_jsRhrND_"
      },
      "execution_count": 21,
      "outputs": []
    },
    {
      "cell_type": "code",
      "source": [
        "import numpy as np\n",
        "numTopicsList = np.arange(1,251,50)\n",
        "for k in numTopicsList:\n",
        "    build_lda_models(bow_corpus, \"bow\", k)"
      ],
      "metadata": {
        "id": "xKucmWoFrNGl"
      },
      "execution_count": 22,
      "outputs": []
    },
    {
      "cell_type": "code",
      "execution_count": 23,
      "metadata": {
        "id": "ofXd5gWELGHu"
      },
      "outputs": [],
      "source": [
        "np.random.seed(42)\n",
        "numTopicsList = np.arange(1,251,50)\n",
        "for k in numTopicsList:\n",
        "    build_lda_models(corpus_tfidf, \"tfidf\", k)"
      ]
    },
    {
      "cell_type": "code",
      "source": [
        "from gensim.models.coherencemodel import CoherenceModel\n",
        "coherence_lda_bow = CoherenceModel(model=lda_bow,\n",
        "        texts=text_tokenized,\n",
        "        dictionary=gensim_dictionary,\n",
        "        coherence='c_v')\n",
        "coherence_lda = coherence_lda_bow.get_coherence()\n",
        "print('\\nCoherence Score: ', coherence_lda)"
      ],
      "metadata": {
        "colab": {
          "base_uri": "https://localhost:8080/"
        },
        "id": "PpFfsek3sZdO",
        "outputId": "7ebb1c35-64a5-449b-b3c4-7f012affd1fc"
      },
      "execution_count": 24,
      "outputs": [
        {
          "output_type": "stream",
          "name": "stdout",
          "text": [
            "\n",
            "Coherence Score:  0.470631473869547\n"
          ]
        }
      ]
    },
    {
      "cell_type": "code",
      "source": [
        "from gensim.models import LdaModel"
      ],
      "metadata": {
        "id": "2WrQTvsyv8Na"
      },
      "execution_count": 35,
      "outputs": []
    },
    {
      "cell_type": "code",
      "source": [
        "from gensim.models.coherencemodel import CoherenceModel\n",
        "from gensim.test.utils import datapath\n",
        "np.random.seed(42)\n",
        "def coherenceScore(corpus, name, k):\n",
        "    # Load the model\n",
        "    tempfile = datapath( path + \"/LDA_\"\n",
        " \t    + name + \"_\" + str(k))\n",
        "    lda = LdaModel.load(tempfile)\n",
        "\n",
        "    # Compute the score\n",
        "    coherence = CoherenceModel(model=lda,\n",
        "                              texts=text_tokenized,\n",
        "                              dictionary=gensim_dictionary,\n",
        "                              coherence='u_mass')\n",
        "    return coherence.get_coherence()"
      ],
      "metadata": {
        "id": "Wi7PsOGosZhq"
      },
      "execution_count": 36,
      "outputs": []
    },
    {
      "cell_type": "code",
      "source": [
        "coherenceList = []\n",
        "numTopicsList = np.arange(1,251,50)\n",
        "for k in numTopicsList:\n",
        "    c = coherenceScore(bow_corpus, \"bow\", k)\n",
        "    coherenceList.append(c)"
      ],
      "metadata": {
        "id": "fjxdvUlNsZke"
      },
      "execution_count": 37,
      "outputs": []
    },
    {
      "cell_type": "code",
      "source": [
        "from matplotlib import pyplot as plt\n",
        "plt.plot(numTopicsList, coherenceList)\n",
        "plt.savefig(path + \"/LDA_bow_coherence\")\n",
        "plt.show()"
      ],
      "metadata": {
        "colab": {
          "base_uri": "https://localhost:8080/",
          "height": 429
        },
        "id": "FxjRVZl_sZnG",
        "outputId": "195e6be4-6d5c-4f3c-c312-baad996a7da5"
      },
      "execution_count": 39,
      "outputs": [
        {
          "output_type": "display_data",
          "data": {
            "text/plain": [
              "<Figure size 640x480 with 1 Axes>"
            ],
            "image/png": "[encoded data removed]"
          },
          "metadata": {}
        }
      ]
    },
    {
      "cell_type": "code",
      "source": [
        "tempfile = datapath(path + \"/LDA_bow_151\")\n",
        "lda = LdaModel.load(tempfile)"
      ],
      "metadata": {
        "id": "vnGTYxrfsZp_"
      },
      "execution_count": 41,
      "outputs": []
    },
    {
      "cell_type": "code",
      "source": [
        "import pprint as pp\n",
        "pp.pprint(lda_bow.print_topics()[0:5])"
      ],
      "metadata": {
        "colab": {
          "base_uri": "https://localhost:8080/"
        },
        "id": "7zOLo1QitAfz",
        "outputId": "94b52e49-ea04-49c5-b6a0-c6e67a37c3e2"
      },
      "execution_count": 42,
      "outputs": [
        {
          "output_type": "stream",
          "name": "stdout",
          "text": [
            "[(0,\n",
            "  '0.058*\"quot\" + 0.010*\"oracl\" + 0.010*\"new\" + 0.009*\"india\" + 0.009*\"dec\" + '\n",
            "  '0.008*\"secur\" + 0.008*\"mail\" + 0.008*\"european\" + 0.008*\"phone\" + '\n",
            "  '0.006*\"mobil\"'),\n",
            " (1,\n",
            "  '0.024*\"game\" + 0.021*\"new\" + 0.019*\"season\" + 0.015*\"night\" + 0.014*\"leagu\" '\n",
            "  '+ 0.011*\"coach\" + 0.010*\"year\" + 0.009*\"point\" + 0.009*\"team\" + '\n",
            "  '0.009*\"red\"'),\n",
            " (2,\n",
            "  '0.012*\"south\" + 0.010*\"state\" + 0.009*\"north\" + 0.009*\"year\" + '\n",
            "  '0.008*\"nation\" + 0.008*\"test\" + 0.008*\"china\" + 0.008*\"dai\" + 0.008*\"peopl\" '\n",
            "  '+ 0.007*\"said\"'),\n",
            " (3,\n",
            "  '0.013*\"sport\" + 0.012*\"world\" + 0.011*\"final\" + 0.010*\"team\" + 0.010*\"year\" '\n",
            "  '+ 0.010*\"second\" + 0.009*\"win\" + 0.009*\"game\" + 0.008*\"champion\" + '\n",
            "  '0.008*\"cup\"'),\n",
            " (4,\n",
            "  '0.019*\"presid\" + 0.014*\"said\" + 0.012*\"minist\" + 0.011*\"elect\" + '\n",
            "  '0.010*\"leader\" + 0.009*\"state\" + 0.009*\"prime\" + 0.008*\"palestinian\" + '\n",
            "  '0.008*\"govern\" + 0.007*\"plan\"')]\n"
          ]
        }
      ]
    },
    {
      "cell_type": "code",
      "source": [],
      "metadata": {
        "id": "98t_5atYtAia"
      },
      "execution_count": null,
      "outputs": []
    },
    {
      "cell_type": "code",
      "source": [
        "new_texts = [\n",
        "'The new Windows operating system will be released',\n",
        "'The system uses the most difficult technologies and techniques',\n",
        "'The U.S. consumer prices dropped for the first time in ten months']"
      ],
      "metadata": {
        "id": "9oI4IviztAkv"
      },
      "execution_count": 43,
      "outputs": []
    },
    {
      "cell_type": "code",
      "source": [
        "from gensim.parsing.preprocessing import preprocess_string\n",
        "new_texts_tokenized = []\n",
        "for doc in new_texts:\n",
        "   k = preprocess_string(doc)\n",
        "   new_texts_tokenized.append(k)"
      ],
      "metadata": {
        "id": "Kkd3TeqXtAnf"
      },
      "execution_count": 44,
      "outputs": []
    },
    {
      "cell_type": "code",
      "source": [
        "new_corpus = [model_dict.doc2bow(text) for text in new_texts_tokenized]"
      ],
      "metadata": {
        "colab": {
          "base_uri": "https://localhost:8080/",
          "height": 218
        },
        "id": "HxPZGmostMjk",
        "outputId": "adc3ae1f-0e75-42b8-b57d-a70ea49e0a7a"
      },
      "execution_count": 45,
      "outputs": [
        {
          "output_type": "error",
          "ename": "NameError",
          "evalue": "ignored",
          "traceback": [
            "\u001b[0;31m---------------------------------------------------------------------------\u001b[0m",
            "\u001b[0;31mNameError\u001b[0m                                 Traceback (most recent call last)",
            "\u001b[0;32m<ipython-input-45-3cb5015187a3>\u001b[0m in \u001b[0;36m<cell line: 1>\u001b[0;34m()\u001b[0m\n\u001b[0;32m----> 1\u001b[0;31m \u001b[0mnew_corpus\u001b[0m \u001b[0;34m=\u001b[0m \u001b[0;34m[\u001b[0m\u001b[0mmodel_dict\u001b[0m\u001b[0;34m.\u001b[0m\u001b[0mdoc2bow\u001b[0m\u001b[0;34m(\u001b[0m\u001b[0mtext\u001b[0m\u001b[0;34m)\u001b[0m \u001b[0;32mfor\u001b[0m \u001b[0mtext\u001b[0m \u001b[0;32min\u001b[0m \u001b[0mnew_texts_tokenized\u001b[0m\u001b[0;34m]\u001b[0m\u001b[0;34m\u001b[0m\u001b[0;34m\u001b[0m\u001b[0m\n\u001b[0m",
            "\u001b[0;32m<ipython-input-45-3cb5015187a3>\u001b[0m in \u001b[0;36m<listcomp>\u001b[0;34m(.0)\u001b[0m\n\u001b[0;32m----> 1\u001b[0;31m \u001b[0mnew_corpus\u001b[0m \u001b[0;34m=\u001b[0m \u001b[0;34m[\u001b[0m\u001b[0mmodel_dict\u001b[0m\u001b[0;34m.\u001b[0m\u001b[0mdoc2bow\u001b[0m\u001b[0;34m(\u001b[0m\u001b[0mtext\u001b[0m\u001b[0;34m)\u001b[0m \u001b[0;32mfor\u001b[0m \u001b[0mtext\u001b[0m \u001b[0;32min\u001b[0m \u001b[0mnew_texts_tokenized\u001b[0m\u001b[0;34m]\u001b[0m\u001b[0;34m\u001b[0m\u001b[0;34m\u001b[0m\u001b[0m\n\u001b[0m",
            "\u001b[0;31mNameError\u001b[0m: name 'model_dict' is not defined"
          ]
        }
      ]
    },
    {
      "cell_type": "code",
      "source": [
        "new_texts_vector = lda_bow.get_document_topics(\n",
        "    new_corpus,\n",
        "    minimum_probability=0.05,\n",
        "    per_word_topics=False)"
      ],
      "metadata": {
        "id": "F1MKthSNtMmV"
      },
      "execution_count": null,
      "outputs": []
    },
    {
      "cell_type": "code",
      "source": [
        "for doc in new_texts_vector:\n",
        "  print(doc)"
      ],
      "metadata": {
        "id": "CqFlUOW3tMo4"
      },
      "execution_count": null,
      "outputs": []
    },
    {
      "cell_type": "code",
      "source": [
        "for i in [48,65,100]:\n",
        "    print(\"Topic\", i,\"is:\", lda_bow.print_topic(i))"
      ],
      "metadata": {
        "id": "ks98rePJtMro"
      },
      "execution_count": null,
      "outputs": []
    },
    {
      "cell_type": "code",
      "source": [
        "for i in [22,85]:\n",
        "  print(\"Topic\", i,\"is:\", lda_bow.print_topic(i))"
      ],
      "metadata": {
        "id": "JUpccw_Jtai8"
      },
      "execution_count": null,
      "outputs": []
    },
    {
      "cell_type": "code",
      "source": [],
      "metadata": {
        "id": "OLHvnc_-talY"
      },
      "execution_count": null,
      "outputs": []
    },
    {
      "cell_type": "code",
      "source": [],
      "metadata": {
        "id": "ZdXBj3MNeJZx"
      },
      "execution_count": null,
      "outputs": []
    }
  ],
  "metadata": {
    "colab": {
      "provenance": []
    },
    "kernelspec": {
      "display_name": "Python 3",
      "name": "python3"
    },
    "language_info": {
      "name": "python"
    }
  },
  "nbformat": 4,
  "nbformat_minor": 0
}