{
  "cells": [
    {
      "cell_type": "markdown",
      "metadata": {
        "id": "rEhNKtq7Lx3u"
      },
      "source": [
        "## Doc2Vec"
      ]
    },
    {
      "cell_type": "code",
      "source": [
        "#!pip install gensim==3.8.3"
      ],
      "metadata": {
        "id": "MDWry1_fZ-pD"
      },
      "execution_count": 1,
      "outputs": []
    },
    {
      "cell_type": "code",
      "execution_count": 2,
      "metadata": {
        "id": "ofXd5gWELGHu",
        "colab": {
          "base_uri": "https://localhost:8080/"
        },
        "outputId": "6a98e2e5-df4e-449b-e921-072e600cda04"
      },
      "outputs": [
        {
          "output_type": "stream",
          "name": "stdout",
          "text": [
            "Mounted at /content/gdrive\n"
          ]
        }
      ],
      "source": [
        "from google.colab import drive\n",
        "drive.mount('/content/gdrive')"
      ]
    },
    {
      "cell_type": "markdown",
      "source": [
        "### (A) Load the data"
      ],
      "metadata": {
        "id": "XA9V5xUi34C_"
      }
    },
    {
      "cell_type": "code",
      "execution_count": 3,
      "metadata": {
        "colab": {
          "base_uri": "https://localhost:8080/"
        },
        "id": "fvoa4QAjdNpx",
        "outputId": "c249e0f4-c798-4dbf-f2be-16dccf326c89"
      },
      "outputs": [
        {
          "output_type": "stream",
          "name": "stderr",
          "text": [
            "<ipython-input-3-ed44411462b0>:4: FutureWarning: Passing a negative integer is deprecated in version 1.0 and will not be supported in future version. Instead, use None to not limit the column width.\n",
            "  pd.set_option('display.max_colwidth', -1)\n"
          ]
        }
      ],
      "source": [
        "import pandas as pd\n",
        "import numpy as np\n",
        "path = '/content/gdrive/My Drive/data/gensim'\n",
        "pd.set_option('display.max_colwidth', -1)\n",
        "data = pd.read_csv(path + \"/ag_news_train.csv\")\n",
        "#train = train[train['Class Index']==3]"
      ]
    },
    {
      "cell_type": "code",
      "source": [
        "train = list(data['Description'])\n",
        "train_length = len(train)\n",
        "print(train_length)"
      ],
      "metadata": {
        "colab": {
          "base_uri": "https://localhost:8080/"
        },
        "id": "RSYTJ1g78V3Q",
        "outputId": "17e57847-130a-4541-b103-94e422122298"
      },
      "execution_count": 4,
      "outputs": [
        {
          "output_type": "stream",
          "name": "stdout",
          "text": [
            "120000\n"
          ]
        }
      ]
    },
    {
      "cell_type": "code",
      "execution_count": 5,
      "metadata": {
        "id": "RHvQifP3t2ZS"
      },
      "outputs": [],
      "source": [
        "from gensim.parsing.preprocessing import preprocess_string\n",
        "train_tokenized = []\n",
        "for doc in train:\n",
        "   k = preprocess_string(doc)\n",
        "   train_tokenized.append(k)"
      ]
    },
    {
      "cell_type": "code",
      "execution_count": 6,
      "metadata": {
        "colab": {
          "base_uri": "https://localhost:8080/"
        },
        "id": "CixRoRzUavdg",
        "outputId": "2b25236f-81a0-4263-9500-84c1987684e2"
      },
      "outputs": [
        {
          "output_type": "execute_result",
          "data": {
            "text/plain": [
              "[['reuter',\n",
              "  'short',\n",
              "  'seller',\n",
              "  'wall',\n",
              "  'street',\n",
              "  'dwindl',\n",
              "  'band',\n",
              "  'ultra',\n",
              "  'cynic',\n",
              "  'see',\n",
              "  'green'],\n",
              " ['reuter',\n",
              "  'privat',\n",
              "  'invest',\n",
              "  'firm',\n",
              "  'carlyl',\n",
              "  'group',\n",
              "  'reput',\n",
              "  'make',\n",
              "  'time',\n",
              "  'occasion',\n",
              "  'controversi',\n",
              "  'plai',\n",
              "  'defens',\n",
              "  'industri',\n",
              "  'quietli',\n",
              "  'place',\n",
              "  'bet',\n",
              "  'market'],\n",
              " ['reuter',\n",
              "  'soar',\n",
              "  'crude',\n",
              "  'price',\n",
              "  'plu',\n",
              "  'worri',\n",
              "  'economi',\n",
              "  'outlook',\n",
              "  'earn',\n",
              "  'expect',\n",
              "  'hang',\n",
              "  'stock',\n",
              "  'market',\n",
              "  'week',\n",
              "  'depth',\n",
              "  'summer',\n",
              "  'doldrum']]"
            ]
          },
          "metadata": {},
          "execution_count": 6
        }
      ],
      "source": [
        "train_tokenized[0:3]"
      ]
    },
    {
      "cell_type": "markdown",
      "metadata": {
        "id": "Tp4lgt07lumX"
      },
      "source": [
        "- Remember to re-use the code from Chapter 2. Do not re-invent the wheel."
      ]
    },
    {
      "cell_type": "code",
      "source": [
        "# Gensim Libraries\n",
        "import gensim\n",
        "import pprint as pp\n",
        "import random\n",
        "from gensim.models.doc2vec import Doc2Vec, TaggedDocument"
      ],
      "metadata": {
        "id": "wXV871xqU15O"
      },
      "execution_count": 7,
      "outputs": []
    },
    {
      "cell_type": "markdown",
      "source": [
        "### (B) Tag the data"
      ],
      "metadata": {
        "id": "WsHHO1Z4j6TG"
      }
    },
    {
      "cell_type": "code",
      "source": [
        "# Print out the first three to see\n",
        "train_tagged_data = [TaggedDocument(words=w, tags=[str(i)]) for i,w in enumerate(train_tokenized[0:3])]\n",
        "pp.pprint(train_tagged_data)"
      ],
      "metadata": {
        "colab": {
          "base_uri": "https://localhost:8080/"
        },
        "id": "UQAC3nuCfa7W",
        "outputId": "23f3d0c5-e756-44b0-d52e-2c26d1d4ad05"
      },
      "execution_count": 8,
      "outputs": [
        {
          "output_type": "stream",
          "name": "stdout",
          "text": [
            "[TaggedDocument(words=['reuter', 'short', 'seller', 'wall', 'street', 'dwindl', 'band', 'ultra', 'cynic', 'see', 'green'], tags=['0']),\n",
            " TaggedDocument(words=['reuter', 'privat', 'invest', 'firm', 'carlyl', 'group', 'reput', 'make', 'time', 'occasion', 'controversi', 'plai', 'defens', 'industri', 'quietli', 'place', 'bet', 'market'], tags=['1']),\n",
            " TaggedDocument(words=['reuter', 'soar', 'crude', 'price', 'plu', 'worri', 'economi', 'outlook', 'earn', 'expect', 'hang', 'stock', 'market', 'week', 'depth', 'summer', 'doldrum'], tags=['2'])]\n"
          ]
        }
      ]
    },
    {
      "cell_type": "code",
      "source": [
        "# Apply to all records\n",
        "train_tagged_data = [TaggedDocument(words=w, tags=[str(i)]) for i,w in enumerate(train_tokenized)]"
      ],
      "metadata": {
        "id": "xieXzfGwfa97"
      },
      "execution_count": 9,
      "outputs": []
    },
    {
      "cell_type": "markdown",
      "source": [
        "### (C) Modeling"
      ],
      "metadata": {
        "id": "N-4jXeSJj0Co"
      }
    },
    {
      "cell_type": "code",
      "source": [
        "# The default min_count in gensim's Word2Vec is set to 5.\n",
        "# If there is no word in the vocab with frequency greater than 4, the vocab will be empty. We will get an error message in the .build_vocab() step.\n",
        "# Because our dataset is small, we will set 'min_count=1'.\n",
        "model = gensim.models.doc2vec.Doc2Vec(vector_size=32, min_count=2, epochs=100)\n",
        "model.build_vocab(train_tagged_data)"
      ],
      "metadata": {
        "id": "UVWhLYbtfbAC"
      },
      "execution_count": 10,
      "outputs": []
    },
    {
      "cell_type": "code",
      "source": [
        "model.train(train_tagged_data, total_examples=model.corpus_count, epochs=100)"
      ],
      "metadata": {
        "id": "IG2ug8aofbEa"
      },
      "execution_count": 11,
      "outputs": []
    },
    {
      "cell_type": "markdown",
      "source": [
        "###(D) Save"
      ],
      "metadata": {
        "id": "DIPjW0EWb_3F"
      }
    },
    {
      "cell_type": "code",
      "source": [
        "# The model\n",
        "model.save(path + \"/doc2vec.model\")"
      ],
      "metadata": {
        "id": "82hWqrr-7rNI"
      },
      "execution_count": 15,
      "outputs": []
    },
    {
      "cell_type": "code",
      "source": [
        "# The training data\n",
        "import pickle\n",
        "train_file = path + '/ag_news_train.pkl'\n",
        "train_tokenized_file = path + '/ag_news_train_tokenized.pkl'\n",
        "\n",
        "with open(train_file, \"wb\") as fp:\n",
        "   pickle.dump(train, fp)\n",
        "with open(train_tokenized_file, \"wb\") as fp:\n",
        "   pickle.dump(train, fp)"
      ],
      "metadata": {
        "id": "W5BXC11OpKSw"
      },
      "execution_count": 17,
      "outputs": []
    },
    {
      "cell_type": "markdown",
      "source": [
        "#### (E) Production -- an existing article"
      ],
      "metadata": {
        "id": "udZ1VKPg7zrg"
      }
    },
    {
      "cell_type": "code",
      "source": [
        "import pandas as pd\n",
        "import numpy as np\n",
        "import pprint as pp\n",
        "from gensim.models.doc2vec import Doc2Vec\n",
        "from gensim.test.utils import get_tmpfile\n",
        "fname = get_tmpfile(path + \"/doc2vec.model\")\n",
        "model = Doc2Vec.load(fname)"
      ],
      "metadata": {
        "id": "lDb9tg6YYCdQ"
      },
      "execution_count": 19,
      "outputs": []
    },
    {
      "cell_type": "code",
      "source": [
        "import pickle\n",
        "train_file = path + '/ag_news_train.pkl'\n",
        "train_tokenized_file = path + '/ag_news_train_tokenized.pkl'\n",
        "\n",
        "with open(train_file, \"rb\") as fp:\n",
        "   train = pickle.load(fp)\n",
        "with open(train_tokenized_file, \"rb\") as fp:\n",
        "   train_tokenized = pickle.load(fp)"
      ],
      "metadata": {
        "id": "w1lKmHEuYCgJ"
      },
      "execution_count": 22,
      "outputs": []
    },
    {
      "cell_type": "markdown",
      "source": [
        "#### (E.2) Production -- a new article"
      ],
      "metadata": {
        "id": "eC6ppNPDj-lG"
      }
    },
    {
      "cell_type": "code",
      "source": [
        "take_one = 79\n",
        "print(train[take_one])\n",
        "similar_doc = model.docvecs.most_similar(take_one)\n",
        "print('The top similar ones are:')\n",
        "pp.pprint(similar_doc)"
      ],
      "metadata": {
        "colab": {
          "base_uri": "https://localhost:8080/"
        },
        "id": "x_iQZQm17rT_",
        "outputId": "253cd626-fbfd-4ac6-9739-d42f2d8e383e"
      },
      "execution_count": 23,
      "outputs": [
        {
          "output_type": "stream",
          "name": "stdout",
          "text": [
            "Reuters - A group of technology companies\\including Texas Instruments Inc. (TXN.N), STMicroelectronics\\(STM.PA) and Broadcom Corp. (BRCM.O), on Thursday said they\\will propose a new wireless networking standard up to 10 times\\the speed of the current generation.\n",
            "The top similar ones are:\n",
            "[('1153', 0.9342728853225708),\n",
            " ('57599', 0.7566302418708801),\n",
            " ('51164', 0.7441697120666504),\n",
            " ('7069', 0.7431583404541016),\n",
            " ('72914', 0.7323065400123596),\n",
            " ('117732', 0.726141095161438),\n",
            " ('109640', 0.7258638739585876),\n",
            " ('22875', 0.7141897678375244),\n",
            " ('93659', 0.6943594813346863),\n",
            " ('64110', 0.6815279722213745)]\n"
          ]
        },
        {
          "output_type": "stream",
          "name": "stderr",
          "text": [
            "<ipython-input-23-f6009b48eaa2>:3: DeprecationWarning: Call to deprecated `docvecs` (The `docvecs` property has been renamed `dv`.).\n",
            "  similar_doc = model.docvecs.most_similar(take_one)\n"
          ]
        }
      ]
    },
    {
      "cell_type": "code",
      "source": [
        "for i in range(len(similar_doc)):\n",
        "  id = similar_doc[i][0]\n",
        "  print('Id:',id, 'the news is:', train[int(id)])"
      ],
      "metadata": {
        "colab": {
          "base_uri": "https://localhost:8080/"
        },
        "id": "7YDXhdAHPf9t",
        "outputId": "c167d8ae-000d-43b4-898f-80d63058f287"
      },
      "execution_count": 24,
      "outputs": [
        {
          "output_type": "stream",
          "name": "stdout",
          "text": [
            "Id: 1153 the news is:  LOS ANGELES (Reuters) - A group of technology companies  including Texas Instruments Inc. &lt;A HREF=\"http://www.reuters.co.uk/financeQuoteLookup.jhtml?ticker=TXN.N qtype=sym infotype=info qcat=news\"&gt;TXN.N&lt;/A&gt;, STMicroelectronics  &lt;A HREF=\"http://www.reuters.co.uk/financeQuoteLookup.jhtml?ticker=STM.PA qtype=sym infotype=info qcat=news\"&gt;STM.PA&lt;/A&gt; and Broadcom Corp. &lt;A HREF=\"http://www.reuters.co.uk/financeQuoteLookup.jhtml?ticker=BRCM.O qtype=sym infotype=info qcat=news\"&gt;BRCM.O&lt;/A&gt;, on Thursday said they  will propose a new wireless networking standard up to 10 times  the speed of the current generation.\n",
            "Id: 57599 the news is: Reuters - The decision by British authorities\\to suspend the license of a major influenza vaccine\\manufacturer just before the vaccine was to be shipped shows a\\need for better communication, acting FDA chief Dr. Lester\\Crawford said on Monday.\n",
            "Id: 51164 the news is: New version of the Efficeon processor uses only 3 watts of power at 1-GHz speed.\n",
            "Id: 7069 the news is: Sony Corporation will introduce eight new flat screen televisions, which drastically elevate three fundamental elements: picture clarity, audio fidelity and easy user-operation - all of which, allows the user to see all that is possible within the new \n",
            "Id: 72914 the news is: Intel and Clearwire, Craig McCaw #39;s wireless broadband services company, plan to jointly develop and deploy wireless broadband WiMax networks, the companies announced today.\n",
            "Id: 117732 the news is: Seeking to speed the delivery of new communications services to US airline passengers, the government yesterday paved the way for at least one company to compete \n",
            "Id: 109640 the news is:  AT #38;T Government Solutions said yesterday it has won a contract worth as much as \\$1 billion to provide a high-speed communications network to the Treasury Department.\n",
            "Id: 22875 the news is: Intel #39;s chief technologist called for an overlay network to be applied to the Internet infrastructure to allow new protocols and services to be enabled.\n",
            "Id: 93659 the news is: NEW YORK, November 17 (newratings.com) - SBC Communications Inc (SBC.NYS) announced an agreement with Microsoft Corporation (MSFT) today, under which the US-based telecom giant will provider IP-based TV services based on Microsoft #39;s IP television \n",
            "Id: 64110 the news is: The new BlackBerry device can support VoIP over an 802.11b-based wireless network.\n"
          ]
        }
      ]
    },
    {
      "cell_type": "code",
      "source": [
        "from gensim.parsing.preprocessing import preprocess_string\n",
        "doc = \"Crude prices inflation the economy outlook earnings\"\n",
        "doc_tokenized = preprocess_string(doc)\n",
        "doc_tokenized"
      ],
      "metadata": {
        "colab": {
          "base_uri": "https://localhost:8080/"
        },
        "id": "yVtDqY2kdW5j",
        "outputId": "0ebebffe-fc16-4db8-e9c8-9c80bb286303"
      },
      "execution_count": 25,
      "outputs": [
        {
          "output_type": "execute_result",
          "data": {
            "text/plain": [
              "['crude', 'price', 'inflat', 'economi', 'outlook', 'earn']"
            ]
          },
          "metadata": {},
          "execution_count": 25
        }
      ]
    },
    {
      "cell_type": "code",
      "source": [
        "inferred_vector = model.infer_vector(doc_tokenized)\n",
        "sims = model.docvecs.most_similar([inferred_vector], topn=len(model.docvecs))"
      ],
      "metadata": {
        "id": "FDXa9yNqeq4y",
        "colab": {
          "base_uri": "https://localhost:8080/"
        },
        "outputId": "a81ccf89-3bea-417e-faa1-1a9282a56558"
      },
      "execution_count": 26,
      "outputs": [
        {
          "output_type": "stream",
          "name": "stderr",
          "text": [
            "<ipython-input-26-78beeadd610d>:2: DeprecationWarning: Call to deprecated `docvecs` (The `docvecs` property has been renamed `dv`.).\n",
            "  sims = model.docvecs.most_similar([inferred_vector], topn=len(model.docvecs))\n"
          ]
        }
      ]
    },
    {
      "cell_type": "code",
      "source": [
        "see = sims[0:10]\n",
        "see"
      ],
      "metadata": {
        "colab": {
          "base_uri": "https://localhost:8080/"
        },
        "id": "lQj6vGG5eq7D",
        "outputId": "1142c216-4789-4498-c139-55ed8299edc8"
      },
      "execution_count": 27,
      "outputs": [
        {
          "output_type": "execute_result",
          "data": {
            "text/plain": [
              "[('20917', 0.8012675046920776),\n",
              " ('20971', 0.7802791595458984),\n",
              " ('20633', 0.7754188179969788),\n",
              " ('77354', 0.769629180431366),\n",
              " ('39952', 0.7659934759140015),\n",
              " ('20560', 0.7553290724754333),\n",
              " ('109368', 0.7392926812171936),\n",
              " ('72103', 0.7335115671157837),\n",
              " ('53000', 0.7330428957939148),\n",
              " ('87562', 0.73142009973526)]"
            ]
          },
          "metadata": {},
          "execution_count": 27
        }
      ]
    },
    {
      "cell_type": "code",
      "source": [
        "for i in range(len(see)):\n",
        "  id = see[i][0]\n",
        "  print('Id:',id, 'the news is:', train[int(id)])"
      ],
      "metadata": {
        "colab": {
          "base_uri": "https://localhost:8080/"
        },
        "id": "FvBbPr2deq9Y",
        "outputId": "bf7f97b8-7615-42d0-8d45-b2cd0e90fdd0"
      },
      "execution_count": 28,
      "outputs": [
        {
          "output_type": "stream",
          "name": "stdout",
          "text": [
            "Id: 20917 the news is: Oil prices eased further on Tuesday, as the head of OPEC cartel said that markets were well-supplied with crude and traders continued to take profits from this year #39;s 40 percent rally.\n",
            "Id: 20971 the news is:  NEW YORK (Reuters) - U.S. oil prices eased on Tuesday as  the head of the OPEC cartel said markets were well-supplied  with crude and traders continued to take profits from this  year's 40 percent rally.\n",
            "Id: 20633 the news is:  LONDON (Reuters) - Oil prices eased further on Tuesday, as  the head of the OPEC cartel said markets were well-supplied  with crude and traders continued to take profits from this  year's 40 percent rally.\n",
            "Id: 77354 the news is:  NEW YORK (Reuters) - ChevronTexaco Corp.&lt;A HREF=\"http://www.investor.reuters.com/FullQuote.aspx?ticker=CVX.N target=/stocks/quickinfo/fullquote\"&gt;CVX.N&lt;/A&gt;, the No. 2  U.S. oil company, on Friday reported a 62 percent rise in  quarterly profit from record oil prices and gains from asset  sales, but the results fell short of Wall Street forecasts.\n",
            "Id: 39952 the news is: CHAPEL HILL, N.C. -- Eric Shelton ran for three touchdowns and No. 24 Louisville earned its second shutout of the season with a 34-0 victory over North Carolina yesterday.\n",
            "Id: 20560 the news is: &lt;p&gt;\\&lt;/p&gt;&lt;p&gt; LONDON (Reuters) - Oil prices eased further on Tuesday, as\\the head of OPEC cartel said that markets were well-supplied\\with crude and traders continued to take profits from this\\year's 40 percent rally.&lt;/p&gt;\n",
            "Id: 109368 the news is: Texas Instruments Inc., the world #39;s biggest maker of mobile-phone processors, narrowed its fourth- quarter sales forecast because industrial customers for its chips continue to reduce inventory.\n",
            "Id: 72103 the news is:  NEW YORK (Reuters) - Stocks fell slightly on Monday as a  retreat in crude prices from a record high was more than offset  by investors' caution about the U.S. presidential election and  a fall in the dollar.\n",
            "Id: 53000 the news is: AP - Tokyo stocks fell Thursday as investors took profits after five straight sessions of gains. The dollar was down against the Japanese yen.\n",
            "Id: 87562 the news is: A study suggesting arthritis drug Bextra doubles patients #39; heart attack and stroke risks drew a sharp rebuttal Wednesday from the drug #39;s maker, Pfizer (PFE), as its stock price dipped.\n"
          ]
        }
      ]
    },
    {
      "cell_type": "code",
      "source": [],
      "metadata": {
        "id": "u_zLjiM1jhJX"
      },
      "execution_count": 28,
      "outputs": []
    }
  ],
  "metadata": {
    "colab": {
      "provenance": []
    },
    "kernelspec": {
      "display_name": "Python 3",
      "name": "python3"
    },
    "language_info": {
      "name": "python"
    }
  },
  "nbformat": 4,
  "nbformat_minor": 0
}