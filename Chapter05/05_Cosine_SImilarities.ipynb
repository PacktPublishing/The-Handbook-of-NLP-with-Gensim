{
  "cells": [
    {
      "cell_type": "markdown",
      "metadata": {
        "id": "rEhNKtq7Lx3u"
      },
      "source": [
        "## Cosine Similarity"
      ]
    },
    {
      "cell_type": "markdown",
      "source": [
        "### (A) Cosine similarity with scikit-learn"
      ],
      "metadata": {
        "id": "gP2gYc6JpRkm"
      }
    },
    {
      "cell_type": "code",
      "source": [
        "doc_list = [\n",
        "\"Start spreading the news\",\n",
        "\"You're leaving today (tell him friend)\",\n",
        "\"I want to be a part of it, New York, New York\",\n",
        "\"Your vagabond shoes, they are longing to stray\",\n",
        "\"And steps around the heart of it, New York, New York\"\n",
        "]"
      ],
      "metadata": {
        "id": "kHVRcDx6pXpK"
      },
      "execution_count": 1,
      "outputs": []
    },
    {
      "cell_type": "code",
      "source": [
        "from sklearn.feature_extraction.text import CountVectorizer\n",
        "import pandas as pd\n",
        "cv = CountVectorizer()\n",
        "cv_fit = cv.fit_transform(doc_list)\n",
        "word_list = cv.get_feature_names_out()\n",
        "count_list = cv_fit.toarray().sum(axis=0)"
      ],
      "metadata": {
        "id": "F20JfJ4fpv8s"
      },
      "execution_count": 3,
      "outputs": []
    },
    {
      "cell_type": "code",
      "source": [
        "cv_fit.toarray()"
      ],
      "metadata": {
        "colab": {
          "base_uri": "https://localhost:8080/"
        },
        "id": "x-ljLWISp-a5",
        "outputId": "4395d2aa-ece0-4c4b-83ee-ca2f4154e781"
      },
      "execution_count": 4,
      "outputs": [
        {
          "output_type": "execute_result",
          "data": {
            "text/plain": [
              "array([[0, 0, 0, 0, 0, 0, 0, 0, 0, 0, 0, 1, 0, 0, 0, 0, 1, 1, 0, 0, 0, 1,\n",
              "        0, 0, 0, 0, 0, 0, 0, 0],\n",
              "       [0, 0, 0, 0, 1, 0, 1, 0, 1, 0, 0, 0, 0, 0, 1, 0, 0, 0, 0, 0, 1, 0,\n",
              "        0, 0, 1, 0, 0, 0, 1, 0],\n",
              "       [0, 0, 0, 1, 0, 0, 0, 1, 0, 0, 2, 0, 1, 1, 0, 0, 0, 0, 0, 0, 0, 0,\n",
              "        0, 1, 0, 0, 1, 2, 0, 0],\n",
              "       [0, 1, 0, 0, 0, 0, 0, 0, 0, 1, 0, 0, 0, 0, 0, 1, 0, 0, 0, 1, 0, 0,\n",
              "        1, 1, 0, 1, 0, 0, 0, 1],\n",
              "       [1, 0, 1, 0, 0, 1, 0, 1, 0, 0, 2, 0, 1, 0, 0, 0, 0, 0, 1, 0, 0, 1,\n",
              "        0, 0, 0, 0, 0, 2, 0, 0]])"
            ]
          },
          "metadata": {},
          "execution_count": 4
        }
      ]
    },
    {
      "cell_type": "code",
      "source": [
        "df = pd.DataFrame(cv_fit.toarray())"
      ],
      "metadata": {
        "id": "iWdYoOGPqLNA"
      },
      "execution_count": 5,
      "outputs": []
    },
    {
      "cell_type": "code",
      "source": [
        "from sklearn.metrics.pairwise import cosine_similarity\n",
        "print(cosine_similarity(df, df))"
      ],
      "metadata": {
        "colab": {
          "base_uri": "https://localhost:8080/"
        },
        "id": "CcXdVbG3q5fO",
        "outputId": "51059b2a-0b08-4085-e6ff-5722488d97a1"
      },
      "execution_count": 6,
      "outputs": [
        {
          "output_type": "stream",
          "name": "stdout",
          "text": [
            "[[1.         0.         0.         0.         0.12909944]\n",
            " [0.         1.         0.         0.         0.        ]\n",
            " [0.         0.         1.         0.09449112 0.69006556]\n",
            " [0.         0.         0.09449112 1.         0.        ]\n",
            " [0.12909944 0.         0.69006556 0.         1.        ]]\n"
          ]
        }
      ]
    },
    {
      "cell_type": "code",
      "source": [],
      "metadata": {
        "id": "FGS9SMCHE-3E"
      },
      "execution_count": null,
      "outputs": []
    }
  ],
  "metadata": {
    "colab": {
      "provenance": []
    },
    "kernelspec": {
      "display_name": "Python 3",
      "name": "python3"
    },
    "language_info": {
      "name": "python"
    }
  },
  "nbformat": 4,
  "nbformat_minor": 0
}