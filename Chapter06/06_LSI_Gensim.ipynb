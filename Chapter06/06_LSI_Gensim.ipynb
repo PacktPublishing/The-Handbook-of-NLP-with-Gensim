{
  "cells": [
    {
      "cell_type": "markdown",
      "metadata": {
        "id": "rEhNKtq7Lx3u"
      },
      "source": [
        "## Latent Semantic Analysis / Indexing (LSA/LSI)\n",
        "\n",
        "### (A) Pre-processing\n"
      ]
    },
    {
      "cell_type": "code",
      "execution_count": 1,
      "metadata": {
        "colab": {
          "base_uri": "https://localhost:8080/"
        },
        "id": "ofXd5gWELGHu",
        "outputId": "f172b209-8c44-4c73-a5f0-82f5b40246d0"
      },
      "outputs": [
        {
          "output_type": "stream",
          "name": "stdout",
          "text": [
            "Mounted at /content/gdrive\n"
          ]
        }
      ],
      "source": [
        "from google.colab import drive\n",
        "drive.mount('/content/gdrive')"
      ]
    },
    {
      "cell_type": "code",
      "execution_count": 2,
      "metadata": {
        "id": "fvoa4QAjdNpx",
        "colab": {
          "base_uri": "https://localhost:8080/"
        },
        "outputId": "9be46a2b-3e3e-49b0-ff25-83de7d1a8843"
      },
      "outputs": [
        {
          "output_type": "stream",
          "name": "stderr",
          "text": [
            "<ipython-input-2-ff92c4043bad>:3: FutureWarning: Passing a negative integer is deprecated in version 1.0 and will not be supported in future version. Instead, use None to not limit the column width.\n",
            "  pd.set_option('display.max_colwidth', -1)\n"
          ]
        }
      ],
      "source": [
        "import pandas as pd\n",
        "import numpy as np\n",
        "pd.set_option('display.max_colwidth', -1)\n",
        "path = \"/content/gdrive/My Drive/data/gensim\"\n",
        "train = pd.read_csv(path + \"/ag_news_train.csv\")"
      ]
    },
    {
      "cell_type": "code",
      "source": [
        "train.groupby('Class Index').head(2)"
      ],
      "metadata": {
        "colab": {
          "base_uri": "https://localhost:8080/",
          "height": 440
        },
        "id": "1OTUfxIXpJWD",
        "outputId": "8b79e675-9fc4-404c-cfb4-46d72bc0d671"
      },
      "execution_count": 3,
      "outputs": [
        {
          "output_type": "execute_result",
          "data": {
            "text/plain": [
              "     Class Index  \\\n",
              "0    3             \n",
              "1    3             \n",
              "78   4             \n",
              "79   4             \n",
              "448  2             \n",
              "449  2             \n",
              "492  1             \n",
              "493  1             \n",
              "\n",
              "                                                             Title  \\\n",
              "0    Wall St. Bears Claw Back Into the Black (Reuters)               \n",
              "1    Carlyle Looks Toward Commercial Aerospace (Reuters)             \n",
              "78   'Madden,' 'ESPN' Football Score in Different Ways (Reuters)     \n",
              "79   Group to Propose New High-Speed Wireless Format (Reuters)       \n",
              "448  Phelps, Thorpe Advance in 200 Freestyle (AP)                    \n",
              "449  Reds Knock Padres Out of Wild-Card Lead (AP)                    \n",
              "492  Venezuelans Vote Early in Referendum on Chavez Rule (Reuters)   \n",
              "493  S.Koreans Clash with Police on Iraq Troop Dispatch (Reuters)    \n",
              "\n",
              "                                                                                                                                                                                                                                                                                                                                                  Description  \n",
              "0    Reuters - Short-sellers, Wall Street's dwindling\\band of ultra-cynics, are seeing green again.                                                                                                                                                                                                                                                            \n",
              "1    Reuters - Private investment firm Carlyle Group,\\which has a reputation for making well-timed and occasionally\\controversial plays in the defense industry, has quietly placed\\its bets on another part of the market.                                                                                                                                    \n",
              "78   Reuters - Was absenteeism a little high\\on Tuesday among the guys at the office? EA Sports would like\\to think it was because \"Madden NFL 2005\" came out that day,\\and some fans of the football simulation are rabid enough to\\take a sick day to play it.                                                                                               \n",
              "79   Reuters - A group of technology companies\\including Texas Instruments Inc. (TXN.N), STMicroelectronics\\(STM.PA) and Broadcom Corp. (BRCM.O), on Thursday said they\\will propose a new wireless networking standard up to 10 times\\the speed of the current generation.                                                                                    \n",
              "448  AP - Michael Phelps took care of qualifying for the Olympic 200-meter freestyle semifinals Sunday, and then found out he had been added to the American team for the evening's 400 freestyle relay final. Phelps' rivals Ian Thorpe and Pieter van den Hoogenband and teammate Klete Keller were faster than the teenager in the 200 free preliminaries.  \n",
              "449  AP - Wily Mo Pena homered twice and drove in four runs, helping the Cincinnati Reds beat the San Diego Padres 11-5 on Saturday night. San Diego was knocked out of a share of the NL wild-card lead with the loss and Chicago's victory over Los Angeles earlier in the day.                                                                              \n",
              "492  Reuters - Venezuelans turned out early\\and in large numbers on Sunday to vote in a historic referendum\\that will either remove left-wing President Hugo Chavez from\\office or give him a new mandate to govern for the next two\\years.                                                                                                                    \n",
              "493  Reuters - South Korean police used water cannon in\\central Seoul Sunday to disperse at least 7,000 protesters\\urging the government to reverse a controversial decision to\\send more troops to Iraq.                                                                                                                                                      "
            ],
            "text/html": [
              "\n",
              "  <div id=\"df-640038e2-95b9-40a8-a6e3-ac0c4517b006\" class=\"colab-df-container\">\n",
              "    <div>\n",
              "<style scoped>\n",
              "    .dataframe tbody tr th:only-of-type {\n",
              "        vertical-align: middle;\n",
              "    }\n",
              "\n",
              "    .dataframe tbody tr th {\n",
              "        vertical-align: top;\n",
              "    }\n",
              "\n",
              "    .dataframe thead th {\n",
              "        text-align: right;\n",
              "    }\n",
              "</style>\n",
              "<table border=\"1\" class=\"dataframe\">\n",
              "  <thead>\n",
              "    <tr style=\"text-align: right;\">\n",
              "      <th></th>\n",
              "      <th>Class Index</th>\n",
              "      <th>Title</th>\n",
              "      <th>Description</th>\n",
              "    </tr>\n",
              "  </thead>\n",
              "  <tbody>\n",
              "    <tr>\n",
              "      <th>0</th>\n",
              "      <td>3</td>\n",
              "      <td>Wall St. Bears Claw Back Into the Black (Reuters)</td>\n",
              "      <td>Reuters - Short-sellers, Wall Street's dwindling\\band of ultra-cynics, are seeing green again.</td>\n",
              "    </tr>\n",
              "    <tr>\n",
              "      <th>1</th>\n",
              "      <td>3</td>\n",
              "      <td>Carlyle Looks Toward Commercial Aerospace (Reuters)</td>\n",
              "      <td>Reuters - Private investment firm Carlyle Group,\\which has a reputation for making well-timed and occasionally\\controversial plays in the defense industry, has quietly placed\\its bets on another part of the market.</td>\n",
              "    </tr>\n",
              "    <tr>\n",
              "      <th>78</th>\n",
              "      <td>4</td>\n",
              "      <td>'Madden,' 'ESPN' Football Score in Different Ways (Reuters)</td>\n",
              "      <td>Reuters - Was absenteeism a little high\\on Tuesday among the guys at the office? EA Sports would like\\to think it was because \"Madden NFL 2005\" came out that day,\\and some fans of the football simulation are rabid enough to\\take a sick day to play it.</td>\n",
              "    </tr>\n",
              "    <tr>\n",
              "      <th>79</th>\n",
              "      <td>4</td>\n",
              "      <td>Group to Propose New High-Speed Wireless Format (Reuters)</td>\n",
              "      <td>Reuters - A group of technology companies\\including Texas Instruments Inc. (TXN.N), STMicroelectronics\\(STM.PA) and Broadcom Corp. (BRCM.O), on Thursday said they\\will propose a new wireless networking standard up to 10 times\\the speed of the current generation.</td>\n",
              "    </tr>\n",
              "    <tr>\n",
              "      <th>448</th>\n",
              "      <td>2</td>\n",
              "      <td>Phelps, Thorpe Advance in 200 Freestyle (AP)</td>\n",
              "      <td>AP - Michael Phelps took care of qualifying for the Olympic 200-meter freestyle semifinals Sunday, and then found out he had been added to the American team for the evening's 400 freestyle relay final. Phelps' rivals Ian Thorpe and Pieter van den Hoogenband and teammate Klete Keller were faster than the teenager in the 200 free preliminaries.</td>\n",
              "    </tr>\n",
              "    <tr>\n",
              "      <th>449</th>\n",
              "      <td>2</td>\n",
              "      <td>Reds Knock Padres Out of Wild-Card Lead (AP)</td>\n",
              "      <td>AP - Wily Mo Pena homered twice and drove in four runs, helping the Cincinnati Reds beat the San Diego Padres 11-5 on Saturday night. San Diego was knocked out of a share of the NL wild-card lead with the loss and Chicago's victory over Los Angeles earlier in the day.</td>\n",
              "    </tr>\n",
              "    <tr>\n",
              "      <th>492</th>\n",
              "      <td>1</td>\n",
              "      <td>Venezuelans Vote Early in Referendum on Chavez Rule (Reuters)</td>\n",
              "      <td>Reuters - Venezuelans turned out early\\and in large numbers on Sunday to vote in a historic referendum\\that will either remove left-wing President Hugo Chavez from\\office or give him a new mandate to govern for the next two\\years.</td>\n",
              "    </tr>\n",
              "    <tr>\n",
              "      <th>493</th>\n",
              "      <td>1</td>\n",
              "      <td>S.Koreans Clash with Police on Iraq Troop Dispatch (Reuters)</td>\n",
              "      <td>Reuters - South Korean police used water cannon in\\central Seoul Sunday to disperse at least 7,000 protesters\\urging the government to reverse a controversial decision to\\send more troops to Iraq.</td>\n",
              "    </tr>\n",
              "  </tbody>\n",
              "</table>\n",
              "</div>\n",
              "    <div class=\"colab-df-buttons\">\n",
              "\n",
              "  <div class=\"colab-df-container\">\n",
              "    <button class=\"colab-df-convert\" onclick=\"convertToInteractive('df-640038e2-95b9-40a8-a6e3-ac0c4517b006')\"\n",
              "            title=\"Convert this dataframe to an interactive table.\"\n",
              "            style=\"display:none;\">\n",
              "\n",
              "  <svg xmlns=\"http://www.w3.org/2000/svg\" height=\"24px\" viewBox=\"0 -960 960 960\">\n",
              "    <path d=\"M120-120v-720h720v720H120Zm60-500h600v-160H180v160Zm220 220h160v-160H400v160Zm0 220h160v-160H400v160ZM180-400h160v-160H180v160Zm440 0h160v-160H620v160ZM180-180h160v-160H180v160Zm440 0h160v-160H620v160Z\"/>\n",
              "  </svg>\n",
              "    </button>\n",
              "\n",
              "  <style>\n",
              "    .colab-df-container {\n",
              "      display:flex;\n",
              "      gap: 12px;\n",
              "    }\n",
              "\n",
              "    .colab-df-convert {\n",
              "      background-color: #E8F0FE;\n",
              "      border: none;\n",
              "      border-radius: 50%;\n",
              "      cursor: pointer;\n",
              "      display: none;\n",
              "      fill: #1967D2;\n",
              "      height: 32px;\n",
              "      padding: 0 0 0 0;\n",
              "      width: 32px;\n",
              "    }\n",
              "\n",
              "    .colab-df-convert:hover {\n",
              "      background-color: #E2EBFA;\n",
              "      box-shadow: 0px 1px 2px rgba(60, 64, 67, 0.3), 0px 1px 3px 1px rgba(60, 64, 67, 0.15);\n",
              "      fill: #174EA6;\n",
              "    }\n",
              "\n",
              "    .colab-df-buttons div {\n",
              "      margin-bottom: 4px;\n",
              "    }\n",
              "\n",
              "    [theme=dark] .colab-df-convert {\n",
              "      background-color: #3B4455;\n",
              "      fill: #D2E3FC;\n",
              "    }\n",
              "\n",
              "    [theme=dark] .colab-df-convert:hover {\n",
              "      background-color: #434B5C;\n",
              "      box-shadow: 0px 1px 3px 1px rgba(0, 0, 0, 0.15);\n",
              "      filter: drop-shadow(0px 1px 2px rgba(0, 0, 0, 0.3));\n",
              "      fill: #FFFFFF;\n",
              "    }\n",
              "  </style>\n",
              "\n",
              "    <script>\n",
              "      const buttonEl =\n",
              "        document.querySelector('#df-640038e2-95b9-40a8-a6e3-ac0c4517b006 button.colab-df-convert');\n",
              "      buttonEl.style.display =\n",
              "        google.colab.kernel.accessAllowed ? 'block' : 'none';\n",
              "\n",
              "      async function convertToInteractive(key) {\n",
              "        const element = document.querySelector('#df-640038e2-95b9-40a8-a6e3-ac0c4517b006');\n",
              "        const dataTable =\n",
              "          await google.colab.kernel.invokeFunction('convertToInteractive',\n",
              "                                                    [key], {});\n",
              "        if (!dataTable) return;\n",
              "\n",
              "        const docLinkHtml = 'Like what you see? Visit the ' +\n",
              "          '<a target=\"_blank\" href=https://colab.research.google.com/notebooks/data_table.ipynb>data table notebook</a>'\n",
              "          + ' to learn more about interactive tables.';\n",
              "        element.innerHTML = '';\n",
              "        dataTable['output_type'] = 'display_data';\n",
              "        await google.colab.output.renderOutput(dataTable, element);\n",
              "        const docLink = document.createElement('div');\n",
              "        docLink.innerHTML = docLinkHtml;\n",
              "        element.appendChild(docLink);\n",
              "      }\n",
              "    </script>\n",
              "  </div>\n",
              "\n",
              "\n",
              "<div id=\"df-4243b9ad-6fcd-4541-a10d-f4109ff492ef\">\n",
              "  <button class=\"colab-df-quickchart\" onclick=\"quickchart('df-4243b9ad-6fcd-4541-a10d-f4109ff492ef')\"\n",
              "            title=\"Suggest charts.\"\n",
              "            style=\"display:none;\">\n",
              "\n",
              "<svg xmlns=\"http://www.w3.org/2000/svg\" height=\"24px\"viewBox=\"0 0 24 24\"\n",
              "     width=\"24px\">\n",
              "    <g>\n",
              "        <path d=\"M19 3H5c-1.1 0-2 .9-2 2v14c0 1.1.9 2 2 2h14c1.1 0 2-.9 2-2V5c0-1.1-.9-2-2-2zM9 17H7v-7h2v7zm4 0h-2V7h2v10zm4 0h-2v-4h2v4z\"/>\n",
              "    </g>\n",
              "</svg>\n",
              "  </button>\n",
              "\n",
              "<style>\n",
              "  .colab-df-quickchart {\n",
              "      --bg-color: #E8F0FE;\n",
              "      --fill-color: #1967D2;\n",
              "      --hover-bg-color: #E2EBFA;\n",
              "      --hover-fill-color: #174EA6;\n",
              "      --disabled-fill-color: #AAA;\n",
              "      --disabled-bg-color: #DDD;\n",
              "  }\n",
              "\n",
              "  [theme=dark] .colab-df-quickchart {\n",
              "      --bg-color: #3B4455;\n",
              "      --fill-color: #D2E3FC;\n",
              "      --hover-bg-color: #434B5C;\n",
              "      --hover-fill-color: #FFFFFF;\n",
              "      --disabled-bg-color: #3B4455;\n",
              "      --disabled-fill-color: #666;\n",
              "  }\n",
              "\n",
              "  .colab-df-quickchart {\n",
              "    background-color: var(--bg-color);\n",
              "    border: none;\n",
              "    border-radius: 50%;\n",
              "    cursor: pointer;\n",
              "    display: none;\n",
              "    fill: var(--fill-color);\n",
              "    height: 32px;\n",
              "    padding: 0;\n",
              "    width: 32px;\n",
              "  }\n",
              "\n",
              "  .colab-df-quickchart:hover {\n",
              "    background-color: var(--hover-bg-color);\n",
              "    box-shadow: 0 1px 2px rgba(60, 64, 67, 0.3), 0 1px 3px 1px rgba(60, 64, 67, 0.15);\n",
              "    fill: var(--button-hover-fill-color);\n",
              "  }\n",
              "\n",
              "  .colab-df-quickchart-complete:disabled,\n",
              "  .colab-df-quickchart-complete:disabled:hover {\n",
              "    background-color: var(--disabled-bg-color);\n",
              "    fill: var(--disabled-fill-color);\n",
              "    box-shadow: none;\n",
              "  }\n",
              "\n",
              "  .colab-df-spinner {\n",
              "    border: 2px solid var(--fill-color);\n",
              "    border-color: transparent;\n",
              "    border-bottom-color: var(--fill-color);\n",
              "    animation:\n",
              "      spin 1s steps(1) infinite;\n",
              "  }\n",
              "\n",
              "  @keyframes spin {\n",
              "    0% {\n",
              "      border-color: transparent;\n",
              "      border-bottom-color: var(--fill-color);\n",
              "      border-left-color: var(--fill-color);\n",
              "    }\n",
              "    20% {\n",
              "      border-color: transparent;\n",
              "      border-left-color: var(--fill-color);\n",
              "      border-top-color: var(--fill-color);\n",
              "    }\n",
              "    30% {\n",
              "      border-color: transparent;\n",
              "      border-left-color: var(--fill-color);\n",
              "      border-top-color: var(--fill-color);\n",
              "      border-right-color: var(--fill-color);\n",
              "    }\n",
              "    40% {\n",
              "      border-color: transparent;\n",
              "      border-right-color: var(--fill-color);\n",
              "      border-top-color: var(--fill-color);\n",
              "    }\n",
              "    60% {\n",
              "      border-color: transparent;\n",
              "      border-right-color: var(--fill-color);\n",
              "    }\n",
              "    80% {\n",
              "      border-color: transparent;\n",
              "      border-right-color: var(--fill-color);\n",
              "      border-bottom-color: var(--fill-color);\n",
              "    }\n",
              "    90% {\n",
              "      border-color: transparent;\n",
              "      border-bottom-color: var(--fill-color);\n",
              "    }\n",
              "  }\n",
              "</style>\n",
              "\n",
              "  <script>\n",
              "    async function quickchart(key) {\n",
              "      const quickchartButtonEl =\n",
              "        document.querySelector('#' + key + ' button');\n",
              "      quickchartButtonEl.disabled = true;  // To prevent multiple clicks.\n",
              "      quickchartButtonEl.classList.add('colab-df-spinner');\n",
              "      try {\n",
              "        const charts = await google.colab.kernel.invokeFunction(\n",
              "            'suggestCharts', [key], {});\n",
              "      } catch (error) {\n",
              "        console.error('Error during call to suggestCharts:', error);\n",
              "      }\n",
              "      quickchartButtonEl.classList.remove('colab-df-spinner');\n",
              "      quickchartButtonEl.classList.add('colab-df-quickchart-complete');\n",
              "    }\n",
              "    (() => {\n",
              "      let quickchartButtonEl =\n",
              "        document.querySelector('#df-4243b9ad-6fcd-4541-a10d-f4109ff492ef button');\n",
              "      quickchartButtonEl.style.display =\n",
              "        google.colab.kernel.accessAllowed ? 'block' : 'none';\n",
              "    })();\n",
              "  </script>\n",
              "</div>\n",
              "    </div>\n",
              "  </div>\n"
            ]
          },
          "metadata": {},
          "execution_count": 3
        }
      ]
    },
    {
      "cell_type": "code",
      "source": [
        "from gensim.parsing.preprocessing import preprocess_string\n",
        "text_tokenized = []\n",
        "for doc in train['Description']:\n",
        "   k = preprocess_string(doc)\n",
        "   text_tokenized.append(k)"
      ],
      "metadata": {
        "id": "RHvQifP3t2ZS"
      },
      "execution_count": 4,
      "outputs": []
    },
    {
      "cell_type": "code",
      "execution_count": 5,
      "metadata": {
        "id": "CixRoRzUavdg",
        "colab": {
          "base_uri": "https://localhost:8080/"
        },
        "outputId": "1d87ad4e-2695-4ea7-c3bf-ba7c3462ab25"
      },
      "outputs": [
        {
          "output_type": "execute_result",
          "data": {
            "text/plain": [
              "[['reuter',\n",
              "  'short',\n",
              "  'seller',\n",
              "  'wall',\n",
              "  'street',\n",
              "  'dwindl',\n",
              "  'band',\n",
              "  'ultra',\n",
              "  'cynic',\n",
              "  'see',\n",
              "  'green'],\n",
              " ['reuter',\n",
              "  'privat',\n",
              "  'invest',\n",
              "  'firm',\n",
              "  'carlyl',\n",
              "  'group',\n",
              "  'reput',\n",
              "  'make',\n",
              "  'time',\n",
              "  'occasion',\n",
              "  'controversi',\n",
              "  'plai',\n",
              "  'defens',\n",
              "  'industri',\n",
              "  'quietli',\n",
              "  'place',\n",
              "  'bet',\n",
              "  'market'],\n",
              " ['reuter',\n",
              "  'soar',\n",
              "  'crude',\n",
              "  'price',\n",
              "  'plu',\n",
              "  'worri',\n",
              "  'economi',\n",
              "  'outlook',\n",
              "  'earn',\n",
              "  'expect',\n",
              "  'hang',\n",
              "  'stock',\n",
              "  'market',\n",
              "  'week',\n",
              "  'depth',\n",
              "  'summer',\n",
              "  'doldrum']]"
            ]
          },
          "metadata": {},
          "execution_count": 5
        }
      ],
      "source": [
        "text_tokenized[0:3]"
      ]
    },
    {
      "cell_type": "markdown",
      "metadata": {
        "id": "Tp4lgt07lumX"
      },
      "source": [
        "- Remember to re-use the code from Chapter 2. Do not re-invent the wheel.\n",
        "- Get the Dictionary, BoW, and word IDs"
      ]
    },
    {
      "cell_type": "code",
      "execution_count": 6,
      "metadata": {
        "id": "aPaA7KlsQ7Vw",
        "colab": {
          "base_uri": "https://localhost:8080/"
        },
        "outputId": "0c3d8d9e-3430-45d1-a16e-8ea609f4aa5d"
      },
      "outputs": [
        {
          "output_type": "stream",
          "name": "stdout",
          "text": [
            "[[(0, 1), (1, 1), (2, 1), (3, 1), (4, 1), (5, 1), (6, 1), (7, 1), (8, 1), (9, 1), (10, 1)], [(4, 1), (11, 1), (12, 1), (13, 1), (14, 1), (15, 1), (16, 1), (17, 1), (18, 1), (19, 1), (20, 1), (21, 1), (22, 1), (23, 1), (24, 1), (25, 1), (26, 1), (27, 1)]]\n"
          ]
        }
      ],
      "source": [
        "from gensim.corpora import Dictionary\n",
        "gensim_dictionary = Dictionary()\n",
        "bow_corpus = [gensim_dictionary.doc2bow(doc, allow_update=True) for doc in text_tokenized]\n",
        "print(bow_corpus[:2])"
      ]
    },
    {
      "cell_type": "code",
      "source": [
        "id_words = [[(gensim_dictionary[id], count) for id, count in line] for line in bow_corpus[:2]]\n",
        "print(id_words)"
      ],
      "metadata": {
        "colab": {
          "base_uri": "https://localhost:8080/"
        },
        "id": "7G23_QypMAhH",
        "outputId": "c3e1b33a-4bf3-4053-ac54-83630e0980f9"
      },
      "execution_count": 7,
      "outputs": [
        {
          "output_type": "stream",
          "name": "stdout",
          "text": [
            "[[('band', 1), ('cynic', 1), ('dwindl', 1), ('green', 1), ('reuter', 1), ('see', 1), ('seller', 1), ('short', 1), ('street', 1), ('ultra', 1), ('wall', 1)], [('reuter', 1), ('bet', 1), ('carlyl', 1), ('controversi', 1), ('defens', 1), ('firm', 1), ('group', 1), ('industri', 1), ('invest', 1), ('make', 1), ('market', 1), ('occasion', 1), ('place', 1), ('plai', 1), ('privat', 1), ('quietli', 1), ('reput', 1), ('time', 1)]]\n"
          ]
        }
      ]
    },
    {
      "cell_type": "markdown",
      "source": [
        "* Get the number of unique words"
      ],
      "metadata": {
        "id": "sW2i1NDCIS2n"
      }
    },
    {
      "cell_type": "code",
      "source": [
        "len(gensim_dictionary)"
      ],
      "metadata": {
        "colab": {
          "base_uri": "https://localhost:8080/"
        },
        "id": "all7XM404soF",
        "outputId": "52208107-60a3-486e-89ed-297937d41fb9"
      },
      "execution_count": 8,
      "outputs": [
        {
          "output_type": "execute_result",
          "data": {
            "text/plain": [
              "40359"
            ]
          },
          "metadata": {},
          "execution_count": 8
        }
      ]
    },
    {
      "cell_type": "markdown",
      "source": [
        "* Print out the first ten words"
      ],
      "metadata": {
        "id": "u18vHG36IYow"
      }
    },
    {
      "cell_type": "code",
      "source": [
        "for i in range(0,10):\n",
        "    print(gensim_dictionary[i])"
      ],
      "metadata": {
        "colab": {
          "base_uri": "https://localhost:8080/"
        },
        "id": "XvszTsCO4b3o",
        "outputId": "f267b390-63c6-4c10-f286-6c3798d1e1f8"
      },
      "execution_count": 9,
      "outputs": [
        {
          "output_type": "stream",
          "name": "stdout",
          "text": [
            "band\n",
            "cynic\n",
            "dwindl\n",
            "green\n",
            "reuter\n",
            "see\n",
            "seller\n",
            "short\n",
            "street\n",
            "ultra\n"
          ]
        }
      ]
    },
    {
      "cell_type": "markdown",
      "source": [
        "- Print out the word id"
      ],
      "metadata": {
        "id": "CIwJONQrIdOa"
      }
    },
    {
      "cell_type": "code",
      "source": [
        "print(id_words[:2])"
      ],
      "metadata": {
        "colab": {
          "base_uri": "https://localhost:8080/"
        },
        "id": "h0-1ZGS9dB3j",
        "outputId": "1cb78086-9782-4050-858e-12e01dfaf27e"
      },
      "execution_count": 10,
      "outputs": [
        {
          "output_type": "stream",
          "name": "stdout",
          "text": [
            "[[('band', 1), ('cynic', 1), ('dwindl', 1), ('green', 1), ('reuter', 1), ('see', 1), ('seller', 1), ('short', 1), ('street', 1), ('ultra', 1), ('wall', 1)], [('reuter', 1), ('bet', 1), ('carlyl', 1), ('controversi', 1), ('defens', 1), ('firm', 1), ('group', 1), ('industri', 1), ('invest', 1), ('make', 1), ('market', 1), ('occasion', 1), ('place', 1), ('plai', 1), ('privat', 1), ('quietli', 1), ('reput', 1), ('time', 1)]]\n"
          ]
        }
      ]
    },
    {
      "cell_type": "markdown",
      "source": [
        "- Get the IF-IDF from BoW"
      ],
      "metadata": {
        "id": "g0S_dqZjIphD"
      }
    },
    {
      "cell_type": "code",
      "execution_count": 11,
      "metadata": {
        "id": "4tsXZRRxjD9C"
      },
      "outputs": [],
      "source": [
        "from gensim.models import TfidfModel, LsiModel\n",
        "tfidf = TfidfModel(bow_corpus) #, smartirs=’npu’)\n",
        "tfidf_corpus = tfidf[bow_corpus]"
      ]
    },
    {
      "cell_type": "markdown",
      "source": [
        "### (B) Save the dictionary and BoW"
      ],
      "metadata": {
        "id": "oYAHb5AeItnj"
      }
    },
    {
      "cell_type": "code",
      "source": [
        "# You can use pickle to save the Bow and TF-IDF objects\n",
        "import pickle\n",
        "file = open(path + \"/BoW_AGnews_corpus.pkl\", 'wb')\n",
        "pickle.dump(bow_corpus, file)\n",
        "file.close()"
      ],
      "metadata": {
        "id": "07Pa7KsLQvTq"
      },
      "execution_count": null,
      "outputs": []
    },
    {
      "cell_type": "code",
      "source": [
        "# You can use pickle to save the Bow and TF-IDF objects\n",
        "import pickle\n",
        "file = open(path + \"/tfidf_AGnews_corpus.pkl\", 'wb')\n",
        "pickle.dump(tfidf_corpus, file)\n",
        "file.close()"
      ],
      "metadata": {
        "id": "vSC0Z4vqQ26J"
      },
      "execution_count": null,
      "outputs": []
    },
    {
      "cell_type": "code",
      "source": [
        "from gensim.test.utils import datapath\n",
        "dict_file = datapath(path + \"/gensim_dictionary_AGnews\")\n",
        "gensim_dictionary.save(dict_file)"
      ],
      "metadata": {
        "id": "1UoYmrFuJDIR"
      },
      "execution_count": null,
      "outputs": []
    },
    {
      "cell_type": "code",
      "execution_count": null,
      "metadata": {
        "id": "nWKkoS9lkFIS",
        "colab": {
          "base_uri": "https://localhost:8080/"
        },
        "outputId": "7fc6a163-df98-4de3-944a-7f6d7cc6a49b"
      },
      "outputs": [
        {
          "output_type": "execute_result",
          "data": {
            "text/plain": [
              "[(0, 1),\n",
              " (1, 1),\n",
              " (2, 1),\n",
              " (3, 1),\n",
              " (4, 1),\n",
              " (5, 1),\n",
              " (6, 1),\n",
              " (7, 1),\n",
              " (8, 1),\n",
              " (9, 1),\n",
              " (10, 1)]"
            ]
          },
          "metadata": {},
          "execution_count": 14
        }
      ],
      "source": [
        "bow_corpus[0]"
      ]
    },
    {
      "cell_type": "code",
      "execution_count": null,
      "metadata": {
        "id": "ect9cStcjD_T",
        "colab": {
          "base_uri": "https://localhost:8080/"
        },
        "outputId": "0f122acb-8e21-4369-cba7-26775ecf437a"
      },
      "outputs": [
        {
          "output_type": "execute_result",
          "data": {
            "text/plain": [
              "[(0, 0.31131789293821843),\n",
              " (1, 0.4306576644817018),\n",
              " (2, 0.39144503569676475),\n",
              " (3, 0.25087248536149226),\n",
              " (4, 0.10666451562874406),\n",
              " (5, 0.2939623618474953),\n",
              " (6, 0.3458751838128159),\n",
              " (7, 0.24562166453092021),\n",
              " (8, 0.20737140164598147),\n",
              " (9, 0.3634357292694977),\n",
              " (10, 0.22047599462197287)]"
            ]
          },
          "metadata": {},
          "execution_count": 16
        }
      ],
      "source": [
        "tfidf_corpus[0]"
      ]
    },
    {
      "cell_type": "code",
      "execution_count": null,
      "metadata": {
        "id": "-vgdC1TEo0so",
        "colab": {
          "base_uri": "https://localhost:8080/"
        },
        "outputId": "68fda44b-a228-4102-d0c8-a1dc979929b8"
      },
      "outputs": [
        {
          "output_type": "execute_result",
          "data": {
            "text/plain": [
              "[[('band', 1),\n",
              "  ('cynic', 1),\n",
              "  ('dwindl', 1),\n",
              "  ('green', 1),\n",
              "  ('reuter', 1),\n",
              "  ('see', 1),\n",
              "  ('seller', 1),\n",
              "  ('short', 1),\n",
              "  ('street', 1),\n",
              "  ('ultra', 1),\n",
              "  ('wall', 1)],\n",
              " [('reuter', 1),\n",
              "  ('bet', 1),\n",
              "  ('carlyl', 1),\n",
              "  ('controversi', 1),\n",
              "  ('defens', 1),\n",
              "  ('firm', 1),\n",
              "  ('group', 1),\n",
              "  ('industri', 1),\n",
              "  ('invest', 1),\n",
              "  ('make', 1),\n",
              "  ('market', 1),\n",
              "  ('occasion', 1),\n",
              "  ('place', 1),\n",
              "  ('plai', 1),\n",
              "  ('privat', 1),\n",
              "  ('quietli', 1),\n",
              "  ('reput', 1),\n",
              "  ('time', 1)],\n",
              " [('reuter', 1),\n",
              "  ('market', 1),\n",
              "  ('crude', 1),\n",
              "  ('depth', 1),\n",
              "  ('doldrum', 1),\n",
              "  ('earn', 1),\n",
              "  ('economi', 1),\n",
              "  ('expect', 1),\n",
              "  ('hang', 1),\n",
              "  ('outlook', 1),\n",
              "  ('plu', 1),\n",
              "  ('price', 1),\n",
              "  ('soar', 1),\n",
              "  ('stock', 1),\n",
              "  ('summer', 1),\n",
              "  ('week', 1),\n",
              "  ('worri', 1)]]"
            ]
          },
          "metadata": {},
          "execution_count": 17
        }
      ],
      "source": [
        "id_words[0:3]"
      ]
    },
    {
      "cell_type": "markdown",
      "source": [
        "### (C) Model\n",
        "#### (C.1) Modeling with BoW corpus"
      ],
      "metadata": {
        "id": "2jis6zMeFE41"
      }
    },
    {
      "cell_type": "code",
      "execution_count": 12,
      "metadata": {
        "id": "c2GdG_L0Q7gV"
      },
      "outputs": [],
      "source": [
        "import gensim\n",
        "lsi_model = gensim.models.lsimodel.LsiModel(\n",
        "   corpus=bow_corpus,\n",
        "   id2word=gensim_dictionary,\n",
        "   num_topics=20\n",
        ")"
      ]
    },
    {
      "cell_type": "code",
      "source": [
        "lsi_model.save(path + \"/ag_news_lsi_model\")"
      ],
      "metadata": {
        "id": "u3ZKNHqrRE-J"
      },
      "execution_count": 13,
      "outputs": []
    },
    {
      "cell_type": "code",
      "execution_count": 14,
      "metadata": {
        "id": "kKQ_jEUgVXqy",
        "colab": {
          "base_uri": "https://localhost:8080/"
        },
        "outputId": "427fa9c2-8e93-45c1-8fb9-00f0554bc067"
      },
      "outputs": [
        {
          "output_type": "stream",
          "name": "stdout",
          "text": [
            "[(0,\n",
            "  '0.427*\"reuter\" + 0.347*\"new\" + 0.284*\"said\" + 0.265*\"fullquot\" + '\n",
            "  '0.198*\"stock\" + 0.161*\"investor\" + 0.156*\"york\" + 0.155*\"com\" + '\n",
            "  '0.151*\"http\" + 0.148*\"www\"'),\n",
            " (1,\n",
            "  '-0.336*\"fullquot\" + 0.300*\"said\" + 0.288*\"quot\" + -0.234*\"reuter\" + '\n",
            "  '0.230*\"new\" + -0.185*\"stock\" + -0.176*\"http\" + 0.175*\"year\" + -0.174*\"href\" '\n",
            "  '+ -0.174*\"www\"'),\n",
            " (2,\n",
            "  '0.754*\"new\" + -0.436*\"said\" + -0.265*\"quot\" + 0.254*\"york\" + '\n",
            "  '-0.106*\"reuter\" + -0.070*\"fullquot\" + -0.066*\"offici\" + -0.061*\"kill\" + '\n",
            "  '-0.051*\"iraq\" + -0.045*\"unit\"'),\n",
            " (3,\n",
            "  '0.898*\"quot\" + -0.234*\"said\" + -0.122*\"year\" + 0.111*\"new\" + '\n",
            "  '0.084*\"fullquot\" + -0.074*\"reuter\" + -0.058*\"offici\" + -0.057*\"kill\" + '\n",
            "  '0.050*\"research\" + -0.049*\"wednesdai\"'),\n",
            " (4,\n",
            "  '0.645*\"year\" + -0.474*\"said\" + -0.272*\"new\" + 0.151*\"game\" + 0.125*\"world\" '\n",
            "  '+ 0.095*\"time\" + 0.092*\"season\" + 0.085*\"win\" + -0.082*\"york\" + '\n",
            "  '0.075*\"million\"'),\n",
            " (5,\n",
            "  '0.519*\"compani\" + -0.199*\"game\" + -0.192*\"reuter\" + 0.170*\"corp\" + '\n",
            "  '0.150*\"softwar\" + 0.145*\"servic\" + -0.134*\"state\" + -0.122*\"sundai\" + '\n",
            "  '0.119*\"million\" + 0.118*\"microsoft\"'),\n",
            " (6,\n",
            "  '0.477*\"oil\" + 0.409*\"price\" + -0.397*\"year\" + -0.256*\"said\" + -0.185*\"new\" '\n",
            "  '+ 0.131*\"reuter\" + 0.118*\"high\" + 0.115*\"crude\" + 0.109*\"report\" + '\n",
            "  '0.104*\"stock\"'),\n",
            " (7,\n",
            "  '-0.514*\"year\" + 0.262*\"compani\" + 0.259*\"game\" + -0.206*\"oil\" + '\n",
            "  '-0.191*\"price\" + -0.187*\"said\" + -0.123*\"new\" + 0.119*\"softwar\" + '\n",
            "  '0.115*\"state\" + 0.113*\"servic\"'),\n",
            " (8,\n",
            "  '-0.372*\"said\" + -0.359*\"game\" + 0.224*\"presid\" + 0.186*\"iraq\" + '\n",
            "  '0.156*\"minist\" + 0.143*\"state\" + 0.140*\"secur\" + 0.130*\"kill\" + '\n",
            "  '0.128*\"govern\" + 0.127*\"elect\"'),\n",
            " (9,\n",
            "  '-0.565*\"state\" + -0.490*\"unit\" + 0.219*\"kill\" + -0.179*\"world\" + '\n",
            "  '0.154*\"peopl\" + -0.150*\"nation\" + 0.130*\"game\" + 0.120*\"iraq\" + '\n",
            "  '0.108*\"baghdad\" + 0.091*\"iraqi\"'),\n",
            " (10,\n",
            "  '0.644*\"reuter\" + -0.226*\"yesterdai\" + -0.207*\"fullquot\" + -0.203*\"stock\" + '\n",
            "  '-0.191*\"oil\" + -0.146*\"com\" + -0.143*\"investor\" + -0.128*\"said\" + '\n",
            "  '0.123*\"world\" + 0.121*\"thursdai\"'),\n",
            " (11,\n",
            "  '-0.595*\"compani\" + 0.301*\"world\" + -0.237*\"reuter\" + -0.180*\"presid\" + '\n",
            "  '0.180*\"report\" + -0.169*\"game\" + 0.132*\"microsoft\" + 0.130*\"search\" + '\n",
            "  '-0.115*\"year\" + 0.114*\"quarter\"'),\n",
            " (12,\n",
            "  '-0.464*\"world\" + -0.410*\"presid\" + 0.296*\"state\" + 0.247*\"unit\" + '\n",
            "  '0.245*\"game\" + -0.202*\"bush\" + 0.155*\"kill\" + -0.149*\"elect\" + '\n",
            "  '0.123*\"peopl\" + -0.120*\"john\"'),\n",
            " (13,\n",
            "  '-0.458*\"world\" + -0.306*\"compani\" + 0.284*\"presid\" + -0.227*\"kill\" + '\n",
            "  '0.188*\"game\" + 0.170*\"week\" + -0.167*\"peopl\" + 0.158*\"bush\" + '\n",
            "  '0.151*\"wednesdai\" + 0.135*\"microsoft\"'),\n",
            " (14,\n",
            "  '-0.403*\"report\" + 0.319*\"oil\" + -0.312*\"quarter\" + -0.261*\"percent\" + '\n",
            "  '0.192*\"price\" + -0.175*\"sale\" + -0.174*\"profit\" + 0.171*\"world\" + '\n",
            "  '0.132*\"microsoft\" + 0.122*\"servic\"'),\n",
            " (15,\n",
            "  '-0.670*\"mondai\" + 0.474*\"wednesdai\" + 0.250*\"thursdai\" + -0.213*\"tuesdai\" + '\n",
            "  '0.149*\"minist\" + 0.114*\"prime\" + 0.113*\"googl\" + 0.103*\"search\" + '\n",
            "  '-0.092*\"presid\" + -0.089*\"peopl\"'),\n",
            " (16,\n",
            "  '-0.353*\"thursdai\" + 0.353*\"tuesdai\" + 0.318*\"minist\" + 0.244*\"prime\" + '\n",
            "  '-0.216*\"fridai\" + -0.214*\"peopl\" + 0.182*\"wednesdai\" + 0.170*\"plan\" + '\n",
            "  '0.158*\"game\" + 0.152*\"world\"'),\n",
            " (17,\n",
            "  '-0.421*\"mondai\" + -0.412*\"wednesdai\" + 0.368*\"tuesdai\" + -0.302*\"olymp\" + '\n",
            "  '-0.276*\"athen\" + 0.169*\"thursdai\" + -0.156*\"medal\" + -0.153*\"million\" + '\n",
            "  '-0.150*\"gold\" + 0.137*\"fridai\"'),\n",
            " (18,\n",
            "  '-0.474*\"olymp\" + -0.424*\"athen\" + 0.312*\"wednesdai\" + -0.252*\"medal\" + '\n",
            "  '-0.242*\"gold\" + 0.176*\"mondai\" + -0.159*\"tuesdai\" + 0.137*\"million\" + '\n",
            "  '-0.125*\"fridai\" + -0.114*\"greec\"'),\n",
            " (19,\n",
            "  '0.327*\"tuesdai\" + -0.317*\"iraq\" + -0.227*\"najaf\" + 0.219*\"palestinian\" + '\n",
            "  '-0.205*\"week\" + 0.198*\"peopl\" + -0.195*\"fridai\" + 0.182*\"presid\" + '\n",
            "  '0.177*\"kill\" + -0.153*\"minist\"')]\n"
          ]
        }
      ],
      "source": [
        "import pprint as pp\n",
        "pp.pprint(lsi_model.print_topics())"
      ]
    },
    {
      "cell_type": "markdown",
      "source": [
        "#### (C.2) Modeling with the TF-IDF corpus"
      ],
      "metadata": {
        "id": "K76zl7KBwr5O"
      }
    },
    {
      "cell_type": "code",
      "source": [
        "import gensim\n",
        "lsi_model = gensim.models.lsimodel.LsiModel(\n",
        "   corpus=tfidf_corpus,\n",
        "   id2word=gensim_dictionary,\n",
        "   num_topics=20\n",
        ")"
      ],
      "metadata": {
        "id": "jpn9sq0WuhEg"
      },
      "execution_count": 15,
      "outputs": []
    },
    {
      "cell_type": "code",
      "execution_count": 16,
      "metadata": {
        "id": "GGTcNbj3W2m5",
        "colab": {
          "base_uri": "https://localhost:8080/"
        },
        "outputId": "7a5c8b7c-c3e3-4ff6-a53a-e3c44600a308"
      },
      "outputs": [
        {
          "output_type": "stream",
          "name": "stdout",
          "text": [
            "[(0,\n",
            "  '0.200*\"reuter\" + 0.184*\"new\" + 0.177*\"said\" + 0.133*\"quot\" + 0.130*\"year\" + '\n",
            "  '0.126*\"compani\" + 0.125*\"stock\" + 0.122*\"fullquot\" + 0.118*\"oil\" + '\n",
            "  '0.116*\"york\"'),\n",
            " (1,\n",
            "  '-0.417*\"fullquot\" + -0.251*\"stock\" + -0.216*\"investor\" + -0.212*\"reuter\" + '\n",
            "  '-0.211*\"http\" + -0.211*\"href\" + -0.210*\"www\" + -0.209*\"quickinfo\" + '\n",
            "  '-0.209*\"aspx\" + -0.205*\"ticker\"'),\n",
            " (2,\n",
            "  '-0.230*\"kill\" + -0.184*\"fullquot\" + -0.177*\"iraq\" + -0.159*\"baghdad\" + '\n",
            "  '0.147*\"compani\" + -0.145*\"iraqi\" + -0.143*\"reuter\" + -0.127*\"palestinian\" + '\n",
            "  '-0.126*\"peopl\" + -0.125*\"bomb\"'),\n",
            " (3,\n",
            "  '-0.424*\"oil\" + 0.361*\"quot\" + -0.327*\"price\" + -0.165*\"crude\" + '\n",
            "  '0.161*\"fullquot\" + -0.141*\"barrel\" + 0.134*\"microsoft\" + 0.119*\"softwar\" + '\n",
            "  '-0.104*\"record\" + -0.103*\"suppli\"'),\n",
            " (4,\n",
            "  '0.266*\"game\" + 0.182*\"win\" + 0.164*\"season\" + -0.155*\"quot\" + 0.153*\"leagu\" '\n",
            "  '+ 0.151*\"night\" + 0.144*\"victori\" + 0.142*\"team\" + -0.126*\"said\" + '\n",
            "  '0.126*\"seri\"'),\n",
            " (5,\n",
            "  '-0.843*\"quot\" + -0.129*\"oil\" + 0.115*\"softwar\" + -0.114*\"profil\" + '\n",
            "  '0.108*\"compani\" + 0.105*\"servic\" + 0.101*\"microsoft\" + -0.098*\"price\" + '\n",
            "  '-0.095*\"research\" + 0.077*\"internet\"'),\n",
            " (6,\n",
            "  '0.251*\"kill\" + -0.246*\"presid\" + -0.203*\"bush\" + 0.184*\"baghdad\" + '\n",
            "  '0.178*\"peopl\" + -0.168*\"state\" + -0.164*\"unit\" + -0.154*\"elect\" + '\n",
            "  '0.149*\"bomb\" + 0.141*\"iraqi\"'),\n",
            " (7,\n",
            "  '-0.287*\"quarter\" + 0.247*\"oil\" + -0.246*\"percent\" + 0.206*\"new\" + '\n",
            "  '-0.184*\"sale\" + -0.179*\"year\" + -0.175*\"profit\" + 0.169*\"microsoft\" + '\n",
            "  '0.151*\"price\" + 0.133*\"york\"'),\n",
            " (8,\n",
            "  '0.361*\"palestinian\" + 0.304*\"gaza\" + 0.287*\"isra\" + 0.206*\"minist\" + '\n",
            "  '0.201*\"prime\" + 0.163*\"arafat\" + -0.150*\"unit\" + 0.147*\"strip\" + '\n",
            "  '0.144*\"yasser\" + 0.137*\"sharon\"'),\n",
            " (9,\n",
            "  '0.263*\"presid\" + 0.260*\"bush\" + 0.191*\"kerri\" + -0.190*\"palestinian\" + '\n",
            "  '0.186*\"john\" + -0.176*\"gaza\" + 0.175*\"elect\" + -0.161*\"isra\" + -0.157*\"oil\" '\n",
            "  '+ 0.132*\"iraq\"'),\n",
            " (10,\n",
            "  '0.210*\"search\" + -0.190*\"oracl\" + -0.187*\"peoplesoft\" + 0.164*\"googl\" + '\n",
            "  '0.158*\"unit\" + 0.151*\"olymp\" + 0.148*\"state\" + 0.147*\"athen\" + '\n",
            "  '-0.145*\"compani\" + 0.128*\"nuclear\"'),\n",
            " (11,\n",
            "  '0.361*\"new\" + 0.303*\"york\" + -0.182*\"softwar\" + -0.171*\"athen\" + '\n",
            "  '-0.170*\"olymp\" + -0.160*\"oracl\" + -0.152*\"microsoft\" + -0.151*\"peoplesoft\" '\n",
            "  '+ -0.119*\"gold\" + -0.118*\"medal\"'),\n",
            " (12,\n",
            "  '0.258*\"athen\" + 0.257*\"olymp\" + -0.226*\"iraq\" + -0.205*\"minist\" + '\n",
            "  '-0.175*\"prime\" + 0.160*\"medal\" + 0.154*\"gold\" + 0.144*\"peopl\" + '\n",
            "  '-0.130*\"hostag\" + 0.119*\"palestinian\"'),\n",
            " (13,\n",
            "  '-0.268*\"olymp\" + -0.260*\"athen\" + 0.229*\"googl\" + 0.227*\"search\" + '\n",
            "  '-0.202*\"new\" + 0.202*\"font\" + -0.189*\"medal\" + 0.186*\"san\" + -0.165*\"gold\" '\n",
            "  '+ -0.147*\"york\"'),\n",
            " (14,\n",
            "  '-0.178*\"iraq\" + -0.168*\"googl\" + -0.167*\"search\" + -0.164*\"york\" + '\n",
            "  '0.157*\"world\" + -0.144*\"feder\" + 0.140*\"presid\" + -0.137*\"athen\" + '\n",
            "  '-0.137*\"olymp\" + 0.134*\"peopl\"'),\n",
            " (15,\n",
            "  '-0.272*\"microsoft\" + 0.206*\"wireless\" + 0.197*\"athen\" + 0.190*\"phone\" + '\n",
            "  '-0.177*\"softwar\" + 0.174*\"olymp\" + -0.173*\"window\" + 0.171*\"mobil\" + '\n",
            "  '-0.157*\"open\" + 0.136*\"game\"'),\n",
            " (16,\n",
            "  '-0.188*\"cup\" + 0.183*\"nuclear\" + 0.178*\"athen\" + 0.156*\"microsoft\" + '\n",
            "  '-0.151*\"googl\" + 0.149*\"iran\" + 0.143*\"olymp\" + -0.132*\"search\" + '\n",
            "  '-0.126*\"world\" + 0.126*\"game\"'),\n",
            " (17,\n",
            "  '0.247*\"nuclear\" + 0.204*\"music\" + 0.186*\"iran\" + 0.163*\"oracl\" + '\n",
            "  '0.158*\"peoplesoft\" + -0.151*\"microsoft\" + -0.141*\"hurrican\" + '\n",
            "  '-0.138*\"sudan\" + -0.135*\"darfur\" + -0.131*\"state\"'),\n",
            " (18,\n",
            "  '0.303*\"hurrican\" + 0.234*\"ivan\" + 0.218*\"najaf\" + -0.203*\"search\" + '\n",
            "  '-0.190*\"googl\" + 0.147*\"space\" + 0.144*\"arafat\" + -0.139*\"sox\" + '\n",
            "  '0.134*\"palestinian\" + -0.131*\"red\"'),\n",
            " (19,\n",
            "  '0.387*\"najaf\" + -0.259*\"hurrican\" + 0.203*\"cleric\" + -0.198*\"ivan\" + '\n",
            "  '0.182*\"arafat\" + 0.178*\"sadr\" + 0.157*\"yasser\" + 0.156*\"shrine\" + '\n",
            "  '0.147*\"shiit\" + -0.142*\"minist\"')]\n"
          ]
        }
      ],
      "source": [
        "import pprint as pp\n",
        "pp.pprint(lsi_model.print_topics())"
      ]
    },
    {
      "cell_type": "markdown",
      "source": [
        "### (D) Use coherence score to determine the optimal number of topics"
      ],
      "metadata": {
        "id": "GAYX_b-EJO8Z"
      }
    },
    {
      "cell_type": "code",
      "execution_count": 18,
      "metadata": {
        "id": "DRziZ9dSVWPC",
        "colab": {
          "base_uri": "https://localhost:8080/"
        },
        "outputId": "5ad2adb0-cf1a-4300-eb38-369a911509a9"
      },
      "outputs": [
        {
          "output_type": "stream",
          "name": "stderr",
          "text": [
            "WARNING:gensim.models.lsimodel:no word id mapping provided; initializing from corpus, assuming identity\n",
            "WARNING:gensim.models.lsimodel:no word id mapping provided; initializing from corpus, assuming identity\n",
            "WARNING:gensim.models.lsimodel:no word id mapping provided; initializing from corpus, assuming identity\n",
            "WARNING:gensim.models.lsimodel:no word id mapping provided; initializing from corpus, assuming identity\n"
          ]
        }
      ],
      "source": [
        "import gensim\n",
        "from gensim.models.coherencemodel import CoherenceModel\n",
        "import numpy as np\n",
        "np.random.seed(42)\n",
        "def coherence_UMass(corpus, dictionary, k):\n",
        "   lsi_model = gensim.models.lsimodel.LsiModel(corpus=tfidf_corpus,num_topics=k)\n",
        "   coherence = CoherenceModel(model=lsi_model,\n",
        "                              corpus=corpus,\n",
        "                              dictionary=dictionary,\n",
        "                              coherence='u_mass')\n",
        "   return coherence.get_coherence()\n",
        "\n",
        "coherenceList_UMass = []\n",
        "numTopicsList = [100,150,200,250]\n",
        "for k in numTopicsList:\n",
        "   c_UMass = coherence_UMass(tfidf_corpus, id_words, k)\n",
        "   coherenceList_UMass.append(c_UMass)"
      ]
    },
    {
      "cell_type": "code",
      "execution_count": 19,
      "metadata": {
        "id": "bQUO-HwPVWRG",
        "colab": {
          "base_uri": "https://localhost:8080/",
          "height": 429
        },
        "outputId": "15843b61-4a8b-480a-a574-b49db4adb1cf"
      },
      "outputs": [
        {
          "output_type": "display_data",
          "data": {
            "text/plain": [
              "<Figure size 640x480 with 1 Axes>"
            ],
            "image/png": "[encoded data removed]"
          },
          "metadata": {}
        }
      ],
      "source": [
        "from matplotlib import pyplot as plt\n",
        "plt.plot([100,150,200,250], coherenceList_UMass)\n",
        "plt.savefig(path + \"/ag_news_lsi_coherence\")\n",
        "plt.show()"
      ]
    },
    {
      "cell_type": "markdown",
      "source": [
        "- Save the model. The optimal number of 150"
      ],
      "metadata": {
        "id": "E24bref-JWXZ"
      }
    },
    {
      "cell_type": "code",
      "source": [
        "import gensim\n",
        "lsi_model = gensim.models.lsimodel.LsiModel(\n",
        "   corpus=tfidf_corpus,\n",
        "   id2word=gensim_dictionary,\n",
        "   num_topics=150\n",
        ")\n",
        "lsi_model.save(path + \"/ag_news_lsi_model\")"
      ],
      "metadata": {
        "id": "YIDgcCdQX6Po"
      },
      "execution_count": 20,
      "outputs": []
    },
    {
      "cell_type": "markdown",
      "source": [
        "### (E) Understand the model"
      ],
      "metadata": {
        "id": "d_Nxl48BKME6"
      }
    },
    {
      "cell_type": "code",
      "source": [
        "lsi_model.get_topics()[0:2]"
      ],
      "metadata": {
        "colab": {
          "base_uri": "https://localhost:8080/"
        },
        "id": "1qP55DBMKI_M",
        "outputId": "b0e26a1f-dcbb-43b7-a0bf-b018f6333d23"
      },
      "execution_count": 21,
      "outputs": [
        {
          "output_type": "execute_result",
          "data": {
            "text/plain": [
              "array([[ 3.02516097e-03,  2.67193609e-04,  9.96747600e-04, ...,\n",
              "         1.09561420e-04,  2.80205297e-05,  3.34169248e-05],\n",
              "       [ 1.58237963e-03,  1.77632950e-04, -6.09622780e-05, ...,\n",
              "         1.82242481e-05,  1.34136674e-05,  2.50903508e-05]])"
            ]
          },
          "metadata": {},
          "execution_count": 21
        }
      ]
    },
    {
      "cell_type": "code",
      "source": [
        "len(lsi_model.get_topics())"
      ],
      "metadata": {
        "colab": {
          "base_uri": "https://localhost:8080/"
        },
        "id": "W1hY5RdkKT1T",
        "outputId": "0ec8f2d6-ce1e-47d7-f7c2-6f52574fa196"
      },
      "execution_count": 22,
      "outputs": [
        {
          "output_type": "execute_result",
          "data": {
            "text/plain": [
              "150"
            ]
          },
          "metadata": {},
          "execution_count": 22
        }
      ]
    },
    {
      "cell_type": "code",
      "source": [
        "len(lsi_model.get_topics()[2])"
      ],
      "metadata": {
        "colab": {
          "base_uri": "https://localhost:8080/"
        },
        "id": "dplBpaoNKT33",
        "outputId": "70b97dec-5eac-47db-f798-ec9fc17d3138"
      },
      "execution_count": 23,
      "outputs": [
        {
          "output_type": "execute_result",
          "data": {
            "text/plain": [
              "40359"
            ]
          },
          "metadata": {},
          "execution_count": 23
        }
      ]
    },
    {
      "cell_type": "code",
      "source": [
        "lsi_model.show_topics()[0:3]"
      ],
      "metadata": {
        "colab": {
          "base_uri": "https://localhost:8080/"
        },
        "id": "MiqDBuDTKT6X",
        "outputId": "9f19f93f-6d80-4845-8baa-91d43f70942c"
      },
      "execution_count": 24,
      "outputs": [
        {
          "output_type": "execute_result",
          "data": {
            "text/plain": [
              "[(0,\n",
              "  '0.199*\"reuter\" + 0.185*\"new\" + 0.178*\"said\" + 0.132*\"quot\" + 0.131*\"year\" + 0.126*\"compani\" + 0.125*\"stock\" + 0.122*\"fullquot\" + 0.119*\"oil\" + 0.116*\"york\"'),\n",
              " (1,\n",
              "  '-0.415*\"fullquot\" + -0.250*\"stock\" + -0.215*\"investor\" + -0.210*\"reuter\" + -0.210*\"http\" + -0.209*\"href\" + -0.208*\"www\" + -0.207*\"quickinfo\" + -0.207*\"aspx\" + -0.203*\"ticker\"'),\n",
              " (2,\n",
              "  '-0.236*\"kill\" + -0.186*\"fullquot\" + -0.174*\"iraq\" + -0.161*\"baghdad\" + 0.150*\"compani\" + -0.148*\"iraqi\" + -0.145*\"reuter\" + -0.131*\"palestinian\" + -0.128*\"bomb\" + -0.125*\"peopl\"')]"
            ]
          },
          "metadata": {},
          "execution_count": 24
        }
      ]
    },
    {
      "cell_type": "code",
      "source": [
        "i = 45\n",
        "train['Description'][i]"
      ],
      "metadata": {
        "colab": {
          "base_uri": "https://localhost:8080/",
          "height": 34
        },
        "id": "42mRVG7uKT8n",
        "outputId": "d80345b8-b999-4365-84a6-caceef07ebac"
      },
      "execution_count": 25,
      "outputs": [
        {
          "output_type": "execute_result",
          "data": {
            "text/plain": [
              "\"A lawsuit against Gary Winnick, the former chief of Global Crossing, refocuses attention on what Mr. Winnick knew about his company's finances as it imploded.\""
            ],
            "application/vnd.google.colaboratory.intrinsic+json": {
              "type": "string"
            }
          },
          "metadata": {},
          "execution_count": 25
        }
      ]
    },
    {
      "cell_type": "code",
      "source": [
        "bow_corpus[i]"
      ],
      "metadata": {
        "colab": {
          "base_uri": "https://localhost:8080/"
        },
        "id": "WRV5rO-NKT-3",
        "outputId": "72865a3d-ec74-40a8-9eda-d7539eb5c5c4"
      },
      "execution_count": 26,
      "outputs": [
        {
          "output_type": "execute_result",
          "data": {
            "text/plain": [
              "[(93, 1),\n",
              " (206, 1),\n",
              " (513, 1),\n",
              " (514, 1),\n",
              " (515, 1),\n",
              " (516, 1),\n",
              " (517, 1),\n",
              " (518, 1),\n",
              " (519, 1),\n",
              " (520, 1),\n",
              " (521, 1),\n",
              " (522, 2)]"
            ]
          },
          "metadata": {},
          "execution_count": 26
        }
      ]
    },
    {
      "cell_type": "code",
      "source": [
        "id_words = [[(gensim_dictionary[id], count) for id, count in line] for line in bow_corpus[i:(i+1)]]\n",
        "pp.pprint(id_words)"
      ],
      "metadata": {
        "colab": {
          "base_uri": "https://localhost:8080/"
        },
        "id": "QSJREKdTKUBj",
        "outputId": "0e4e2925-89a3-4211-c209-c3fa511d5abb"
      },
      "execution_count": 27,
      "outputs": [
        {
          "output_type": "stream",
          "name": "stdout",
          "text": [
            "[[('compani', 1),\n",
            "  ('financ', 1),\n",
            "  ('attent', 1),\n",
            "  ('chief', 1),\n",
            "  ('cross', 1),\n",
            "  ('gari', 1),\n",
            "  ('global', 1),\n",
            "  ('implod', 1),\n",
            "  ('knew', 1),\n",
            "  ('lawsuit', 1),\n",
            "  ('refocus', 1),\n",
            "  ('winnick', 2)]]\n"
          ]
        }
      ]
    },
    {
      "cell_type": "code",
      "source": [
        "tfidf_corpus[i]"
      ],
      "metadata": {
        "colab": {
          "base_uri": "https://localhost:8080/"
        },
        "id": "wp6UQF5CfCuO",
        "outputId": "acadcd5c-23fa-4423-be98-5409922a7a48"
      },
      "execution_count": 28,
      "outputs": [
        {
          "output_type": "execute_result",
          "data": {
            "text/plain": [
              "[(93, 0.09256640306973117),\n",
              " (206, 0.1824096655332926),\n",
              " (513, 0.22115919307277485),\n",
              " (514, 0.14015129409880323),\n",
              " (515, 0.20612060750761854),\n",
              " (516, 0.22262657288143822),\n",
              " (517, 0.15833380233728434),\n",
              " (518, 0.35453549783337673),\n",
              " (519, 0.23179498753912278),\n",
              " (520, 0.1802823632220798),\n",
              " (521, 0.35453549783337673),\n",
              " (522, 0.6594429672721119)]"
            ]
          },
          "metadata": {},
          "execution_count": 28
        }
      ]
    },
    {
      "cell_type": "code",
      "source": [
        "a_doc = lsi_model[tfidf_corpus[i]]\n",
        "print(len(a_doc))"
      ],
      "metadata": {
        "colab": {
          "base_uri": "https://localhost:8080/"
        },
        "id": "-gbYEn1jMcm_",
        "outputId": "4644a4f3-452c-4aa1-d1b3-f142817c3318"
      },
      "execution_count": 29,
      "outputs": [
        {
          "output_type": "stream",
          "name": "stdout",
          "text": [
            "150\n"
          ]
        }
      ]
    },
    {
      "cell_type": "code",
      "source": [
        "a_doc"
      ],
      "metadata": {
        "colab": {
          "base_uri": "https://localhost:8080/"
        },
        "id": "6OYkm5X2g1ll",
        "outputId": "ab45f562-9a38-446e-b221-50a3e90f5fdd"
      },
      "execution_count": 30,
      "outputs": [
        {
          "output_type": "execute_result",
          "data": {
            "text/plain": [
              "[(0, 0.032235633611657176),\n",
              " (1, 0.007102851856500203),\n",
              " (2, 0.01823901613759617),\n",
              " (3, 0.01293608368709607),\n",
              " (4, -0.015586638987351742),\n",
              " (5, 0.01172555382879074),\n",
              " (6, -0.014404458690462415),\n",
              " (7, 0.002127472589315075),\n",
              " (8, -0.00710606376912141),\n",
              " (9, -0.021517190635985062),\n",
              " (10, 0.01044553445335182),\n",
              " (11, -0.030368162482686752),\n",
              " (12, 0.017059072244528253),\n",
              " (13, 0.004335398052669905),\n",
              " (14, 0.013713309219801512),\n",
              " (15, 0.01623367521588988),\n",
              " (16, 0.007310854187530433),\n",
              " (17, 0.0072275320629329115),\n",
              " (18, -0.0007518609472303345),\n",
              " (19, -0.010417917076052625),\n",
              " (20, 0.0004589625345029261),\n",
              " (21, 0.02184753317808688),\n",
              " (22, -0.010527679703840819),\n",
              " (23, -0.01889460301225522),\n",
              " (24, 0.0395360188741617),\n",
              " (25, 0.008410973049026335),\n",
              " (26, 0.020122424322414147),\n",
              " (27, 0.017347990939004413),\n",
              " (28, 0.035250391410318146),\n",
              " (29, -0.0352628627942808),\n",
              " (30, -0.020172887346127044),\n",
              " (31, -0.011159905535055012),\n",
              " (32, 0.023939362736384674),\n",
              " (33, 0.01844527264337699),\n",
              " (34, -0.0017645896234644734),\n",
              " (35, 0.004934358500910686),\n",
              " (36, -0.01743094937508155),\n",
              " (37, 0.004317233602807131),\n",
              " (38, 0.006167415495888371),\n",
              " (39, -0.001269009247781472),\n",
              " (40, -0.024315397216035123),\n",
              " (41, 0.019362078804750136),\n",
              " (42, -0.02263635356909494),\n",
              " (43, -0.014660577135121781),\n",
              " (44, -0.009009242019303244),\n",
              " (45, 0.005773339469765044),\n",
              " (46, 0.002249169108135658),\n",
              " (47, -0.0024848231102993974),\n",
              " (48, -0.008894542495957256),\n",
              " (49, -0.013860510707195302),\n",
              " (50, -0.01209624420511987),\n",
              " (51, 0.008234016824780373),\n",
              " (52, 0.02726986059345902),\n",
              " (53, -0.009508151242725122),\n",
              " (54, -0.00978032149427271),\n",
              " (55, 0.0041913957098922835),\n",
              " (56, -0.013924094297854479),\n",
              " (57, 0.007095141274817453),\n",
              " (58, 0.027743926175049106),\n",
              " (59, -0.010680111861944508),\n",
              " (60, -0.011938989321246882),\n",
              " (61, -0.014885353394737256),\n",
              " (62, 0.0022407641148547634),\n",
              " (63, 0.004491702715942476),\n",
              " (64, -0.007971546487571604),\n",
              " (65, 0.0009582574367117006),\n",
              " (66, -0.014448392362978096),\n",
              " (67, 0.001003314223088458),\n",
              " (68, 0.009682116243419706),\n",
              " (69, -0.007033013942550741),\n",
              " (70, 0.006792729320498644),\n",
              " (71, 0.013224720860333295),\n",
              " (72, -0.00040588897553994215),\n",
              " (73, -0.00031543188381816234),\n",
              " (74, -0.007650362392323957),\n",
              " (75, 0.0017240877693750884),\n",
              " (76, -0.0016293019230386346),\n",
              " (77, -0.007613731901340255),\n",
              " (78, -0.003065184762982028),\n",
              " (79, -0.004593018025720311),\n",
              " (80, 0.005795530946467992),\n",
              " (81, -0.004991373496264295),\n",
              " (82, -0.0030398708401891033),\n",
              " (83, 0.007062758965483837),\n",
              " (84, -0.003624971470313641),\n",
              " (85, -0.00034415124640941187),\n",
              " (86, -9.778045799806352e-05),\n",
              " (87, 0.010342477816388623),\n",
              " (88, 0.006667707441829635),\n",
              " (89, 7.662170230698713e-05),\n",
              " (90, 0.003889134047760947),\n",
              " (91, 0.0037976853581971073),\n",
              " (92, 0.017551580121833294),\n",
              " (93, -0.009064431146942735),\n",
              " (94, -0.002683588623716657),\n",
              " (95, -0.004349407196779309),\n",
              " (96, -0.014692802109635476),\n",
              " (97, 0.014202258622026199),\n",
              " (98, 0.0007211879177709225),\n",
              " (99, 0.00401565637332358),\n",
              " (100, -0.009481304263418608),\n",
              " (101, -0.014881539064805188),\n",
              " (102, 0.012107288986916973),\n",
              " (103, 0.017611833032257263),\n",
              " (104, 0.012892024170324782),\n",
              " (105, -0.004000517430376264),\n",
              " (106, -0.003307515452624383),\n",
              " (107, 0.005131721413494383),\n",
              " (108, 0.00857515762655214),\n",
              " (109, 0.008015845472273353),\n",
              " (110, -0.00013348950810952557),\n",
              " (111, 0.004699568453511156),\n",
              " (112, -0.007051180683878864),\n",
              " (113, 0.00438219821521528),\n",
              " (114, -0.009691297044304562),\n",
              " (115, 0.010848684969143122),\n",
              " (116, -0.0005465735281869854),\n",
              " (117, 0.006146279894561416),\n",
              " (118, -0.0025564864062775127),\n",
              " (119, -0.009387448109570576),\n",
              " (120, 0.0005350639472531076),\n",
              " (121, 0.008555250611512534),\n",
              " (122, -0.012491514005622777),\n",
              " (123, 0.002027407044237273),\n",
              " (124, 0.003610943822430541),\n",
              " (125, 0.004382346348442102),\n",
              " (126, -0.0017476598528080069),\n",
              " (127, -0.00501962909642487),\n",
              " (128, 0.009188692614116385),\n",
              " (129, -0.0017387202004989335),\n",
              " (130, 0.002955507386292658),\n",
              " (131, -0.0031650561626185027),\n",
              " (132, -0.006278203007307191),\n",
              " (133, -0.01182218531449032),\n",
              " (134, -0.01052661104859202),\n",
              " (135, 0.013980113374378808),\n",
              " (136, -0.005594405691918875),\n",
              " (137, 0.024183797825891196),\n",
              " (138, -3.1737912482067334e-05),\n",
              " (139, 0.0006784298713821055),\n",
              " (140, -0.008032821620548785),\n",
              " (141, 0.022344507846140643),\n",
              " (142, -0.005664385817519194),\n",
              " (143, 0.008110475077032473),\n",
              " (144, -0.009132482928079628),\n",
              " (145, 0.007961887362771545),\n",
              " (146, -0.009547826730248524),\n",
              " (147, 0.01474229000241579),\n",
              " (148, 0.016545895447330473),\n",
              " (149, -0.0008756666152263377)]"
            ]
          },
          "metadata": {},
          "execution_count": 30
        }
      ]
    },
    {
      "cell_type": "code",
      "source": [
        "import pprint as pp\n",
        "a_doc.sort(key=lambda a: a[1], reverse=True)\n",
        "pp.pprint(a_doc[0:5])"
      ],
      "metadata": {
        "colab": {
          "base_uri": "https://localhost:8080/"
        },
        "id": "wKf1K5GZMncJ",
        "outputId": "a38f8c1d-dd48-4b2a-e267-a71a4d6d21fc"
      },
      "execution_count": 31,
      "outputs": [
        {
          "output_type": "stream",
          "name": "stdout",
          "text": [
            "[(24, 0.0395360188741617),\n",
            " (28, 0.035250391410318146),\n",
            " (0, 0.032235633611657176),\n",
            " (58, 0.027743926175049106),\n",
            " (52, 0.02726986059345902)]\n"
          ]
        }
      ]
    },
    {
      "cell_type": "code",
      "source": [
        "lsi_model.show_topics()[28]"
      ],
      "metadata": {
        "colab": {
          "base_uri": "https://localhost:8080/"
        },
        "id": "qQpv5qd9M9kq",
        "outputId": "d99a3089-e80c-4c7b-a697-5a71ddbe2692"
      },
      "execution_count": 32,
      "outputs": [
        {
          "output_type": "execute_result",
          "data": {
            "text/plain": [
              "(28,\n",
              " '-0.272*\"year\" + 0.212*\"compani\" + 0.165*\"game\" + -0.164*\"nuclear\" + -0.145*\"internet\" + 0.138*\"market\" + -0.131*\"iran\" + 0.123*\"stock\" + 0.121*\"tokyo\" + 0.115*\"nation\"')"
            ]
          },
          "metadata": {},
          "execution_count": 32
        }
      ]
    },
    {
      "cell_type": "code",
      "source": [
        "lsi_model.show_topics()[53]"
      ],
      "metadata": {
        "id": "ccRJB0r2n80G",
        "outputId": "7ee1d041-3253-4a32-ced4-8ba721283267",
        "colab": {
          "base_uri": "https://localhost:8080/"
        }
      },
      "execution_count": 33,
      "outputs": [
        {
          "output_type": "execute_result",
          "data": {
            "text/plain": [
              "(53,\n",
              " '0.307*\"time\" + 0.219*\"group\" + 0.195*\"wednesdai\" + -0.175*\"fridai\" + -0.174*\"drug\" + 0.174*\"thursdai\" + -0.167*\"arafat\" + -0.146*\"offici\" + -0.146*\"yasser\" + -0.142*\"mondai\"')"
            ]
          },
          "metadata": {},
          "execution_count": 33
        }
      ]
    },
    {
      "cell_type": "markdown",
      "metadata": {
        "id": "4m_V7MhArEvk"
      },
      "source": [
        "### (E) Use the model in production"
      ]
    },
    {
      "cell_type": "code",
      "source": [
        "import gensim\n",
        "lsi_model = gensim.models.lsimodel.LsiModel.load(path + \"/ag_news_lsi_model\")"
      ],
      "metadata": {
        "id": "rRUasvriQ0f4"
      },
      "execution_count": 34,
      "outputs": []
    },
    {
      "cell_type": "code",
      "source": [
        "from gensim.corpora import Dictionary\n",
        "from gensim.test.utils import datapath\n",
        "dict_file = datapath(path + \"/gensim_dictionary_AGnews\")\n",
        "gensim_dictionary = Dictionary.load(dict_file)"
      ],
      "metadata": {
        "id": "nIultB4qtv4Y"
      },
      "execution_count": null,
      "outputs": []
    },
    {
      "cell_type": "code",
      "source": [
        "import pickle\n",
        "# open a file, where you stored the pickled data\n",
        "file = open(path + \"gensim/BoW_AGnews_corpus.pkl\", 'rb')\n",
        "bow_corpus = pickle.load(file)\n",
        "# close the file\n",
        "file.close()\n",
        "bow_corpus[0]"
      ],
      "metadata": {
        "colab": {
          "base_uri": "https://localhost:8080/"
        },
        "id": "v3qRjLbYRE-D",
        "outputId": "de5afc51-4553-4139-a538-43b2c1b98360"
      },
      "execution_count": null,
      "outputs": [
        {
          "output_type": "execute_result",
          "data": {
            "text/plain": [
              "[(0, 1),\n",
              " (1, 1),\n",
              " (2, 1),\n",
              " (3, 1),\n",
              " (4, 1),\n",
              " (5, 1),\n",
              " (6, 1),\n",
              " (7, 1),\n",
              " (8, 1),\n",
              " (9, 1),\n",
              " (10, 1)]"
            ]
          },
          "metadata": {},
          "execution_count": 8
        }
      ]
    },
    {
      "cell_type": "code",
      "source": [
        "import pickle\n",
        "# open a file, where you stored the pickled data\n",
        "file = open(path + \"/tfidf_AGnews_corpus.pkl\", 'rb')\n",
        "tfidf_corpus = pickle.load(file)\n",
        "# close the file\n",
        "file.close()\n",
        "tfidf_corpus[0]"
      ],
      "metadata": {
        "colab": {
          "base_uri": "https://localhost:8080/"
        },
        "id": "vvgqJVMQRFCM",
        "outputId": "f124d782-5e23-46b7-f007-f9fe51d1fb17"
      },
      "execution_count": null,
      "outputs": [
        {
          "output_type": "execute_result",
          "data": {
            "text/plain": [
              "[(0, 0.31131789293821843),\n",
              " (1, 0.4306576644817018),\n",
              " (2, 0.39144503569676475),\n",
              " (3, 0.25087248536149226),\n",
              " (4, 0.10666451562874406),\n",
              " (5, 0.2939623618474953),\n",
              " (6, 0.3458751838128159),\n",
              " (7, 0.24562166453092021),\n",
              " (8, 0.20737140164598147),\n",
              " (9, 0.3634357292694977),\n",
              " (10, 0.22047599462197287)]"
            ]
          },
          "metadata": {},
          "execution_count": 9
        }
      ]
    },
    {
      "cell_type": "code",
      "source": [
        "from gensim.parsing.preprocessing import preprocess_string\n",
        "doc = \"Crude prices inflation the economy outlook earnings\"\n",
        "doc_tokenized = preprocess_string(doc)\n",
        "doc_tokenized"
      ],
      "metadata": {
        "id": "iweBg1Cru0nG",
        "colab": {
          "base_uri": "https://localhost:8080/"
        },
        "outputId": "7a402bd1-8d34-4182-f584-43ba3b34aadd"
      },
      "execution_count": null,
      "outputs": [
        {
          "output_type": "execute_result",
          "data": {
            "text/plain": [
              "['crude', 'price', 'inflat', 'economi', 'outlook', 'earn']"
            ]
          },
          "metadata": {},
          "execution_count": 10
        }
      ]
    },
    {
      "cell_type": "code",
      "source": [
        "vec_bow = gensim_dictionary.doc2bow(doc_tokenized)\n",
        "vec_bow"
      ],
      "metadata": {
        "colab": {
          "base_uri": "https://localhost:8080/"
        },
        "id": "WPal9PcGP0ps",
        "outputId": "2475952d-bd17-4ad4-e1cd-23e963765ef4"
      },
      "execution_count": null,
      "outputs": [
        {
          "output_type": "execute_result",
          "data": {
            "text/plain": [
              "[(28, 1), (31, 1), (32, 1), (35, 1), (37, 1), (2099, 1)]"
            ]
          },
          "metadata": {},
          "execution_count": 11
        }
      ]
    },
    {
      "cell_type": "code",
      "source": [
        "from gensim.models import TfidfModel\n",
        "tfidf = TfidfModel(bow_corpus)\n",
        "vec_tfidf = tfidf[vec_bow]\n",
        "vec_tfidf"
      ],
      "metadata": {
        "colab": {
          "base_uri": "https://localhost:8080/"
        },
        "id": "HvK2xy6sRqmN",
        "outputId": "286c5f99-5a79-4d11-e618-09f8ef5d5b4a"
      },
      "execution_count": null,
      "outputs": [
        {
          "output_type": "execute_result",
          "data": {
            "text/plain": [
              "[(28, 0.413722234207753),\n",
              " (31, 0.36285954267555626),\n",
              " (32, 0.3916480509570918),\n",
              " (35, 0.4699070384454736),\n",
              " (37, 0.2806698374889378),\n",
              " (2099, 0.49415633855722196)]"
            ]
          },
          "metadata": {},
          "execution_count": 12
        }
      ]
    },
    {
      "cell_type": "code",
      "source": [
        "vec_lsi = lsi_model[vec_tfidf]\n",
        "print(len(vec_lsi))"
      ],
      "metadata": {
        "id": "hgQxLWn2UJkh",
        "colab": {
          "base_uri": "https://localhost:8080/"
        },
        "outputId": "31d0c29c-faa0-456a-d3b6-8086ff281ec5"
      },
      "execution_count": null,
      "outputs": [
        {
          "output_type": "stream",
          "name": "stdout",
          "text": [
            "150\n"
          ]
        }
      ]
    },
    {
      "cell_type": "code",
      "source": [
        "vec_lsi[0:5]"
      ],
      "metadata": {
        "colab": {
          "base_uri": "https://localhost:8080/"
        },
        "id": "lApeS7f6CTKh",
        "outputId": "39af6cff-265d-4c21-dbab-e5aaa9034489"
      },
      "execution_count": null,
      "outputs": [
        {
          "output_type": "execute_result",
          "data": {
            "text/plain": [
              "[(0, 0.0942167351687923),\n",
              " (1, -0.05642261154087168),\n",
              " (2, 0.07324164759330441),\n",
              " (3, -0.21816624925484687),\n",
              " (4, -0.0456915079703938)]"
            ]
          },
          "metadata": {},
          "execution_count": 14
        }
      ]
    },
    {
      "cell_type": "code",
      "source": [
        "from gensim import similarities\n",
        "index = similarities.MatrixSimilarity(lsi_model[tfidf_corpus])"
      ],
      "metadata": {
        "id": "qxle2XuAWGVv",
        "colab": {
          "base_uri": "https://localhost:8080/"
        },
        "outputId": "df5c91dd-aae8-44ee-b10d-a21a43be17c9"
      },
      "execution_count": null,
      "outputs": [
        {
          "output_type": "stream",
          "name": "stderr",
          "text": [
            "WARNING:gensim.similarities.docsim:scanning corpus to determine the number of features (consider setting `num_features` explicitly)\n"
          ]
        }
      ]
    },
    {
      "cell_type": "code",
      "source": [
        "import pprint as pp\n",
        "sims = index[vec_lsi]  # perform a similarity query against the corpus\n",
        "sims\n",
        "#pp.pprint(list(enumerate(sims))[0:10])  # print (document_number, document_similarity) 2-tuples"
      ],
      "metadata": {
        "id": "NWpGBddLXDoI",
        "colab": {
          "base_uri": "https://localhost:8080/"
        },
        "outputId": "a11e5b28-3a87-4e97-ff58-bbf70405a1cc"
      },
      "execution_count": null,
      "outputs": [
        {
          "output_type": "execute_result",
          "data": {
            "text/plain": [
              "array([ 0.15549277, -0.08580323,  0.6605106 , ...,  0.01350161,\n",
              "       -0.02669507, -0.06476542], dtype=float32)"
            ]
          },
          "metadata": {},
          "execution_count": 17
        }
      ]
    },
    {
      "cell_type": "code",
      "source": [
        "len(sims)"
      ],
      "metadata": {
        "id": "WRpuKVvNCRNg",
        "colab": {
          "base_uri": "https://localhost:8080/"
        },
        "outputId": "8e987b50-2343-443c-c8a2-96a46cc6a278"
      },
      "execution_count": null,
      "outputs": [
        {
          "output_type": "execute_result",
          "data": {
            "text/plain": [
              "120000"
            ]
          },
          "metadata": {},
          "execution_count": 18
        }
      ]
    },
    {
      "cell_type": "code",
      "source": [
        "my_outcome = list(enumerate(sims))"
      ],
      "metadata": {
        "id": "fE7dxWQcUlsV"
      },
      "execution_count": null,
      "outputs": []
    },
    {
      "cell_type": "code",
      "source": [
        "my_outcome.sort(key=lambda a: a[1], reverse=True)\n",
        "pp.pprint(my_outcome[0:10])"
      ],
      "metadata": {
        "id": "2q92kw03XPKX",
        "colab": {
          "base_uri": "https://localhost:8080/"
        },
        "outputId": "4147d62d-14b6-46f9-e423-b5b780bce12c"
      },
      "execution_count": null,
      "outputs": [
        {
          "output_type": "stream",
          "name": "stdout",
          "text": [
            "[(93167, 0.78405493),\n",
            " (24164, 0.78052753),\n",
            " (20267, 0.7723593),\n",
            " (68823, 0.76993084),\n",
            " (5313, 0.76508605),\n",
            " (7198, 0.7607913),\n",
            " (44747, 0.758785),\n",
            " (66982, 0.74543446),\n",
            " (61143, 0.74483055),\n",
            " (24636, 0.73511076)]\n"
          ]
        }
      ]
    },
    {
      "cell_type": "code",
      "source": [
        "train['Description'][93167]"
      ],
      "metadata": {
        "id": "E8qpFX32FzOt",
        "colab": {
          "base_uri": "https://localhost:8080/",
          "height": 35
        },
        "outputId": "8b680740-c1e2-47e3-a7ce-a5ed15fea1d6"
      },
      "execution_count": null,
      "outputs": [
        {
          "output_type": "execute_result",
          "data": {
            "text/plain": [
              "'A huge jump in wholesale prices sent stocks falling yesterday as investors worried that rising oil prices were taking a toll on the overall economy.'"
            ],
            "application/vnd.google.colaboratory.intrinsic+json": {
              "type": "string"
            }
          },
          "metadata": {},
          "execution_count": 116
        }
      ]
    },
    {
      "cell_type": "code",
      "source": [],
      "metadata": {
        "id": "1m-PQrFyIIOF"
      },
      "execution_count": null,
      "outputs": []
    },
    {
      "cell_type": "code",
      "source": [
        "train['Description'][24164]"
      ],
      "metadata": {
        "colab": {
          "base_uri": "https://localhost:8080/",
          "height": 35
        },
        "id": "yxWJkd62V4s7",
        "outputId": "72f4917c-b69a-4f2e-8574-c090aeef5d91"
      },
      "execution_count": null,
      "outputs": [
        {
          "output_type": "execute_result",
          "data": {
            "text/plain": [
              "'A sharp decline in oil prices and a surprise drop in wholesale prices pushed stocks higher Friday as investors #39; concerns about third quarter earnings were mitigated.'"
            ],
            "application/vnd.google.colaboratory.intrinsic+json": {
              "type": "string"
            }
          },
          "metadata": {},
          "execution_count": 117
        }
      ]
    },
    {
      "cell_type": "code",
      "source": [
        "train['Description'][20267]"
      ],
      "metadata": {
        "colab": {
          "base_uri": "https://localhost:8080/",
          "height": 35
        },
        "id": "hylr-k6WWAOm",
        "outputId": "0f259611-a050-4d33-aaf8-a369cbcbaf5d"
      },
      "execution_count": null,
      "outputs": [
        {
          "output_type": "execute_result",
          "data": {
            "text/plain": [
              "'In a bid to relieve Western economies of the unprecedented rise in oil prices, Saudi Arabia has slashed prices for its crude sales for October.'"
            ],
            "application/vnd.google.colaboratory.intrinsic+json": {
              "type": "string"
            }
          },
          "metadata": {},
          "execution_count": 118
        }
      ]
    },
    {
      "cell_type": "code",
      "source": [
        "train['Description'][68823]"
      ],
      "metadata": {
        "colab": {
          "base_uri": "https://localhost:8080/",
          "height": 35
        },
        "id": "Ryp0Q2qmcVVD",
        "outputId": "872d692e-d7e2-47b0-cbb8-5c2c73dc1733"
      },
      "execution_count": null,
      "outputs": [
        {
          "output_type": "execute_result",
          "data": {
            "text/plain": [
              "'US Treasury debt prices eased on Friday as a dearth of economic indicators led investors to ponder the impact of high oil prices on the economy and interest rates.'"
            ],
            "application/vnd.google.colaboratory.intrinsic+json": {
              "type": "string"
            }
          },
          "metadata": {},
          "execution_count": 119
        }
      ]
    },
    {
      "cell_type": "code",
      "source": [],
      "metadata": {
        "id": "6rN9tENsTvh-"
      },
      "execution_count": null,
      "outputs": []
    }
  ],
  "metadata": {
    "colab": {
      "provenance": []
    },
    "kernelspec": {
      "display_name": "Python 3",
      "name": "python3"
    },
    "language_info": {
      "name": "python"
    }
  },
  "nbformat": 4,
  "nbformat_minor": 0
}