{
  "cells": [
    {
      "cell_type": "markdown",
      "metadata": {
        "id": "rEhNKtq7Lx3u"
      },
      "source": [
        "## Word2Vec"
      ]
    },
    {
      "cell_type": "markdown",
      "source": [
        "### GoogleNews-vectors-negative300.bin"
      ],
      "metadata": {
        "id": "bD-RHJ2Ofo9i"
      }
    },
    {
      "cell_type": "code",
      "source": [
        "import gensim\n",
        "from gensim.models import Word2Vec,KeyedVectors"
      ],
      "metadata": {
        "id": "ZUJMiajke8Pt"
      },
      "execution_count": 13,
      "outputs": []
    },
    {
      "cell_type": "code",
      "source": [
        "folder = '/content/gdrive/My Drive/data/'"
      ],
      "metadata": {
        "id": "ZrqUwbsTe8ST"
      },
      "execution_count": 14,
      "outputs": []
    },
    {
      "cell_type": "code",
      "source": [
        "data_file = 'GoogleNews-vectors-negative300.bin'\n",
        "#model = KeyedVectors.load_word2vec_format(folder + data_file ,binary=True,limit=100000)"
      ],
      "metadata": {
        "id": "9Ft1-ww4e8Un"
      },
      "execution_count": 16,
      "outputs": []
    },
    {
      "cell_type": "code",
      "source": [
        "vec = model['car']\n",
        "print(vec)"
      ],
      "metadata": {
        "id": "ri2ziuDRe8Wu"
      },
      "execution_count": null,
      "outputs": []
    },
    {
      "cell_type": "code",
      "source": [
        "model.most_similar('car')"
      ],
      "metadata": {
        "id": "nrgUZVyHe8Y-"
      },
      "execution_count": null,
      "outputs": []
    },
    {
      "cell_type": "code",
      "source": [
        "model.most_similar('Ford')"
      ],
      "metadata": {
        "id": "RKwP9a-1faCI"
      },
      "execution_count": null,
      "outputs": []
    },
    {
      "cell_type": "code",
      "source": [
        "model.most_similar('Kia')"
      ],
      "metadata": {
        "id": "zMkImd2YfaEd"
      },
      "execution_count": null,
      "outputs": []
    },
    {
      "cell_type": "code",
      "source": [
        "vec = model['minivan'] - model['sedan']\n",
        "model.most_similar([vec])"
      ],
      "metadata": {
        "id": "yPrFzaQZfaGk"
      },
      "execution_count": null,
      "outputs": []
    },
    {
      "cell_type": "code",
      "source": [
        "vec = model['Ferraris'] + model['Porsches']\n",
        "model.most_similar([vec])"
      ],
      "metadata": {
        "id": "vz60oz1XfaIg"
      },
      "execution_count": null,
      "outputs": []
    },
    {
      "cell_type": "code",
      "source": [],
      "metadata": {
        "id": "-xnwiQdqfaLC"
      },
      "execution_count": null,
      "outputs": []
    },
    {
      "cell_type": "code",
      "source": [],
      "metadata": {
        "id": "cPT_XBcVfaNu"
      },
      "execution_count": null,
      "outputs": []
    },
    {
      "cell_type": "code",
      "source": [],
      "metadata": {
        "id": "YN0Rkoc4e8bf"
      },
      "execution_count": null,
      "outputs": []
    },
    {
      "cell_type": "code",
      "execution_count": 1,
      "metadata": {
        "id": "ofXd5gWELGHu",
        "colab": {
          "base_uri": "https://localhost:8080/"
        },
        "outputId": "79fb6f0b-70bb-44a6-ec6a-cbcefb6144d9"
      },
      "outputs": [
        {
          "output_type": "stream",
          "name": "stdout",
          "text": [
            "Mounted at /content/gdrive\n"
          ]
        }
      ],
      "source": [
        "from google.colab import drive\n",
        "drive.mount('/content/gdrive')"
      ]
    },
    {
      "cell_type": "markdown",
      "source": [
        "### (A) Load the AG news data"
      ],
      "metadata": {
        "id": "XA9V5xUi34C_"
      }
    },
    {
      "cell_type": "code",
      "execution_count": 2,
      "metadata": {
        "colab": {
          "base_uri": "https://localhost:8080/"
        },
        "id": "fvoa4QAjdNpx",
        "outputId": "b402d5e0-d317-4c5c-cf98-c60c776b8f5e"
      },
      "outputs": [
        {
          "output_type": "stream",
          "name": "stderr",
          "text": [
            "<ipython-input-2-8e2444a69882>:3: FutureWarning: Passing a negative integer is deprecated in version 1.0 and will not be supported in future version. Instead, use None to not limit the column width.\n",
            "  pd.set_option('display.max_colwidth', -1)\n"
          ]
        }
      ],
      "source": [
        "import pandas as pd\n",
        "import numpy as np\n",
        "pd.set_option('display.max_colwidth', -1)\n",
        "data = pd.read_csv(\"/content/gdrive/My Drive/data/gensim/ag_news_train.csv\")\n",
        "#train = train[train['Class Index']==3]"
      ]
    },
    {
      "cell_type": "code",
      "source": [
        "train = list(data['Description'])\n",
        "train_length = len(train)\n",
        "print(train_length)"
      ],
      "metadata": {
        "colab": {
          "base_uri": "https://localhost:8080/"
        },
        "id": "RSYTJ1g78V3Q",
        "outputId": "71d3d2ae-3486-4f2f-b16f-efba724dbef1"
      },
      "execution_count": 3,
      "outputs": [
        {
          "output_type": "stream",
          "name": "stdout",
          "text": [
            "120000\n"
          ]
        }
      ]
    },
    {
      "cell_type": "code",
      "execution_count": 4,
      "metadata": {
        "id": "RHvQifP3t2ZS"
      },
      "outputs": [],
      "source": [
        "from gensim.parsing.preprocessing import preprocess_string\n",
        "text_tokenized = []\n",
        "for doc in train:\n",
        "   k = preprocess_string(doc)\n",
        "   text_tokenized.append(k)"
      ]
    },
    {
      "cell_type": "code",
      "execution_count": 5,
      "metadata": {
        "colab": {
          "base_uri": "https://localhost:8080/"
        },
        "id": "CixRoRzUavdg",
        "outputId": "aff6b658-a891-44b3-ca8f-6d91009a4891"
      },
      "outputs": [
        {
          "output_type": "execute_result",
          "data": {
            "text/plain": [
              "[['reuter',\n",
              "  'short',\n",
              "  'seller',\n",
              "  'wall',\n",
              "  'street',\n",
              "  'dwindl',\n",
              "  'band',\n",
              "  'ultra',\n",
              "  'cynic',\n",
              "  'see',\n",
              "  'green'],\n",
              " ['reuter',\n",
              "  'privat',\n",
              "  'invest',\n",
              "  'firm',\n",
              "  'carlyl',\n",
              "  'group',\n",
              "  'reput',\n",
              "  'make',\n",
              "  'time',\n",
              "  'occasion',\n",
              "  'controversi',\n",
              "  'plai',\n",
              "  'defens',\n",
              "  'industri',\n",
              "  'quietli',\n",
              "  'place',\n",
              "  'bet',\n",
              "  'market'],\n",
              " ['reuter',\n",
              "  'soar',\n",
              "  'crude',\n",
              "  'price',\n",
              "  'plu',\n",
              "  'worri',\n",
              "  'economi',\n",
              "  'outlook',\n",
              "  'earn',\n",
              "  'expect',\n",
              "  'hang',\n",
              "  'stock',\n",
              "  'market',\n",
              "  'week',\n",
              "  'depth',\n",
              "  'summer',\n",
              "  'doldrum']]"
            ]
          },
          "metadata": {},
          "execution_count": 5
        }
      ],
      "source": [
        "text_tokenized[0:3]"
      ]
    },
    {
      "cell_type": "markdown",
      "metadata": {
        "id": "Tp4lgt07lumX"
      },
      "source": [
        "- Remember to re-use the code from Chapter 2. Do not re-invent the wheel."
      ]
    },
    {
      "cell_type": "code",
      "source": [
        "# Gensim Libraries\n",
        "import gensim\n",
        "import pprint as pp\n",
        "import random\n",
        "from gensim.models import Word2Vec,KeyedVectors"
      ],
      "metadata": {
        "id": "wXV871xqU15O"
      },
      "execution_count": 6,
      "outputs": []
    },
    {
      "cell_type": "markdown",
      "source": [
        "### (C) Modeling - CBOW"
      ],
      "metadata": {
        "id": "N-4jXeSJj0Co"
      }
    },
    {
      "cell_type": "code",
      "source": [
        "cbow_model = Word2Vec(sentences=text_tokenized, sg=0, min_count=10, window =3)"
      ],
      "metadata": {
        "id": "UVWhLYbtfbAC"
      },
      "execution_count": 7,
      "outputs": []
    },
    {
      "cell_type": "markdown",
      "source": [
        "###(D) Save"
      ],
      "metadata": {
        "id": "DIPjW0EWb_3F"
      }
    },
    {
      "cell_type": "code",
      "source": [
        "# The model\n",
        "cbow_model.save(\"/content/gdrive/My Drive/data/gensim/cbow.model\")"
      ],
      "metadata": {
        "id": "82hWqrr-7rNI"
      },
      "execution_count": 8,
      "outputs": []
    },
    {
      "cell_type": "markdown",
      "source": [
        "### (E) Load"
      ],
      "metadata": {
        "id": "R5fHRRTKZhcD"
      }
    },
    {
      "cell_type": "code",
      "source": [
        "loaded_cbow = Word2Vec.load(\"/content/gdrive/My Drive/data/gensim/cbow.model\")"
      ],
      "metadata": {
        "id": "J5aJpmsPZYtP"
      },
      "execution_count": 9,
      "outputs": []
    },
    {
      "cell_type": "markdown",
      "source": [
        "### (F) Use the model"
      ],
      "metadata": {
        "id": "UlxWSzw5Z2mB"
      }
    },
    {
      "cell_type": "code",
      "source": [
        "loaded_cbow.wv.most_similar('stock', topn=10)  # get other similar words"
      ],
      "metadata": {
        "colab": {
          "base_uri": "https://localhost:8080/"
        },
        "id": "yUlNsJ8zZ4-i",
        "outputId": "a2ccfaab-8879-4fb6-d078-2c9ff770fe00"
      },
      "execution_count": 10,
      "outputs": [
        {
          "output_type": "execute_result",
          "data": {
            "text/plain": [
              "[('share', 0.6857225894927979),\n",
              " ('currenc', 0.6246733665466309),\n",
              " ('dollar', 0.5849160552024841),\n",
              " ('mercantil', 0.5785827040672302),\n",
              " ('index', 0.5776132941246033),\n",
              " ('yen', 0.5711300373077393),\n",
              " ('benchmark', 0.564158022403717),\n",
              " ('volum', 0.5625597238540649),\n",
              " ('modestli', 0.538386344909668),\n",
              " ('sharpli', 0.5318207144737244)]"
            ]
          },
          "metadata": {},
          "execution_count": 10
        }
      ]
    },
    {
      "cell_type": "markdown",
      "source": [
        "### (G) Modeling - SG"
      ],
      "metadata": {
        "id": "pyGclmkGcTbe"
      }
    },
    {
      "cell_type": "code",
      "source": [
        "sg_model = Word2Vec(sentences=text_tokenized, sg=1, min_count=10, window =3)"
      ],
      "metadata": {
        "id": "u_zLjiM1jhJX"
      },
      "execution_count": 11,
      "outputs": []
    },
    {
      "cell_type": "code",
      "source": [
        "# The model\n",
        "sg_model.save(\"/content/gdrive/My Drive/data/gensim/sg.model\")"
      ],
      "metadata": {
        "id": "PSgVndvgcXeV"
      },
      "execution_count": 12,
      "outputs": []
    },
    {
      "cell_type": "code",
      "source": [],
      "metadata": {
        "id": "ZdXBj3MNeJZx"
      },
      "execution_count": 12,
      "outputs": []
    }
  ],
  "metadata": {
    "colab": {
      "provenance": []
    },
    "kernelspec": {
      "display_name": "Python 3",
      "name": "python3"
    },
    "language_info": {
      "name": "python"
    }
  },
  "nbformat": 4,
  "nbformat_minor": 0
}